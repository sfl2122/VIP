{
 "cells": [
  {
   "cell_type": "code",
   "execution_count": null,
   "metadata": {
    "colab": {
     "base_uri": "https://localhost:8080/"
    },
    "id": "BdM-LuNJp7Bk",
    "outputId": "2cc6d20c-ecd0-4a5a-92d8-86e4bd66225d"
   },
   "outputs": [
    {
     "name": "stdout",
     "output_type": "stream",
     "text": [
      "Collecting witwidget\n",
      "  Downloading witwidget-1.8.1-py3-none-any.whl (1.5 MB)\n",
      "\u001b[?25l\r",
      "\u001b[K     |▏                               | 10 kB 18.8 MB/s eta 0:00:01\r",
      "\u001b[K     |▍                               | 20 kB 11.7 MB/s eta 0:00:01\r",
      "\u001b[K     |▋                               | 30 kB 9.3 MB/s eta 0:00:01\r",
      "\u001b[K     |▉                               | 40 kB 8.3 MB/s eta 0:00:01\r",
      "\u001b[K     |█                               | 51 kB 4.5 MB/s eta 0:00:01\r",
      "\u001b[K     |█▎                              | 61 kB 5.2 MB/s eta 0:00:01\r",
      "\u001b[K     |█▌                              | 71 kB 5.4 MB/s eta 0:00:01\r",
      "\u001b[K     |█▊                              | 81 kB 5.3 MB/s eta 0:00:01\r",
      "\u001b[K     |██                              | 92 kB 5.9 MB/s eta 0:00:01\r",
      "\u001b[K     |██▏                             | 102 kB 5.0 MB/s eta 0:00:01\r",
      "\u001b[K     |██▎                             | 112 kB 5.0 MB/s eta 0:00:01\r",
      "\u001b[K     |██▌                             | 122 kB 5.0 MB/s eta 0:00:01\r",
      "\u001b[K     |██▊                             | 133 kB 5.0 MB/s eta 0:00:01\r",
      "\u001b[K     |███                             | 143 kB 5.0 MB/s eta 0:00:01\r",
      "\u001b[K     |███▏                            | 153 kB 5.0 MB/s eta 0:00:01\r",
      "\u001b[K     |███▍                            | 163 kB 5.0 MB/s eta 0:00:01\r",
      "\u001b[K     |███▋                            | 174 kB 5.0 MB/s eta 0:00:01\r",
      "\u001b[K     |███▉                            | 184 kB 5.0 MB/s eta 0:00:01\r",
      "\u001b[K     |████                            | 194 kB 5.0 MB/s eta 0:00:01\r",
      "\u001b[K     |████▎                           | 204 kB 5.0 MB/s eta 0:00:01\r",
      "\u001b[K     |████▌                           | 215 kB 5.0 MB/s eta 0:00:01\r",
      "\u001b[K     |████▋                           | 225 kB 5.0 MB/s eta 0:00:01\r",
      "\u001b[K     |████▉                           | 235 kB 5.0 MB/s eta 0:00:01\r",
      "\u001b[K     |█████                           | 245 kB 5.0 MB/s eta 0:00:01\r",
      "\u001b[K     |█████▎                          | 256 kB 5.0 MB/s eta 0:00:01\r",
      "\u001b[K     |█████▌                          | 266 kB 5.0 MB/s eta 0:00:01\r",
      "\u001b[K     |█████▊                          | 276 kB 5.0 MB/s eta 0:00:01\r",
      "\u001b[K     |██████                          | 286 kB 5.0 MB/s eta 0:00:01\r",
      "\u001b[K     |██████▏                         | 296 kB 5.0 MB/s eta 0:00:01\r",
      "\u001b[K     |██████▍                         | 307 kB 5.0 MB/s eta 0:00:01\r",
      "\u001b[K     |██████▋                         | 317 kB 5.0 MB/s eta 0:00:01\r",
      "\u001b[K     |██████▊                         | 327 kB 5.0 MB/s eta 0:00:01\r",
      "\u001b[K     |███████                         | 337 kB 5.0 MB/s eta 0:00:01\r",
      "\u001b[K     |███████▏                        | 348 kB 5.0 MB/s eta 0:00:01\r",
      "\u001b[K     |███████▍                        | 358 kB 5.0 MB/s eta 0:00:01\r",
      "\u001b[K     |███████▋                        | 368 kB 5.0 MB/s eta 0:00:01\r",
      "\u001b[K     |███████▉                        | 378 kB 5.0 MB/s eta 0:00:01\r",
      "\u001b[K     |████████                        | 389 kB 5.0 MB/s eta 0:00:01\r",
      "\u001b[K     |████████▎                       | 399 kB 5.0 MB/s eta 0:00:01\r",
      "\u001b[K     |████████▌                       | 409 kB 5.0 MB/s eta 0:00:01\r",
      "\u001b[K     |████████▊                       | 419 kB 5.0 MB/s eta 0:00:01\r",
      "\u001b[K     |█████████                       | 430 kB 5.0 MB/s eta 0:00:01\r",
      "\u001b[K     |█████████                       | 440 kB 5.0 MB/s eta 0:00:01\r",
      "\u001b[K     |█████████▎                      | 450 kB 5.0 MB/s eta 0:00:01\r",
      "\u001b[K     |█████████▌                      | 460 kB 5.0 MB/s eta 0:00:01\r",
      "\u001b[K     |█████████▊                      | 471 kB 5.0 MB/s eta 0:00:01\r",
      "\u001b[K     |██████████                      | 481 kB 5.0 MB/s eta 0:00:01\r",
      "\u001b[K     |██████████▏                     | 491 kB 5.0 MB/s eta 0:00:01\r",
      "\u001b[K     |██████████▍                     | 501 kB 5.0 MB/s eta 0:00:01\r",
      "\u001b[K     |██████████▋                     | 512 kB 5.0 MB/s eta 0:00:01\r",
      "\u001b[K     |██████████▉                     | 522 kB 5.0 MB/s eta 0:00:01\r",
      "\u001b[K     |███████████                     | 532 kB 5.0 MB/s eta 0:00:01\r",
      "\u001b[K     |███████████▏                    | 542 kB 5.0 MB/s eta 0:00:01\r",
      "\u001b[K     |███████████▍                    | 552 kB 5.0 MB/s eta 0:00:01\r",
      "\u001b[K     |███████████▋                    | 563 kB 5.0 MB/s eta 0:00:01\r",
      "\u001b[K     |███████████▉                    | 573 kB 5.0 MB/s eta 0:00:01\r",
      "\u001b[K     |████████████                    | 583 kB 5.0 MB/s eta 0:00:01\r",
      "\u001b[K     |████████████▎                   | 593 kB 5.0 MB/s eta 0:00:01\r",
      "\u001b[K     |████████████▌                   | 604 kB 5.0 MB/s eta 0:00:01\r",
      "\u001b[K     |████████████▊                   | 614 kB 5.0 MB/s eta 0:00:01\r",
      "\u001b[K     |█████████████                   | 624 kB 5.0 MB/s eta 0:00:01\r",
      "\u001b[K     |█████████████▏                  | 634 kB 5.0 MB/s eta 0:00:01\r",
      "\u001b[K     |█████████████▍                  | 645 kB 5.0 MB/s eta 0:00:01\r",
      "\u001b[K     |█████████████▌                  | 655 kB 5.0 MB/s eta 0:00:01\r",
      "\u001b[K     |█████████████▊                  | 665 kB 5.0 MB/s eta 0:00:01\r",
      "\u001b[K     |██████████████                  | 675 kB 5.0 MB/s eta 0:00:01\r",
      "\u001b[K     |██████████████▏                 | 686 kB 5.0 MB/s eta 0:00:01\r",
      "\u001b[K     |██████████████▍                 | 696 kB 5.0 MB/s eta 0:00:01\r",
      "\u001b[K     |██████████████▋                 | 706 kB 5.0 MB/s eta 0:00:01\r",
      "\u001b[K     |██████████████▉                 | 716 kB 5.0 MB/s eta 0:00:01\r",
      "\u001b[K     |███████████████                 | 727 kB 5.0 MB/s eta 0:00:01\r",
      "\u001b[K     |███████████████▎                | 737 kB 5.0 MB/s eta 0:00:01\r",
      "\u001b[K     |███████████████▌                | 747 kB 5.0 MB/s eta 0:00:01\r",
      "\u001b[K     |███████████████▊                | 757 kB 5.0 MB/s eta 0:00:01\r",
      "\u001b[K     |███████████████▉                | 768 kB 5.0 MB/s eta 0:00:01\r",
      "\u001b[K     |████████████████                | 778 kB 5.0 MB/s eta 0:00:01\r",
      "\u001b[K     |████████████████▎               | 788 kB 5.0 MB/s eta 0:00:01\r",
      "\u001b[K     |████████████████▌               | 798 kB 5.0 MB/s eta 0:00:01\r",
      "\u001b[K     |████████████████▊               | 808 kB 5.0 MB/s eta 0:00:01\r",
      "\u001b[K     |█████████████████               | 819 kB 5.0 MB/s eta 0:00:01\r",
      "\u001b[K     |█████████████████▏              | 829 kB 5.0 MB/s eta 0:00:01\r",
      "\u001b[K     |█████████████████▍              | 839 kB 5.0 MB/s eta 0:00:01\r",
      "\u001b[K     |█████████████████▋              | 849 kB 5.0 MB/s eta 0:00:01\r",
      "\u001b[K     |█████████████████▉              | 860 kB 5.0 MB/s eta 0:00:01\r",
      "\u001b[K     |██████████████████              | 870 kB 5.0 MB/s eta 0:00:01\r",
      "\u001b[K     |██████████████████▏             | 880 kB 5.0 MB/s eta 0:00:01\r",
      "\u001b[K     |██████████████████▍             | 890 kB 5.0 MB/s eta 0:00:01\r",
      "\u001b[K     |██████████████████▋             | 901 kB 5.0 MB/s eta 0:00:01\r",
      "\u001b[K     |██████████████████▉             | 911 kB 5.0 MB/s eta 0:00:01\r",
      "\u001b[K     |███████████████████             | 921 kB 5.0 MB/s eta 0:00:01\r",
      "\u001b[K     |███████████████████▎            | 931 kB 5.0 MB/s eta 0:00:01\r",
      "\u001b[K     |███████████████████▌            | 942 kB 5.0 MB/s eta 0:00:01\r",
      "\u001b[K     |███████████████████▊            | 952 kB 5.0 MB/s eta 0:00:01\r",
      "\u001b[K     |████████████████████            | 962 kB 5.0 MB/s eta 0:00:01\r",
      "\u001b[K     |████████████████████▏           | 972 kB 5.0 MB/s eta 0:00:01\r",
      "\u001b[K     |████████████████████▎           | 983 kB 5.0 MB/s eta 0:00:01\r",
      "\u001b[K     |████████████████████▌           | 993 kB 5.0 MB/s eta 0:00:01\r",
      "\u001b[K     |████████████████████▊           | 1.0 MB 5.0 MB/s eta 0:00:01\r",
      "\u001b[K     |█████████████████████           | 1.0 MB 5.0 MB/s eta 0:00:01\r",
      "\u001b[K     |█████████████████████▏          | 1.0 MB 5.0 MB/s eta 0:00:01\r",
      "\u001b[K     |█████████████████████▍          | 1.0 MB 5.0 MB/s eta 0:00:01\r",
      "\u001b[K     |█████████████████████▋          | 1.0 MB 5.0 MB/s eta 0:00:01\r",
      "\u001b[K     |█████████████████████▉          | 1.1 MB 5.0 MB/s eta 0:00:01\r",
      "\u001b[K     |██████████████████████          | 1.1 MB 5.0 MB/s eta 0:00:01\r",
      "\u001b[K     |██████████████████████▎         | 1.1 MB 5.0 MB/s eta 0:00:01\r",
      "\u001b[K     |██████████████████████▍         | 1.1 MB 5.0 MB/s eta 0:00:01\r",
      "\u001b[K     |██████████████████████▋         | 1.1 MB 5.0 MB/s eta 0:00:01\r",
      "\u001b[K     |██████████████████████▉         | 1.1 MB 5.0 MB/s eta 0:00:01\r",
      "\u001b[K     |███████████████████████         | 1.1 MB 5.0 MB/s eta 0:00:01\r",
      "\u001b[K     |███████████████████████▎        | 1.1 MB 5.0 MB/s eta 0:00:01\r",
      "\u001b[K     |███████████████████████▌        | 1.1 MB 5.0 MB/s eta 0:00:01\r",
      "\u001b[K     |███████████████████████▊        | 1.1 MB 5.0 MB/s eta 0:00:01\r",
      "\u001b[K     |████████████████████████        | 1.2 MB 5.0 MB/s eta 0:00:01\r",
      "\u001b[K     |████████████████████████▏       | 1.2 MB 5.0 MB/s eta 0:00:01\r",
      "\u001b[K     |████████████████████████▍       | 1.2 MB 5.0 MB/s eta 0:00:01\r",
      "\u001b[K     |████████████████████████▋       | 1.2 MB 5.0 MB/s eta 0:00:01\r",
      "\u001b[K     |████████████████████████▊       | 1.2 MB 5.0 MB/s eta 0:00:01\r",
      "\u001b[K     |█████████████████████████       | 1.2 MB 5.0 MB/s eta 0:00:01\r",
      "\u001b[K     |█████████████████████████▏      | 1.2 MB 5.0 MB/s eta 0:00:01\r",
      "\u001b[K     |█████████████████████████▍      | 1.2 MB 5.0 MB/s eta 0:00:01\r",
      "\u001b[K     |█████████████████████████▋      | 1.2 MB 5.0 MB/s eta 0:00:01\r",
      "\u001b[K     |█████████████████████████▉      | 1.2 MB 5.0 MB/s eta 0:00:01\r",
      "\u001b[K     |██████████████████████████      | 1.3 MB 5.0 MB/s eta 0:00:01\r",
      "\u001b[K     |██████████████████████████▎     | 1.3 MB 5.0 MB/s eta 0:00:01\r",
      "\u001b[K     |██████████████████████████▌     | 1.3 MB 5.0 MB/s eta 0:00:01\r",
      "\u001b[K     |██████████████████████████▊     | 1.3 MB 5.0 MB/s eta 0:00:01\r",
      "\u001b[K     |███████████████████████████     | 1.3 MB 5.0 MB/s eta 0:00:01\r",
      "\u001b[K     |███████████████████████████     | 1.3 MB 5.0 MB/s eta 0:00:01\r",
      "\u001b[K     |███████████████████████████▎    | 1.3 MB 5.0 MB/s eta 0:00:01\r",
      "\u001b[K     |███████████████████████████▌    | 1.3 MB 5.0 MB/s eta 0:00:01\r",
      "\u001b[K     |███████████████████████████▊    | 1.3 MB 5.0 MB/s eta 0:00:01\r",
      "\u001b[K     |████████████████████████████    | 1.4 MB 5.0 MB/s eta 0:00:01\r",
      "\u001b[K     |████████████████████████████▏   | 1.4 MB 5.0 MB/s eta 0:00:01\r",
      "\u001b[K     |████████████████████████████▍   | 1.4 MB 5.0 MB/s eta 0:00:01\r",
      "\u001b[K     |████████████████████████████▋   | 1.4 MB 5.0 MB/s eta 0:00:01\r",
      "\u001b[K     |████████████████████████████▉   | 1.4 MB 5.0 MB/s eta 0:00:01\r",
      "\u001b[K     |█████████████████████████████   | 1.4 MB 5.0 MB/s eta 0:00:01\r",
      "\u001b[K     |█████████████████████████████▏  | 1.4 MB 5.0 MB/s eta 0:00:01\r",
      "\u001b[K     |█████████████████████████████▍  | 1.4 MB 5.0 MB/s eta 0:00:01\r",
      "\u001b[K     |█████████████████████████████▋  | 1.4 MB 5.0 MB/s eta 0:00:01\r",
      "\u001b[K     |█████████████████████████████▉  | 1.4 MB 5.0 MB/s eta 0:00:01\r",
      "\u001b[K     |██████████████████████████████  | 1.5 MB 5.0 MB/s eta 0:00:01\r",
      "\u001b[K     |██████████████████████████████▎ | 1.5 MB 5.0 MB/s eta 0:00:01\r",
      "\u001b[K     |██████████████████████████████▌ | 1.5 MB 5.0 MB/s eta 0:00:01\r",
      "\u001b[K     |██████████████████████████████▊ | 1.5 MB 5.0 MB/s eta 0:00:01\r",
      "\u001b[K     |███████████████████████████████ | 1.5 MB 5.0 MB/s eta 0:00:01\r",
      "\u001b[K     |███████████████████████████████▏| 1.5 MB 5.0 MB/s eta 0:00:01\r",
      "\u001b[K     |███████████████████████████████▍| 1.5 MB 5.0 MB/s eta 0:00:01\r",
      "\u001b[K     |███████████████████████████████▌| 1.5 MB 5.0 MB/s eta 0:00:01\r",
      "\u001b[K     |███████████████████████████████▊| 1.5 MB 5.0 MB/s eta 0:00:01\r",
      "\u001b[K     |████████████████████████████████| 1.5 MB 5.0 MB/s eta 0:00:01\r",
      "\u001b[K     |████████████████████████████████| 1.5 MB 5.0 MB/s \n",
      "\u001b[?25hRequirement already satisfied: oauth2client>=4.1.3 in /usr/local/lib/python3.7/dist-packages (from witwidget) (4.1.3)\n",
      "Requirement already satisfied: google-api-python-client>=1.7.8 in /usr/local/lib/python3.7/dist-packages (from witwidget) (1.12.11)\n",
      "Requirement already satisfied: absl-py>=0.4 in /usr/local/lib/python3.7/dist-packages (from witwidget) (1.0.0)\n",
      "Requirement already satisfied: six>=1.12.0 in /usr/local/lib/python3.7/dist-packages (from witwidget) (1.15.0)\n",
      "Requirement already satisfied: tensorflow>=1.12.1 in /usr/local/lib/python3.7/dist-packages (from witwidget) (2.8.0)\n",
      "Requirement already satisfied: ipywidgets>=7.0.0 in /usr/local/lib/python3.7/dist-packages (from witwidget) (7.7.0)\n",
      "Requirement already satisfied: google-api-core<3dev,>=1.21.0 in /usr/local/lib/python3.7/dist-packages (from google-api-python-client>=1.7.8->witwidget) (1.31.5)\n",
      "Requirement already satisfied: uritemplate<4dev,>=3.0.0 in /usr/local/lib/python3.7/dist-packages (from google-api-python-client>=1.7.8->witwidget) (3.0.1)\n",
      "Requirement already satisfied: google-auth-httplib2>=0.0.3 in /usr/local/lib/python3.7/dist-packages (from google-api-python-client>=1.7.8->witwidget) (0.0.4)\n",
      "Requirement already satisfied: httplib2<1dev,>=0.15.0 in /usr/local/lib/python3.7/dist-packages (from google-api-python-client>=1.7.8->witwidget) (0.17.4)\n",
      "Requirement already satisfied: google-auth<3dev,>=1.16.0 in /usr/local/lib/python3.7/dist-packages (from google-api-python-client>=1.7.8->witwidget) (1.35.0)\n",
      "Requirement already satisfied: requests<3.0.0dev,>=2.18.0 in /usr/local/lib/python3.7/dist-packages (from google-api-core<3dev,>=1.21.0->google-api-python-client>=1.7.8->witwidget) (2.23.0)\n",
      "Requirement already satisfied: packaging>=14.3 in /usr/local/lib/python3.7/dist-packages (from google-api-core<3dev,>=1.21.0->google-api-python-client>=1.7.8->witwidget) (21.3)\n",
      "Requirement already satisfied: setuptools>=40.3.0 in /usr/local/lib/python3.7/dist-packages (from google-api-core<3dev,>=1.21.0->google-api-python-client>=1.7.8->witwidget) (57.4.0)\n",
      "Requirement already satisfied: googleapis-common-protos<2.0dev,>=1.6.0 in /usr/local/lib/python3.7/dist-packages (from google-api-core<3dev,>=1.21.0->google-api-python-client>=1.7.8->witwidget) (1.56.0)\n",
      "Requirement already satisfied: protobuf>=3.12.0 in /usr/local/lib/python3.7/dist-packages (from google-api-core<3dev,>=1.21.0->google-api-python-client>=1.7.8->witwidget) (3.17.3)\n",
      "Requirement already satisfied: pytz in /usr/local/lib/python3.7/dist-packages (from google-api-core<3dev,>=1.21.0->google-api-python-client>=1.7.8->witwidget) (2018.9)\n",
      "Requirement already satisfied: cachetools<5.0,>=2.0.0 in /usr/local/lib/python3.7/dist-packages (from google-auth<3dev,>=1.16.0->google-api-python-client>=1.7.8->witwidget) (4.2.4)\n",
      "Requirement already satisfied: pyasn1-modules>=0.2.1 in /usr/local/lib/python3.7/dist-packages (from google-auth<3dev,>=1.16.0->google-api-python-client>=1.7.8->witwidget) (0.2.8)\n",
      "Requirement already satisfied: rsa<5,>=3.1.4 in /usr/local/lib/python3.7/dist-packages (from google-auth<3dev,>=1.16.0->google-api-python-client>=1.7.8->witwidget) (4.8)\n",
      "Requirement already satisfied: jupyterlab-widgets>=1.0.0 in /usr/local/lib/python3.7/dist-packages (from ipywidgets>=7.0.0->witwidget) (1.1.0)\n",
      "Requirement already satisfied: widgetsnbextension~=3.6.0 in /usr/local/lib/python3.7/dist-packages (from ipywidgets>=7.0.0->witwidget) (3.6.0)\n",
      "Requirement already satisfied: ipython>=4.0.0 in /usr/local/lib/python3.7/dist-packages (from ipywidgets>=7.0.0->witwidget) (5.5.0)\n",
      "Requirement already satisfied: ipykernel>=4.5.1 in /usr/local/lib/python3.7/dist-packages (from ipywidgets>=7.0.0->witwidget) (4.10.1)\n",
      "Requirement already satisfied: ipython-genutils~=0.2.0 in /usr/local/lib/python3.7/dist-packages (from ipywidgets>=7.0.0->witwidget) (0.2.0)\n",
      "Requirement already satisfied: traitlets>=4.3.1 in /usr/local/lib/python3.7/dist-packages (from ipywidgets>=7.0.0->witwidget) (5.1.1)\n",
      "Requirement already satisfied: nbformat>=4.2.0 in /usr/local/lib/python3.7/dist-packages (from ipywidgets>=7.0.0->witwidget) (5.3.0)\n",
      "Requirement already satisfied: tornado>=4.0 in /usr/local/lib/python3.7/dist-packages (from ipykernel>=4.5.1->ipywidgets>=7.0.0->witwidget) (5.1.1)\n",
      "Requirement already satisfied: jupyter-client in /usr/local/lib/python3.7/dist-packages (from ipykernel>=4.5.1->ipywidgets>=7.0.0->witwidget) (5.3.5)\n",
      "Requirement already satisfied: prompt-toolkit<2.0.0,>=1.0.4 in /usr/local/lib/python3.7/dist-packages (from ipython>=4.0.0->ipywidgets>=7.0.0->witwidget) (1.0.18)\n",
      "Requirement already satisfied: pickleshare in /usr/local/lib/python3.7/dist-packages (from ipython>=4.0.0->ipywidgets>=7.0.0->witwidget) (0.7.5)\n",
      "Requirement already satisfied: pygments in /usr/local/lib/python3.7/dist-packages (from ipython>=4.0.0->ipywidgets>=7.0.0->witwidget) (2.6.1)\n",
      "Requirement already satisfied: decorator in /usr/local/lib/python3.7/dist-packages (from ipython>=4.0.0->ipywidgets>=7.0.0->witwidget) (4.4.2)\n",
      "Requirement already satisfied: pexpect in /usr/local/lib/python3.7/dist-packages (from ipython>=4.0.0->ipywidgets>=7.0.0->witwidget) (4.8.0)\n",
      "Requirement already satisfied: simplegeneric>0.8 in /usr/local/lib/python3.7/dist-packages (from ipython>=4.0.0->ipywidgets>=7.0.0->witwidget) (0.8.1)\n",
      "Requirement already satisfied: jsonschema>=2.6 in /usr/local/lib/python3.7/dist-packages (from nbformat>=4.2.0->ipywidgets>=7.0.0->witwidget) (4.3.3)\n",
      "Requirement already satisfied: jupyter-core in /usr/local/lib/python3.7/dist-packages (from nbformat>=4.2.0->ipywidgets>=7.0.0->witwidget) (4.9.2)\n",
      "Requirement already satisfied: fastjsonschema in /usr/local/lib/python3.7/dist-packages (from nbformat>=4.2.0->ipywidgets>=7.0.0->witwidget) (2.15.3)\n",
      "Requirement already satisfied: importlib-resources>=1.4.0 in /usr/local/lib/python3.7/dist-packages (from jsonschema>=2.6->nbformat>=4.2.0->ipywidgets>=7.0.0->witwidget) (5.6.0)\n",
      "Requirement already satisfied: attrs>=17.4.0 in /usr/local/lib/python3.7/dist-packages (from jsonschema>=2.6->nbformat>=4.2.0->ipywidgets>=7.0.0->witwidget) (21.4.0)\n",
      "Requirement already satisfied: pyrsistent!=0.17.0,!=0.17.1,!=0.17.2,>=0.14.0 in /usr/local/lib/python3.7/dist-packages (from jsonschema>=2.6->nbformat>=4.2.0->ipywidgets>=7.0.0->witwidget) (0.18.1)\n",
      "Requirement already satisfied: importlib-metadata in /usr/local/lib/python3.7/dist-packages (from jsonschema>=2.6->nbformat>=4.2.0->ipywidgets>=7.0.0->witwidget) (4.11.3)\n",
      "Requirement already satisfied: typing-extensions in /usr/local/lib/python3.7/dist-packages (from jsonschema>=2.6->nbformat>=4.2.0->ipywidgets>=7.0.0->witwidget) (4.1.1)\n",
      "Requirement already satisfied: zipp>=3.1.0 in /usr/local/lib/python3.7/dist-packages (from importlib-resources>=1.4.0->jsonschema>=2.6->nbformat>=4.2.0->ipywidgets>=7.0.0->witwidget) (3.8.0)\n",
      "Requirement already satisfied: pyasn1>=0.1.7 in /usr/local/lib/python3.7/dist-packages (from oauth2client>=4.1.3->witwidget) (0.4.8)\n",
      "Requirement already satisfied: pyparsing!=3.0.5,>=2.0.2 in /usr/local/lib/python3.7/dist-packages (from packaging>=14.3->google-api-core<3dev,>=1.21.0->google-api-python-client>=1.7.8->witwidget) (3.0.8)\n",
      "Requirement already satisfied: wcwidth in /usr/local/lib/python3.7/dist-packages (from prompt-toolkit<2.0.0,>=1.0.4->ipython>=4.0.0->ipywidgets>=7.0.0->witwidget) (0.2.5)\n",
      "Requirement already satisfied: urllib3!=1.25.0,!=1.25.1,<1.26,>=1.21.1 in /usr/local/lib/python3.7/dist-packages (from requests<3.0.0dev,>=2.18.0->google-api-core<3dev,>=1.21.0->google-api-python-client>=1.7.8->witwidget) (1.24.3)\n",
      "Requirement already satisfied: idna<3,>=2.5 in /usr/local/lib/python3.7/dist-packages (from requests<3.0.0dev,>=2.18.0->google-api-core<3dev,>=1.21.0->google-api-python-client>=1.7.8->witwidget) (2.10)\n",
      "Requirement already satisfied: certifi>=2017.4.17 in /usr/local/lib/python3.7/dist-packages (from requests<3.0.0dev,>=2.18.0->google-api-core<3dev,>=1.21.0->google-api-python-client>=1.7.8->witwidget) (2021.10.8)\n",
      "Requirement already satisfied: chardet<4,>=3.0.2 in /usr/local/lib/python3.7/dist-packages (from requests<3.0.0dev,>=2.18.0->google-api-core<3dev,>=1.21.0->google-api-python-client>=1.7.8->witwidget) (3.0.4)\n",
      "Requirement already satisfied: tensorboard<2.9,>=2.8 in /usr/local/lib/python3.7/dist-packages (from tensorflow>=1.12.1->witwidget) (2.8.0)\n",
      "Requirement already satisfied: opt-einsum>=2.3.2 in /usr/local/lib/python3.7/dist-packages (from tensorflow>=1.12.1->witwidget) (3.3.0)\n",
      "Requirement already satisfied: gast>=0.2.1 in /usr/local/lib/python3.7/dist-packages (from tensorflow>=1.12.1->witwidget) (0.5.3)\n",
      "Requirement already satisfied: flatbuffers>=1.12 in /usr/local/lib/python3.7/dist-packages (from tensorflow>=1.12.1->witwidget) (2.0)\n",
      "Requirement already satisfied: grpcio<2.0,>=1.24.3 in /usr/local/lib/python3.7/dist-packages (from tensorflow>=1.12.1->witwidget) (1.44.0)\n",
      "Requirement already satisfied: astunparse>=1.6.0 in /usr/local/lib/python3.7/dist-packages (from tensorflow>=1.12.1->witwidget) (1.6.3)\n",
      "Requirement already satisfied: google-pasta>=0.1.1 in /usr/local/lib/python3.7/dist-packages (from tensorflow>=1.12.1->witwidget) (0.2.0)\n",
      "Requirement already satisfied: numpy>=1.20 in /usr/local/lib/python3.7/dist-packages (from tensorflow>=1.12.1->witwidget) (1.21.5)\n",
      "Collecting tf-estimator-nightly==2.8.0.dev2021122109\n",
      "  Downloading tf_estimator_nightly-2.8.0.dev2021122109-py2.py3-none-any.whl (462 kB)\n",
      "\u001b[K     |████████████████████████████████| 462 kB 45.2 MB/s \n",
      "\u001b[?25hRequirement already satisfied: termcolor>=1.1.0 in /usr/local/lib/python3.7/dist-packages (from tensorflow>=1.12.1->witwidget) (1.1.0)\n",
      "Requirement already satisfied: wrapt>=1.11.0 in /usr/local/lib/python3.7/dist-packages (from tensorflow>=1.12.1->witwidget) (1.14.0)\n",
      "Requirement already satisfied: tensorflow-io-gcs-filesystem>=0.23.1 in /usr/local/lib/python3.7/dist-packages (from tensorflow>=1.12.1->witwidget) (0.24.0)\n",
      "Requirement already satisfied: libclang>=9.0.1 in /usr/local/lib/python3.7/dist-packages (from tensorflow>=1.12.1->witwidget) (13.0.0)\n",
      "Requirement already satisfied: h5py>=2.9.0 in /usr/local/lib/python3.7/dist-packages (from tensorflow>=1.12.1->witwidget) (3.1.0)\n",
      "Requirement already satisfied: keras<2.9,>=2.8.0rc0 in /usr/local/lib/python3.7/dist-packages (from tensorflow>=1.12.1->witwidget) (2.8.0)\n",
      "Requirement already satisfied: keras-preprocessing>=1.1.1 in /usr/local/lib/python3.7/dist-packages (from tensorflow>=1.12.1->witwidget) (1.1.2)\n",
      "Requirement already satisfied: wheel<1.0,>=0.23.0 in /usr/local/lib/python3.7/dist-packages (from astunparse>=1.6.0->tensorflow>=1.12.1->witwidget) (0.37.1)\n",
      "Requirement already satisfied: cached-property in /usr/local/lib/python3.7/dist-packages (from h5py>=2.9.0->tensorflow>=1.12.1->witwidget) (1.5.2)\n",
      "Requirement already satisfied: werkzeug>=0.11.15 in /usr/local/lib/python3.7/dist-packages (from tensorboard<2.9,>=2.8->tensorflow>=1.12.1->witwidget) (1.0.1)\n",
      "Requirement already satisfied: tensorboard-data-server<0.7.0,>=0.6.0 in /usr/local/lib/python3.7/dist-packages (from tensorboard<2.9,>=2.8->tensorflow>=1.12.1->witwidget) (0.6.1)\n",
      "Requirement already satisfied: tensorboard-plugin-wit>=1.6.0 in /usr/local/lib/python3.7/dist-packages (from tensorboard<2.9,>=2.8->tensorflow>=1.12.1->witwidget) (1.8.1)\n",
      "Requirement already satisfied: markdown>=2.6.8 in /usr/local/lib/python3.7/dist-packages (from tensorboard<2.9,>=2.8->tensorflow>=1.12.1->witwidget) (3.3.6)\n",
      "Requirement already satisfied: google-auth-oauthlib<0.5,>=0.4.1 in /usr/local/lib/python3.7/dist-packages (from tensorboard<2.9,>=2.8->tensorflow>=1.12.1->witwidget) (0.4.6)\n",
      "Requirement already satisfied: requests-oauthlib>=0.7.0 in /usr/local/lib/python3.7/dist-packages (from google-auth-oauthlib<0.5,>=0.4.1->tensorboard<2.9,>=2.8->tensorflow>=1.12.1->witwidget) (1.3.1)\n",
      "Requirement already satisfied: oauthlib>=3.0.0 in /usr/local/lib/python3.7/dist-packages (from requests-oauthlib>=0.7.0->google-auth-oauthlib<0.5,>=0.4.1->tensorboard<2.9,>=2.8->tensorflow>=1.12.1->witwidget) (3.2.0)\n",
      "Requirement already satisfied: notebook>=4.4.1 in /usr/local/lib/python3.7/dist-packages (from widgetsnbextension~=3.6.0->ipywidgets>=7.0.0->witwidget) (5.3.1)\n",
      "Requirement already satisfied: Send2Trash in /usr/local/lib/python3.7/dist-packages (from notebook>=4.4.1->widgetsnbextension~=3.6.0->ipywidgets>=7.0.0->witwidget) (1.8.0)\n",
      "Requirement already satisfied: nbconvert in /usr/local/lib/python3.7/dist-packages (from notebook>=4.4.1->widgetsnbextension~=3.6.0->ipywidgets>=7.0.0->witwidget) (5.6.1)\n",
      "Requirement already satisfied: terminado>=0.8.1 in /usr/local/lib/python3.7/dist-packages (from notebook>=4.4.1->widgetsnbextension~=3.6.0->ipywidgets>=7.0.0->witwidget) (0.13.3)\n",
      "Requirement already satisfied: jinja2 in /usr/local/lib/python3.7/dist-packages (from notebook>=4.4.1->widgetsnbextension~=3.6.0->ipywidgets>=7.0.0->witwidget) (2.11.3)\n",
      "Requirement already satisfied: pyzmq>=13 in /usr/local/lib/python3.7/dist-packages (from jupyter-client->ipykernel>=4.5.1->ipywidgets>=7.0.0->witwidget) (22.3.0)\n",
      "Requirement already satisfied: python-dateutil>=2.1 in /usr/local/lib/python3.7/dist-packages (from jupyter-client->ipykernel>=4.5.1->ipywidgets>=7.0.0->witwidget) (2.8.2)\n",
      "Requirement already satisfied: ptyprocess in /usr/local/lib/python3.7/dist-packages (from terminado>=0.8.1->notebook>=4.4.1->widgetsnbextension~=3.6.0->ipywidgets>=7.0.0->witwidget) (0.7.0)\n",
      "Requirement already satisfied: MarkupSafe>=0.23 in /usr/local/lib/python3.7/dist-packages (from jinja2->notebook>=4.4.1->widgetsnbextension~=3.6.0->ipywidgets>=7.0.0->witwidget) (2.0.1)\n",
      "Requirement already satisfied: entrypoints>=0.2.2 in /usr/local/lib/python3.7/dist-packages (from nbconvert->notebook>=4.4.1->widgetsnbextension~=3.6.0->ipywidgets>=7.0.0->witwidget) (0.4)\n",
      "Requirement already satisfied: testpath in /usr/local/lib/python3.7/dist-packages (from nbconvert->notebook>=4.4.1->widgetsnbextension~=3.6.0->ipywidgets>=7.0.0->witwidget) (0.6.0)\n",
      "Requirement already satisfied: pandocfilters>=1.4.1 in /usr/local/lib/python3.7/dist-packages (from nbconvert->notebook>=4.4.1->widgetsnbextension~=3.6.0->ipywidgets>=7.0.0->witwidget) (1.5.0)\n",
      "Requirement already satisfied: bleach in /usr/local/lib/python3.7/dist-packages (from nbconvert->notebook>=4.4.1->widgetsnbextension~=3.6.0->ipywidgets>=7.0.0->witwidget) (5.0.0)\n",
      "Requirement already satisfied: defusedxml in /usr/local/lib/python3.7/dist-packages (from nbconvert->notebook>=4.4.1->widgetsnbextension~=3.6.0->ipywidgets>=7.0.0->witwidget) (0.7.1)\n",
      "Requirement already satisfied: mistune<2,>=0.8.1 in /usr/local/lib/python3.7/dist-packages (from nbconvert->notebook>=4.4.1->widgetsnbextension~=3.6.0->ipywidgets>=7.0.0->witwidget) (0.8.4)\n",
      "Requirement already satisfied: webencodings in /usr/local/lib/python3.7/dist-packages (from bleach->nbconvert->notebook>=4.4.1->widgetsnbextension~=3.6.0->ipywidgets>=7.0.0->witwidget) (0.5.1)\n",
      "Installing collected packages: tf-estimator-nightly, witwidget\n",
      "Successfully installed tf-estimator-nightly-2.8.0.dev2021122109 witwidget-1.8.1\n",
      "Collecting shap\n",
      "  Downloading shap-0.40.0-cp37-cp37m-manylinux2010_x86_64.whl (564 kB)\n",
      "\u001b[K     |████████████████████████████████| 564 kB 4.9 MB/s \n",
      "\u001b[?25hCollecting slicer==0.0.7\n",
      "  Downloading slicer-0.0.7-py3-none-any.whl (14 kB)\n",
      "Requirement already satisfied: packaging>20.9 in /usr/local/lib/python3.7/dist-packages (from shap) (21.3)\n",
      "Requirement already satisfied: cloudpickle in /usr/local/lib/python3.7/dist-packages (from shap) (1.3.0)\n",
      "Requirement already satisfied: tqdm>4.25.0 in /usr/local/lib/python3.7/dist-packages (from shap) (4.64.0)\n",
      "Requirement already satisfied: pandas in /usr/local/lib/python3.7/dist-packages (from shap) (1.3.5)\n",
      "Requirement already satisfied: scipy in /usr/local/lib/python3.7/dist-packages (from shap) (1.4.1)\n",
      "Requirement already satisfied: numba in /usr/local/lib/python3.7/dist-packages (from shap) (0.51.2)\n",
      "Requirement already satisfied: scikit-learn in /usr/local/lib/python3.7/dist-packages (from shap) (1.0.2)\n",
      "Requirement already satisfied: numpy in /usr/local/lib/python3.7/dist-packages (from shap) (1.21.5)\n",
      "Requirement already satisfied: pyparsing!=3.0.5,>=2.0.2 in /usr/local/lib/python3.7/dist-packages (from packaging>20.9->shap) (3.0.8)\n",
      "Requirement already satisfied: llvmlite<0.35,>=0.34.0.dev0 in /usr/local/lib/python3.7/dist-packages (from numba->shap) (0.34.0)\n",
      "Requirement already satisfied: setuptools in /usr/local/lib/python3.7/dist-packages (from numba->shap) (57.4.0)\n",
      "Requirement already satisfied: pytz>=2017.3 in /usr/local/lib/python3.7/dist-packages (from pandas->shap) (2018.9)\n",
      "Requirement already satisfied: python-dateutil>=2.7.3 in /usr/local/lib/python3.7/dist-packages (from pandas->shap) (2.8.2)\n",
      "Requirement already satisfied: six>=1.5 in /usr/local/lib/python3.7/dist-packages (from python-dateutil>=2.7.3->pandas->shap) (1.15.0)\n",
      "Requirement already satisfied: joblib>=0.11 in /usr/local/lib/python3.7/dist-packages (from scikit-learn->shap) (1.1.0)\n",
      "Requirement already satisfied: threadpoolctl>=2.0.0 in /usr/local/lib/python3.7/dist-packages (from scikit-learn->shap) (3.1.0)\n",
      "Installing collected packages: slicer, shap\n",
      "Successfully installed shap-0.40.0 slicer-0.0.7\n",
      "Collecting xport\n",
      "  Downloading xport-3.6.1-py2.py3-none-any.whl (29 kB)\n",
      "Requirement already satisfied: pandas<1.4,>=1.3.5 in /usr/local/lib/python3.7/dist-packages (from xport) (1.3.5)\n",
      "Requirement already satisfied: click>=7.1.1 in /usr/local/lib/python3.7/dist-packages (from xport) (7.1.2)\n",
      "Requirement already satisfied: pyyaml in /usr/local/lib/python3.7/dist-packages (from xport) (3.13)\n",
      "Requirement already satisfied: numpy>=1.17.3 in /usr/local/lib/python3.7/dist-packages (from pandas<1.4,>=1.3.5->xport) (1.21.5)\n",
      "Requirement already satisfied: python-dateutil>=2.7.3 in /usr/local/lib/python3.7/dist-packages (from pandas<1.4,>=1.3.5->xport) (2.8.2)\n",
      "Requirement already satisfied: pytz>=2017.3 in /usr/local/lib/python3.7/dist-packages (from pandas<1.4,>=1.3.5->xport) (2018.9)\n",
      "Requirement already satisfied: six>=1.5 in /usr/local/lib/python3.7/dist-packages (from python-dateutil>=2.7.3->pandas<1.4,>=1.3.5->xport) (1.15.0)\n",
      "Installing collected packages: xport\n",
      "Successfully installed xport-3.6.1\n",
      "Mounted at /content/drive/\n"
     ]
    }
   ],
   "source": [
    "!pip install shap\n",
    "!pip install xport\n",
    "import numpy as np\n",
    "import pandas as pd\n",
    "pd.set_option('use_inf_as_na', True)\n",
    "pd.set_option(\"display.max_columns\",None)\n",
    "import matplotlib.pyplot as plt\n",
    "import plotly.express as px\n",
    "import plotly.graph_objects as go\n",
    "import plotly.figure_factory as ff\n",
    "import seaborn as sns\n",
    "import shap \n",
    "import warnings\n",
    "warnings.filterwarnings(\"ignore\")\n",
    "import xgboost as xgb\n",
    "import xport, csv\n",
    "\n",
    "\n",
    "from google.colab import drive\n",
    "from sklearn.model_selection import KFold\n",
    "from sklearn.model_selection import GridSearchCV\n",
    "from scipy import stats\n",
    "from sklearn import preprocessing\n",
    "from sklearn.linear_model import LogisticRegression, LinearRegression\n",
    "from sklearn.metrics import accuracy_score,classification_report,roc_curve, auc, confusion_matrix,precision_recall_curve \n",
    "from sklearn.preprocessing import StandardScaler, LabelEncoder, OneHotEncoder\n",
    "from sklearn.model_selection import train_test_split\n",
    "\n",
    "drive.mount('/content/drive/')"
   ]
  },
  {
   "cell_type": "code",
   "execution_count": null,
   "metadata": {
    "id": "dEsLijM3wEbN"
   },
   "outputs": [],
   "source": [
    "path='drive/My Drive/vip/test.csv'\n",
    "df=pd.read_csv(path)"
   ]
  },
  {
   "cell_type": "code",
   "execution_count": null,
   "metadata": {
    "colab": {
     "base_uri": "https://localhost:8080/",
     "height": 519
    },
    "id": "VdHFRGavwJTZ",
    "outputId": "d886c358-9fa0-47f3-f740-c21186d9d6ff"
   },
   "outputs": [
    {
     "data": {
      "text/html": [
       "\n",
       "  <div id=\"df-68e13dbc-8461-4945-a05b-746c07779a94\">\n",
       "    <div class=\"colab-df-container\">\n",
       "      <div>\n",
       "<style scoped>\n",
       "    .dataframe tbody tr th:only-of-type {\n",
       "        vertical-align: middle;\n",
       "    }\n",
       "\n",
       "    .dataframe tbody tr th {\n",
       "        vertical-align: top;\n",
       "    }\n",
       "\n",
       "    .dataframe thead th {\n",
       "        text-align: right;\n",
       "    }\n",
       "</style>\n",
       "<table border=\"1\" class=\"dataframe\">\n",
       "  <thead>\n",
       "    <tr style=\"text-align: right;\">\n",
       "      <th></th>\n",
       "      <th>Sex</th>\n",
       "      <th>Age</th>\n",
       "      <th>Temperature</th>\n",
       "      <th>HemoCue</th>\n",
       "      <th>Malaria</th>\n",
       "      <th>Headache</th>\n",
       "      <th>Chills</th>\n",
       "      <th>Aches_or_pains</th>\n",
       "      <th>Fatigue</th>\n",
       "      <th>Vomiting</th>\n",
       "      <th>Lack_of_appetite</th>\n",
       "      <th>Cough</th>\n",
       "      <th>Dizziness</th>\n",
       "      <th>Sweating</th>\n",
       "      <th>Abdominal_pain</th>\n",
       "      <th>Diarrhea</th>\n",
       "      <th>Lower_back_pain</th>\n",
       "      <th>Eye_pain</th>\n",
       "      <th>Paleness</th>\n",
       "      <th>Chest_pain</th>\n",
       "      <th>Rash</th>\n",
       "      <th>Ear_pain</th>\n",
       "    </tr>\n",
       "    <tr>\n",
       "      <th>Subject_ID</th>\n",
       "      <th></th>\n",
       "      <th></th>\n",
       "      <th></th>\n",
       "      <th></th>\n",
       "      <th></th>\n",
       "      <th></th>\n",
       "      <th></th>\n",
       "      <th></th>\n",
       "      <th></th>\n",
       "      <th></th>\n",
       "      <th></th>\n",
       "      <th></th>\n",
       "      <th></th>\n",
       "      <th></th>\n",
       "      <th></th>\n",
       "      <th></th>\n",
       "      <th></th>\n",
       "      <th></th>\n",
       "      <th></th>\n",
       "      <th></th>\n",
       "      <th></th>\n",
       "      <th></th>\n",
       "    </tr>\n",
       "  </thead>\n",
       "  <tbody>\n",
       "    <tr>\n",
       "      <th>R2377</th>\n",
       "      <td>Female</td>\n",
       "      <td>60</td>\n",
       "      <td>101.8</td>\n",
       "      <td>8.8</td>\n",
       "      <td>1</td>\n",
       "      <td>0</td>\n",
       "      <td>0</td>\n",
       "      <td>0</td>\n",
       "      <td>1</td>\n",
       "      <td>0</td>\n",
       "      <td>0</td>\n",
       "      <td>0</td>\n",
       "      <td>0</td>\n",
       "      <td>0</td>\n",
       "      <td>0</td>\n",
       "      <td>0</td>\n",
       "      <td>0</td>\n",
       "      <td>0</td>\n",
       "      <td>0</td>\n",
       "      <td>0</td>\n",
       "      <td>0</td>\n",
       "      <td>0</td>\n",
       "    </tr>\n",
       "    <tr>\n",
       "      <th>R4453</th>\n",
       "      <td>Male</td>\n",
       "      <td>56</td>\n",
       "      <td>96.6</td>\n",
       "      <td>14.8</td>\n",
       "      <td>1</td>\n",
       "      <td>0</td>\n",
       "      <td>1</td>\n",
       "      <td>0</td>\n",
       "      <td>0</td>\n",
       "      <td>0</td>\n",
       "      <td>0</td>\n",
       "      <td>0</td>\n",
       "      <td>0</td>\n",
       "      <td>0</td>\n",
       "      <td>0</td>\n",
       "      <td>0</td>\n",
       "      <td>0</td>\n",
       "      <td>0</td>\n",
       "      <td>0</td>\n",
       "      <td>0</td>\n",
       "      <td>0</td>\n",
       "      <td>0</td>\n",
       "    </tr>\n",
       "    <tr>\n",
       "      <th>R2420</th>\n",
       "      <td>Female</td>\n",
       "      <td>4</td>\n",
       "      <td>90.0</td>\n",
       "      <td>12.5</td>\n",
       "      <td>1</td>\n",
       "      <td>1</td>\n",
       "      <td>0</td>\n",
       "      <td>0</td>\n",
       "      <td>0</td>\n",
       "      <td>0</td>\n",
       "      <td>0</td>\n",
       "      <td>0</td>\n",
       "      <td>0</td>\n",
       "      <td>0</td>\n",
       "      <td>0</td>\n",
       "      <td>0</td>\n",
       "      <td>0</td>\n",
       "      <td>0</td>\n",
       "      <td>0</td>\n",
       "      <td>0</td>\n",
       "      <td>0</td>\n",
       "      <td>0</td>\n",
       "    </tr>\n",
       "    <tr>\n",
       "      <th>R5505</th>\n",
       "      <td>Male</td>\n",
       "      <td>35</td>\n",
       "      <td>96.4</td>\n",
       "      <td>14.7</td>\n",
       "      <td>1</td>\n",
       "      <td>1</td>\n",
       "      <td>0</td>\n",
       "      <td>0</td>\n",
       "      <td>0</td>\n",
       "      <td>0</td>\n",
       "      <td>0</td>\n",
       "      <td>0</td>\n",
       "      <td>0</td>\n",
       "      <td>0</td>\n",
       "      <td>0</td>\n",
       "      <td>0</td>\n",
       "      <td>0</td>\n",
       "      <td>0</td>\n",
       "      <td>0</td>\n",
       "      <td>0</td>\n",
       "      <td>0</td>\n",
       "      <td>0</td>\n",
       "    </tr>\n",
       "    <tr>\n",
       "      <th>R4285</th>\n",
       "      <td>Male</td>\n",
       "      <td>50</td>\n",
       "      <td>96.4</td>\n",
       "      <td>14.3</td>\n",
       "      <td>1</td>\n",
       "      <td>0</td>\n",
       "      <td>0</td>\n",
       "      <td>0</td>\n",
       "      <td>0</td>\n",
       "      <td>0</td>\n",
       "      <td>0</td>\n",
       "      <td>0</td>\n",
       "      <td>0</td>\n",
       "      <td>0</td>\n",
       "      <td>0</td>\n",
       "      <td>0</td>\n",
       "      <td>1</td>\n",
       "      <td>0</td>\n",
       "      <td>0</td>\n",
       "      <td>0</td>\n",
       "      <td>0</td>\n",
       "      <td>0</td>\n",
       "    </tr>\n",
       "    <tr>\n",
       "      <th>...</th>\n",
       "      <td>...</td>\n",
       "      <td>...</td>\n",
       "      <td>...</td>\n",
       "      <td>...</td>\n",
       "      <td>...</td>\n",
       "      <td>...</td>\n",
       "      <td>...</td>\n",
       "      <td>...</td>\n",
       "      <td>...</td>\n",
       "      <td>...</td>\n",
       "      <td>...</td>\n",
       "      <td>...</td>\n",
       "      <td>...</td>\n",
       "      <td>...</td>\n",
       "      <td>...</td>\n",
       "      <td>...</td>\n",
       "      <td>...</td>\n",
       "      <td>...</td>\n",
       "      <td>...</td>\n",
       "      <td>...</td>\n",
       "      <td>...</td>\n",
       "      <td>...</td>\n",
       "    </tr>\n",
       "    <tr>\n",
       "      <th>R5265</th>\n",
       "      <td>Female</td>\n",
       "      <td>40</td>\n",
       "      <td>99.0</td>\n",
       "      <td>12.9</td>\n",
       "      <td>0</td>\n",
       "      <td>1</td>\n",
       "      <td>1</td>\n",
       "      <td>1</td>\n",
       "      <td>0</td>\n",
       "      <td>0</td>\n",
       "      <td>0</td>\n",
       "      <td>1</td>\n",
       "      <td>0</td>\n",
       "      <td>0</td>\n",
       "      <td>0</td>\n",
       "      <td>0</td>\n",
       "      <td>1</td>\n",
       "      <td>1</td>\n",
       "      <td>0</td>\n",
       "      <td>1</td>\n",
       "      <td>0</td>\n",
       "      <td>0</td>\n",
       "    </tr>\n",
       "    <tr>\n",
       "      <th>R4769</th>\n",
       "      <td>Female</td>\n",
       "      <td>64</td>\n",
       "      <td>99.3</td>\n",
       "      <td>11.1</td>\n",
       "      <td>0</td>\n",
       "      <td>1</td>\n",
       "      <td>0</td>\n",
       "      <td>1</td>\n",
       "      <td>0</td>\n",
       "      <td>1</td>\n",
       "      <td>0</td>\n",
       "      <td>1</td>\n",
       "      <td>0</td>\n",
       "      <td>0</td>\n",
       "      <td>1</td>\n",
       "      <td>0</td>\n",
       "      <td>1</td>\n",
       "      <td>1</td>\n",
       "      <td>0</td>\n",
       "      <td>0</td>\n",
       "      <td>0</td>\n",
       "      <td>0</td>\n",
       "    </tr>\n",
       "    <tr>\n",
       "      <th>R4647</th>\n",
       "      <td>Female</td>\n",
       "      <td>37</td>\n",
       "      <td>99.0</td>\n",
       "      <td>12.4</td>\n",
       "      <td>0</td>\n",
       "      <td>1</td>\n",
       "      <td>1</td>\n",
       "      <td>1</td>\n",
       "      <td>0</td>\n",
       "      <td>0</td>\n",
       "      <td>0</td>\n",
       "      <td>1</td>\n",
       "      <td>0</td>\n",
       "      <td>0</td>\n",
       "      <td>0</td>\n",
       "      <td>0</td>\n",
       "      <td>1</td>\n",
       "      <td>1</td>\n",
       "      <td>0</td>\n",
       "      <td>1</td>\n",
       "      <td>0</td>\n",
       "      <td>1</td>\n",
       "    </tr>\n",
       "    <tr>\n",
       "      <th>R5073</th>\n",
       "      <td>Male</td>\n",
       "      <td>32</td>\n",
       "      <td>99.1</td>\n",
       "      <td>16.7</td>\n",
       "      <td>0</td>\n",
       "      <td>1</td>\n",
       "      <td>1</td>\n",
       "      <td>1</td>\n",
       "      <td>1</td>\n",
       "      <td>1</td>\n",
       "      <td>1</td>\n",
       "      <td>1</td>\n",
       "      <td>0</td>\n",
       "      <td>1</td>\n",
       "      <td>0</td>\n",
       "      <td>0</td>\n",
       "      <td>0</td>\n",
       "      <td>0</td>\n",
       "      <td>0</td>\n",
       "      <td>0</td>\n",
       "      <td>0</td>\n",
       "      <td>0</td>\n",
       "    </tr>\n",
       "    <tr>\n",
       "      <th>R4593</th>\n",
       "      <td>Female</td>\n",
       "      <td>35</td>\n",
       "      <td>98.8</td>\n",
       "      <td>14.6</td>\n",
       "      <td>0</td>\n",
       "      <td>1</td>\n",
       "      <td>1</td>\n",
       "      <td>1</td>\n",
       "      <td>1</td>\n",
       "      <td>1</td>\n",
       "      <td>1</td>\n",
       "      <td>1</td>\n",
       "      <td>0</td>\n",
       "      <td>1</td>\n",
       "      <td>1</td>\n",
       "      <td>1</td>\n",
       "      <td>1</td>\n",
       "      <td>1</td>\n",
       "      <td>0</td>\n",
       "      <td>1</td>\n",
       "      <td>0</td>\n",
       "      <td>0</td>\n",
       "    </tr>\n",
       "  </tbody>\n",
       "</table>\n",
       "<p>1334 rows × 22 columns</p>\n",
       "</div>\n",
       "      <button class=\"colab-df-convert\" onclick=\"convertToInteractive('df-68e13dbc-8461-4945-a05b-746c07779a94')\"\n",
       "              title=\"Convert this dataframe to an interactive table.\"\n",
       "              style=\"display:none;\">\n",
       "        \n",
       "  <svg xmlns=\"http://www.w3.org/2000/svg\" height=\"24px\"viewBox=\"0 0 24 24\"\n",
       "       width=\"24px\">\n",
       "    <path d=\"M0 0h24v24H0V0z\" fill=\"none\"/>\n",
       "    <path d=\"M18.56 5.44l.94 2.06.94-2.06 2.06-.94-2.06-.94-.94-2.06-.94 2.06-2.06.94zm-11 1L8.5 8.5l.94-2.06 2.06-.94-2.06-.94L8.5 2.5l-.94 2.06-2.06.94zm10 10l.94 2.06.94-2.06 2.06-.94-2.06-.94-.94-2.06-.94 2.06-2.06.94z\"/><path d=\"M17.41 7.96l-1.37-1.37c-.4-.4-.92-.59-1.43-.59-.52 0-1.04.2-1.43.59L10.3 9.45l-7.72 7.72c-.78.78-.78 2.05 0 2.83L4 21.41c.39.39.9.59 1.41.59.51 0 1.02-.2 1.41-.59l7.78-7.78 2.81-2.81c.8-.78.8-2.07 0-2.86zM5.41 20L4 18.59l7.72-7.72 1.47 1.35L5.41 20z\"/>\n",
       "  </svg>\n",
       "      </button>\n",
       "      \n",
       "  <style>\n",
       "    .colab-df-container {\n",
       "      display:flex;\n",
       "      flex-wrap:wrap;\n",
       "      gap: 12px;\n",
       "    }\n",
       "\n",
       "    .colab-df-convert {\n",
       "      background-color: #E8F0FE;\n",
       "      border: none;\n",
       "      border-radius: 50%;\n",
       "      cursor: pointer;\n",
       "      display: none;\n",
       "      fill: #1967D2;\n",
       "      height: 32px;\n",
       "      padding: 0 0 0 0;\n",
       "      width: 32px;\n",
       "    }\n",
       "\n",
       "    .colab-df-convert:hover {\n",
       "      background-color: #E2EBFA;\n",
       "      box-shadow: 0px 1px 2px rgba(60, 64, 67, 0.3), 0px 1px 3px 1px rgba(60, 64, 67, 0.15);\n",
       "      fill: #174EA6;\n",
       "    }\n",
       "\n",
       "    [theme=dark] .colab-df-convert {\n",
       "      background-color: #3B4455;\n",
       "      fill: #D2E3FC;\n",
       "    }\n",
       "\n",
       "    [theme=dark] .colab-df-convert:hover {\n",
       "      background-color: #434B5C;\n",
       "      box-shadow: 0px 1px 3px 1px rgba(0, 0, 0, 0.15);\n",
       "      filter: drop-shadow(0px 1px 2px rgba(0, 0, 0, 0.3));\n",
       "      fill: #FFFFFF;\n",
       "    }\n",
       "  </style>\n",
       "\n",
       "      <script>\n",
       "        const buttonEl =\n",
       "          document.querySelector('#df-68e13dbc-8461-4945-a05b-746c07779a94 button.colab-df-convert');\n",
       "        buttonEl.style.display =\n",
       "          google.colab.kernel.accessAllowed ? 'block' : 'none';\n",
       "\n",
       "        async function convertToInteractive(key) {\n",
       "          const element = document.querySelector('#df-68e13dbc-8461-4945-a05b-746c07779a94');\n",
       "          const dataTable =\n",
       "            await google.colab.kernel.invokeFunction('convertToInteractive',\n",
       "                                                     [key], {});\n",
       "          if (!dataTable) return;\n",
       "\n",
       "          const docLinkHtml = 'Like what you see? Visit the ' +\n",
       "            '<a target=\"_blank\" href=https://colab.research.google.com/notebooks/data_table.ipynb>data table notebook</a>'\n",
       "            + ' to learn more about interactive tables.';\n",
       "          element.innerHTML = '';\n",
       "          dataTable['output_type'] = 'display_data';\n",
       "          await google.colab.output.renderOutput(dataTable, element);\n",
       "          const docLink = document.createElement('div');\n",
       "          docLink.innerHTML = docLinkHtml;\n",
       "          element.appendChild(docLink);\n",
       "        }\n",
       "      </script>\n",
       "    </div>\n",
       "  </div>\n",
       "  "
      ],
      "text/plain": [
       "               Sex  Age  Temperature  HemoCue  Malaria  Headache  Chills  \\\n",
       "Subject_ID                                                                 \n",
       "R2377       Female   60        101.8      8.8        1         0       0   \n",
       "R4453         Male   56         96.6     14.8        1         0       1   \n",
       "R2420       Female    4         90.0     12.5        1         1       0   \n",
       "R5505         Male   35         96.4     14.7        1         1       0   \n",
       "R4285         Male   50         96.4     14.3        1         0       0   \n",
       "...            ...  ...          ...      ...      ...       ...     ...   \n",
       "R5265       Female   40         99.0     12.9        0         1       1   \n",
       "R4769       Female   64         99.3     11.1        0         1       0   \n",
       "R4647       Female   37         99.0     12.4        0         1       1   \n",
       "R5073         Male   32         99.1     16.7        0         1       1   \n",
       "R4593       Female   35         98.8     14.6        0         1       1   \n",
       "\n",
       "            Aches_or_pains  Fatigue  Vomiting  Lack_of_appetite  Cough  \\\n",
       "Subject_ID                                                               \n",
       "R2377                    0        1         0                 0      0   \n",
       "R4453                    0        0         0                 0      0   \n",
       "R2420                    0        0         0                 0      0   \n",
       "R5505                    0        0         0                 0      0   \n",
       "R4285                    0        0         0                 0      0   \n",
       "...                    ...      ...       ...               ...    ...   \n",
       "R5265                    1        0         0                 0      1   \n",
       "R4769                    1        0         1                 0      1   \n",
       "R4647                    1        0         0                 0      1   \n",
       "R5073                    1        1         1                 1      1   \n",
       "R4593                    1        1         1                 1      1   \n",
       "\n",
       "            Dizziness  Sweating  Abdominal_pain  Diarrhea  Lower_back_pain  \\\n",
       "Subject_ID                                                                   \n",
       "R2377               0         0               0         0                0   \n",
       "R4453               0         0               0         0                0   \n",
       "R2420               0         0               0         0                0   \n",
       "R5505               0         0               0         0                0   \n",
       "R4285               0         0               0         0                1   \n",
       "...               ...       ...             ...       ...              ...   \n",
       "R5265               0         0               0         0                1   \n",
       "R4769               0         0               1         0                1   \n",
       "R4647               0         0               0         0                1   \n",
       "R5073               0         1               0         0                0   \n",
       "R4593               0         1               1         1                1   \n",
       "\n",
       "            Eye_pain  Paleness  Chest_pain  Rash  Ear_pain  \n",
       "Subject_ID                                                  \n",
       "R2377              0         0           0     0         0  \n",
       "R4453              0         0           0     0         0  \n",
       "R2420              0         0           0     0         0  \n",
       "R5505              0         0           0     0         0  \n",
       "R4285              0         0           0     0         0  \n",
       "...              ...       ...         ...   ...       ...  \n",
       "R5265              1         0           1     0         0  \n",
       "R4769              1         0           0     0         0  \n",
       "R4647              1         0           1     0         1  \n",
       "R5073              0         0           0     0         0  \n",
       "R4593              1         0           1     0         0  \n",
       "\n",
       "[1334 rows x 22 columns]"
      ]
     },
     "execution_count": 3,
     "metadata": {},
     "output_type": "execute_result"
    }
   ],
   "source": [
    "df=df.set_index('Subject_ID')\n",
    "df"
   ]
  },
  {
   "cell_type": "code",
   "execution_count": null,
   "metadata": {
    "colab": {
     "base_uri": "https://localhost:8080/",
     "height": 519
    },
    "id": "CLKpnKg4wM87",
    "outputId": "159b3d33-508c-4601-8532-765657fdc0be"
   },
   "outputs": [
    {
     "data": {
      "text/html": [
       "\n",
       "  <div id=\"df-bb9e33a9-9fa7-4388-b3c1-24eef92c9bd1\">\n",
       "    <div class=\"colab-df-container\">\n",
       "      <div>\n",
       "<style scoped>\n",
       "    .dataframe tbody tr th:only-of-type {\n",
       "        vertical-align: middle;\n",
       "    }\n",
       "\n",
       "    .dataframe tbody tr th {\n",
       "        vertical-align: top;\n",
       "    }\n",
       "\n",
       "    .dataframe thead th {\n",
       "        text-align: right;\n",
       "    }\n",
       "</style>\n",
       "<table border=\"1\" class=\"dataframe\">\n",
       "  <thead>\n",
       "    <tr style=\"text-align: right;\">\n",
       "      <th></th>\n",
       "      <th>Sex</th>\n",
       "      <th>Age</th>\n",
       "      <th>Temperature</th>\n",
       "      <th>HemoCue</th>\n",
       "      <th>Malaria</th>\n",
       "      <th>Headache</th>\n",
       "      <th>Chills</th>\n",
       "      <th>Aches_or_pains</th>\n",
       "      <th>Fatigue</th>\n",
       "      <th>Vomiting</th>\n",
       "      <th>Lack_of_appetite</th>\n",
       "      <th>Cough</th>\n",
       "      <th>Dizziness</th>\n",
       "      <th>Sweating</th>\n",
       "      <th>Abdominal_pain</th>\n",
       "      <th>Diarrhea</th>\n",
       "      <th>Lower_back_pain</th>\n",
       "      <th>Eye_pain</th>\n",
       "      <th>Paleness</th>\n",
       "      <th>Chest_pain</th>\n",
       "      <th>Rash</th>\n",
       "      <th>Ear_pain</th>\n",
       "      <th>Gender</th>\n",
       "    </tr>\n",
       "    <tr>\n",
       "      <th>Subject_ID</th>\n",
       "      <th></th>\n",
       "      <th></th>\n",
       "      <th></th>\n",
       "      <th></th>\n",
       "      <th></th>\n",
       "      <th></th>\n",
       "      <th></th>\n",
       "      <th></th>\n",
       "      <th></th>\n",
       "      <th></th>\n",
       "      <th></th>\n",
       "      <th></th>\n",
       "      <th></th>\n",
       "      <th></th>\n",
       "      <th></th>\n",
       "      <th></th>\n",
       "      <th></th>\n",
       "      <th></th>\n",
       "      <th></th>\n",
       "      <th></th>\n",
       "      <th></th>\n",
       "      <th></th>\n",
       "      <th></th>\n",
       "    </tr>\n",
       "  </thead>\n",
       "  <tbody>\n",
       "    <tr>\n",
       "      <th>R2377</th>\n",
       "      <td>Female</td>\n",
       "      <td>60</td>\n",
       "      <td>101.8</td>\n",
       "      <td>8.8</td>\n",
       "      <td>1</td>\n",
       "      <td>0</td>\n",
       "      <td>0</td>\n",
       "      <td>0</td>\n",
       "      <td>1</td>\n",
       "      <td>0</td>\n",
       "      <td>0</td>\n",
       "      <td>0</td>\n",
       "      <td>0</td>\n",
       "      <td>0</td>\n",
       "      <td>0</td>\n",
       "      <td>0</td>\n",
       "      <td>0</td>\n",
       "      <td>0</td>\n",
       "      <td>0</td>\n",
       "      <td>0</td>\n",
       "      <td>0</td>\n",
       "      <td>0</td>\n",
       "      <td>0</td>\n",
       "    </tr>\n",
       "    <tr>\n",
       "      <th>R4453</th>\n",
       "      <td>Male</td>\n",
       "      <td>56</td>\n",
       "      <td>96.6</td>\n",
       "      <td>14.8</td>\n",
       "      <td>1</td>\n",
       "      <td>0</td>\n",
       "      <td>1</td>\n",
       "      <td>0</td>\n",
       "      <td>0</td>\n",
       "      <td>0</td>\n",
       "      <td>0</td>\n",
       "      <td>0</td>\n",
       "      <td>0</td>\n",
       "      <td>0</td>\n",
       "      <td>0</td>\n",
       "      <td>0</td>\n",
       "      <td>0</td>\n",
       "      <td>0</td>\n",
       "      <td>0</td>\n",
       "      <td>0</td>\n",
       "      <td>0</td>\n",
       "      <td>0</td>\n",
       "      <td>1</td>\n",
       "    </tr>\n",
       "    <tr>\n",
       "      <th>R2420</th>\n",
       "      <td>Female</td>\n",
       "      <td>4</td>\n",
       "      <td>90.0</td>\n",
       "      <td>12.5</td>\n",
       "      <td>1</td>\n",
       "      <td>1</td>\n",
       "      <td>0</td>\n",
       "      <td>0</td>\n",
       "      <td>0</td>\n",
       "      <td>0</td>\n",
       "      <td>0</td>\n",
       "      <td>0</td>\n",
       "      <td>0</td>\n",
       "      <td>0</td>\n",
       "      <td>0</td>\n",
       "      <td>0</td>\n",
       "      <td>0</td>\n",
       "      <td>0</td>\n",
       "      <td>0</td>\n",
       "      <td>0</td>\n",
       "      <td>0</td>\n",
       "      <td>0</td>\n",
       "      <td>0</td>\n",
       "    </tr>\n",
       "    <tr>\n",
       "      <th>R5505</th>\n",
       "      <td>Male</td>\n",
       "      <td>35</td>\n",
       "      <td>96.4</td>\n",
       "      <td>14.7</td>\n",
       "      <td>1</td>\n",
       "      <td>1</td>\n",
       "      <td>0</td>\n",
       "      <td>0</td>\n",
       "      <td>0</td>\n",
       "      <td>0</td>\n",
       "      <td>0</td>\n",
       "      <td>0</td>\n",
       "      <td>0</td>\n",
       "      <td>0</td>\n",
       "      <td>0</td>\n",
       "      <td>0</td>\n",
       "      <td>0</td>\n",
       "      <td>0</td>\n",
       "      <td>0</td>\n",
       "      <td>0</td>\n",
       "      <td>0</td>\n",
       "      <td>0</td>\n",
       "      <td>1</td>\n",
       "    </tr>\n",
       "    <tr>\n",
       "      <th>R4285</th>\n",
       "      <td>Male</td>\n",
       "      <td>50</td>\n",
       "      <td>96.4</td>\n",
       "      <td>14.3</td>\n",
       "      <td>1</td>\n",
       "      <td>0</td>\n",
       "      <td>0</td>\n",
       "      <td>0</td>\n",
       "      <td>0</td>\n",
       "      <td>0</td>\n",
       "      <td>0</td>\n",
       "      <td>0</td>\n",
       "      <td>0</td>\n",
       "      <td>0</td>\n",
       "      <td>0</td>\n",
       "      <td>0</td>\n",
       "      <td>1</td>\n",
       "      <td>0</td>\n",
       "      <td>0</td>\n",
       "      <td>0</td>\n",
       "      <td>0</td>\n",
       "      <td>0</td>\n",
       "      <td>1</td>\n",
       "    </tr>\n",
       "    <tr>\n",
       "      <th>...</th>\n",
       "      <td>...</td>\n",
       "      <td>...</td>\n",
       "      <td>...</td>\n",
       "      <td>...</td>\n",
       "      <td>...</td>\n",
       "      <td>...</td>\n",
       "      <td>...</td>\n",
       "      <td>...</td>\n",
       "      <td>...</td>\n",
       "      <td>...</td>\n",
       "      <td>...</td>\n",
       "      <td>...</td>\n",
       "      <td>...</td>\n",
       "      <td>...</td>\n",
       "      <td>...</td>\n",
       "      <td>...</td>\n",
       "      <td>...</td>\n",
       "      <td>...</td>\n",
       "      <td>...</td>\n",
       "      <td>...</td>\n",
       "      <td>...</td>\n",
       "      <td>...</td>\n",
       "      <td>...</td>\n",
       "    </tr>\n",
       "    <tr>\n",
       "      <th>R5265</th>\n",
       "      <td>Female</td>\n",
       "      <td>40</td>\n",
       "      <td>99.0</td>\n",
       "      <td>12.9</td>\n",
       "      <td>0</td>\n",
       "      <td>1</td>\n",
       "      <td>1</td>\n",
       "      <td>1</td>\n",
       "      <td>0</td>\n",
       "      <td>0</td>\n",
       "      <td>0</td>\n",
       "      <td>1</td>\n",
       "      <td>0</td>\n",
       "      <td>0</td>\n",
       "      <td>0</td>\n",
       "      <td>0</td>\n",
       "      <td>1</td>\n",
       "      <td>1</td>\n",
       "      <td>0</td>\n",
       "      <td>1</td>\n",
       "      <td>0</td>\n",
       "      <td>0</td>\n",
       "      <td>0</td>\n",
       "    </tr>\n",
       "    <tr>\n",
       "      <th>R4769</th>\n",
       "      <td>Female</td>\n",
       "      <td>64</td>\n",
       "      <td>99.3</td>\n",
       "      <td>11.1</td>\n",
       "      <td>0</td>\n",
       "      <td>1</td>\n",
       "      <td>0</td>\n",
       "      <td>1</td>\n",
       "      <td>0</td>\n",
       "      <td>1</td>\n",
       "      <td>0</td>\n",
       "      <td>1</td>\n",
       "      <td>0</td>\n",
       "      <td>0</td>\n",
       "      <td>1</td>\n",
       "      <td>0</td>\n",
       "      <td>1</td>\n",
       "      <td>1</td>\n",
       "      <td>0</td>\n",
       "      <td>0</td>\n",
       "      <td>0</td>\n",
       "      <td>0</td>\n",
       "      <td>0</td>\n",
       "    </tr>\n",
       "    <tr>\n",
       "      <th>R4647</th>\n",
       "      <td>Female</td>\n",
       "      <td>37</td>\n",
       "      <td>99.0</td>\n",
       "      <td>12.4</td>\n",
       "      <td>0</td>\n",
       "      <td>1</td>\n",
       "      <td>1</td>\n",
       "      <td>1</td>\n",
       "      <td>0</td>\n",
       "      <td>0</td>\n",
       "      <td>0</td>\n",
       "      <td>1</td>\n",
       "      <td>0</td>\n",
       "      <td>0</td>\n",
       "      <td>0</td>\n",
       "      <td>0</td>\n",
       "      <td>1</td>\n",
       "      <td>1</td>\n",
       "      <td>0</td>\n",
       "      <td>1</td>\n",
       "      <td>0</td>\n",
       "      <td>1</td>\n",
       "      <td>0</td>\n",
       "    </tr>\n",
       "    <tr>\n",
       "      <th>R5073</th>\n",
       "      <td>Male</td>\n",
       "      <td>32</td>\n",
       "      <td>99.1</td>\n",
       "      <td>16.7</td>\n",
       "      <td>0</td>\n",
       "      <td>1</td>\n",
       "      <td>1</td>\n",
       "      <td>1</td>\n",
       "      <td>1</td>\n",
       "      <td>1</td>\n",
       "      <td>1</td>\n",
       "      <td>1</td>\n",
       "      <td>0</td>\n",
       "      <td>1</td>\n",
       "      <td>0</td>\n",
       "      <td>0</td>\n",
       "      <td>0</td>\n",
       "      <td>0</td>\n",
       "      <td>0</td>\n",
       "      <td>0</td>\n",
       "      <td>0</td>\n",
       "      <td>0</td>\n",
       "      <td>1</td>\n",
       "    </tr>\n",
       "    <tr>\n",
       "      <th>R4593</th>\n",
       "      <td>Female</td>\n",
       "      <td>35</td>\n",
       "      <td>98.8</td>\n",
       "      <td>14.6</td>\n",
       "      <td>0</td>\n",
       "      <td>1</td>\n",
       "      <td>1</td>\n",
       "      <td>1</td>\n",
       "      <td>1</td>\n",
       "      <td>1</td>\n",
       "      <td>1</td>\n",
       "      <td>1</td>\n",
       "      <td>0</td>\n",
       "      <td>1</td>\n",
       "      <td>1</td>\n",
       "      <td>1</td>\n",
       "      <td>1</td>\n",
       "      <td>1</td>\n",
       "      <td>0</td>\n",
       "      <td>1</td>\n",
       "      <td>0</td>\n",
       "      <td>0</td>\n",
       "      <td>0</td>\n",
       "    </tr>\n",
       "  </tbody>\n",
       "</table>\n",
       "<p>1334 rows × 23 columns</p>\n",
       "</div>\n",
       "      <button class=\"colab-df-convert\" onclick=\"convertToInteractive('df-bb9e33a9-9fa7-4388-b3c1-24eef92c9bd1')\"\n",
       "              title=\"Convert this dataframe to an interactive table.\"\n",
       "              style=\"display:none;\">\n",
       "        \n",
       "  <svg xmlns=\"http://www.w3.org/2000/svg\" height=\"24px\"viewBox=\"0 0 24 24\"\n",
       "       width=\"24px\">\n",
       "    <path d=\"M0 0h24v24H0V0z\" fill=\"none\"/>\n",
       "    <path d=\"M18.56 5.44l.94 2.06.94-2.06 2.06-.94-2.06-.94-.94-2.06-.94 2.06-2.06.94zm-11 1L8.5 8.5l.94-2.06 2.06-.94-2.06-.94L8.5 2.5l-.94 2.06-2.06.94zm10 10l.94 2.06.94-2.06 2.06-.94-2.06-.94-.94-2.06-.94 2.06-2.06.94z\"/><path d=\"M17.41 7.96l-1.37-1.37c-.4-.4-.92-.59-1.43-.59-.52 0-1.04.2-1.43.59L10.3 9.45l-7.72 7.72c-.78.78-.78 2.05 0 2.83L4 21.41c.39.39.9.59 1.41.59.51 0 1.02-.2 1.41-.59l7.78-7.78 2.81-2.81c.8-.78.8-2.07 0-2.86zM5.41 20L4 18.59l7.72-7.72 1.47 1.35L5.41 20z\"/>\n",
       "  </svg>\n",
       "      </button>\n",
       "      \n",
       "  <style>\n",
       "    .colab-df-container {\n",
       "      display:flex;\n",
       "      flex-wrap:wrap;\n",
       "      gap: 12px;\n",
       "    }\n",
       "\n",
       "    .colab-df-convert {\n",
       "      background-color: #E8F0FE;\n",
       "      border: none;\n",
       "      border-radius: 50%;\n",
       "      cursor: pointer;\n",
       "      display: none;\n",
       "      fill: #1967D2;\n",
       "      height: 32px;\n",
       "      padding: 0 0 0 0;\n",
       "      width: 32px;\n",
       "    }\n",
       "\n",
       "    .colab-df-convert:hover {\n",
       "      background-color: #E2EBFA;\n",
       "      box-shadow: 0px 1px 2px rgba(60, 64, 67, 0.3), 0px 1px 3px 1px rgba(60, 64, 67, 0.15);\n",
       "      fill: #174EA6;\n",
       "    }\n",
       "\n",
       "    [theme=dark] .colab-df-convert {\n",
       "      background-color: #3B4455;\n",
       "      fill: #D2E3FC;\n",
       "    }\n",
       "\n",
       "    [theme=dark] .colab-df-convert:hover {\n",
       "      background-color: #434B5C;\n",
       "      box-shadow: 0px 1px 3px 1px rgba(0, 0, 0, 0.15);\n",
       "      filter: drop-shadow(0px 1px 2px rgba(0, 0, 0, 0.3));\n",
       "      fill: #FFFFFF;\n",
       "    }\n",
       "  </style>\n",
       "\n",
       "      <script>\n",
       "        const buttonEl =\n",
       "          document.querySelector('#df-bb9e33a9-9fa7-4388-b3c1-24eef92c9bd1 button.colab-df-convert');\n",
       "        buttonEl.style.display =\n",
       "          google.colab.kernel.accessAllowed ? 'block' : 'none';\n",
       "\n",
       "        async function convertToInteractive(key) {\n",
       "          const element = document.querySelector('#df-bb9e33a9-9fa7-4388-b3c1-24eef92c9bd1');\n",
       "          const dataTable =\n",
       "            await google.colab.kernel.invokeFunction('convertToInteractive',\n",
       "                                                     [key], {});\n",
       "          if (!dataTable) return;\n",
       "\n",
       "          const docLinkHtml = 'Like what you see? Visit the ' +\n",
       "            '<a target=\"_blank\" href=https://colab.research.google.com/notebooks/data_table.ipynb>data table notebook</a>'\n",
       "            + ' to learn more about interactive tables.';\n",
       "          element.innerHTML = '';\n",
       "          dataTable['output_type'] = 'display_data';\n",
       "          await google.colab.output.renderOutput(dataTable, element);\n",
       "          const docLink = document.createElement('div');\n",
       "          docLink.innerHTML = docLinkHtml;\n",
       "          element.appendChild(docLink);\n",
       "        }\n",
       "      </script>\n",
       "    </div>\n",
       "  </div>\n",
       "  "
      ],
      "text/plain": [
       "               Sex  Age  Temperature  HemoCue  Malaria  Headache  Chills  \\\n",
       "Subject_ID                                                                 \n",
       "R2377       Female   60        101.8      8.8        1         0       0   \n",
       "R4453         Male   56         96.6     14.8        1         0       1   \n",
       "R2420       Female    4         90.0     12.5        1         1       0   \n",
       "R5505         Male   35         96.4     14.7        1         1       0   \n",
       "R4285         Male   50         96.4     14.3        1         0       0   \n",
       "...            ...  ...          ...      ...      ...       ...     ...   \n",
       "R5265       Female   40         99.0     12.9        0         1       1   \n",
       "R4769       Female   64         99.3     11.1        0         1       0   \n",
       "R4647       Female   37         99.0     12.4        0         1       1   \n",
       "R5073         Male   32         99.1     16.7        0         1       1   \n",
       "R4593       Female   35         98.8     14.6        0         1       1   \n",
       "\n",
       "            Aches_or_pains  Fatigue  Vomiting  Lack_of_appetite  Cough  \\\n",
       "Subject_ID                                                               \n",
       "R2377                    0        1         0                 0      0   \n",
       "R4453                    0        0         0                 0      0   \n",
       "R2420                    0        0         0                 0      0   \n",
       "R5505                    0        0         0                 0      0   \n",
       "R4285                    0        0         0                 0      0   \n",
       "...                    ...      ...       ...               ...    ...   \n",
       "R5265                    1        0         0                 0      1   \n",
       "R4769                    1        0         1                 0      1   \n",
       "R4647                    1        0         0                 0      1   \n",
       "R5073                    1        1         1                 1      1   \n",
       "R4593                    1        1         1                 1      1   \n",
       "\n",
       "            Dizziness  Sweating  Abdominal_pain  Diarrhea  Lower_back_pain  \\\n",
       "Subject_ID                                                                   \n",
       "R2377               0         0               0         0                0   \n",
       "R4453               0         0               0         0                0   \n",
       "R2420               0         0               0         0                0   \n",
       "R5505               0         0               0         0                0   \n",
       "R4285               0         0               0         0                1   \n",
       "...               ...       ...             ...       ...              ...   \n",
       "R5265               0         0               0         0                1   \n",
       "R4769               0         0               1         0                1   \n",
       "R4647               0         0               0         0                1   \n",
       "R5073               0         1               0         0                0   \n",
       "R4593               0         1               1         1                1   \n",
       "\n",
       "            Eye_pain  Paleness  Chest_pain  Rash  Ear_pain  Gender  \n",
       "Subject_ID                                                          \n",
       "R2377              0         0           0     0         0       0  \n",
       "R4453              0         0           0     0         0       1  \n",
       "R2420              0         0           0     0         0       0  \n",
       "R5505              0         0           0     0         0       1  \n",
       "R4285              0         0           0     0         0       1  \n",
       "...              ...       ...         ...   ...       ...     ...  \n",
       "R5265              1         0           1     0         0       0  \n",
       "R4769              1         0           0     0         0       0  \n",
       "R4647              1         0           1     0         1       0  \n",
       "R5073              0         0           0     0         0       1  \n",
       "R4593              1         0           1     0         0       0  \n",
       "\n",
       "[1334 rows x 23 columns]"
      ]
     },
     "execution_count": 4,
     "metadata": {},
     "output_type": "execute_result"
    }
   ],
   "source": [
    "df['Gender'] = df['Sex'].map( {'Male':1, 'Female':0} )\n",
    "df"
   ]
  },
  {
   "cell_type": "code",
   "execution_count": null,
   "metadata": {
    "colab": {
     "base_uri": "https://localhost:8080/",
     "height": 519
    },
    "id": "X09nxgNhwP9k",
    "outputId": "24d9747d-94b8-4c54-e080-14e9e1060d8b"
   },
   "outputs": [
    {
     "data": {
      "text/html": [
       "\n",
       "  <div id=\"df-13ff277c-7bab-4342-847f-7173e05a4017\">\n",
       "    <div class=\"colab-df-container\">\n",
       "      <div>\n",
       "<style scoped>\n",
       "    .dataframe tbody tr th:only-of-type {\n",
       "        vertical-align: middle;\n",
       "    }\n",
       "\n",
       "    .dataframe tbody tr th {\n",
       "        vertical-align: top;\n",
       "    }\n",
       "\n",
       "    .dataframe thead th {\n",
       "        text-align: right;\n",
       "    }\n",
       "</style>\n",
       "<table border=\"1\" class=\"dataframe\">\n",
       "  <thead>\n",
       "    <tr style=\"text-align: right;\">\n",
       "      <th></th>\n",
       "      <th>Age</th>\n",
       "      <th>Temperature</th>\n",
       "      <th>HemoCue</th>\n",
       "      <th>Malaria</th>\n",
       "      <th>Headache</th>\n",
       "      <th>Chills</th>\n",
       "      <th>Aches_or_pains</th>\n",
       "      <th>Fatigue</th>\n",
       "      <th>Vomiting</th>\n",
       "      <th>Lack_of_appetite</th>\n",
       "      <th>Cough</th>\n",
       "      <th>Dizziness</th>\n",
       "      <th>Sweating</th>\n",
       "      <th>Abdominal_pain</th>\n",
       "      <th>Diarrhea</th>\n",
       "      <th>Lower_back_pain</th>\n",
       "      <th>Eye_pain</th>\n",
       "      <th>Paleness</th>\n",
       "      <th>Chest_pain</th>\n",
       "      <th>Rash</th>\n",
       "      <th>Ear_pain</th>\n",
       "      <th>Gender</th>\n",
       "    </tr>\n",
       "    <tr>\n",
       "      <th>Subject_ID</th>\n",
       "      <th></th>\n",
       "      <th></th>\n",
       "      <th></th>\n",
       "      <th></th>\n",
       "      <th></th>\n",
       "      <th></th>\n",
       "      <th></th>\n",
       "      <th></th>\n",
       "      <th></th>\n",
       "      <th></th>\n",
       "      <th></th>\n",
       "      <th></th>\n",
       "      <th></th>\n",
       "      <th></th>\n",
       "      <th></th>\n",
       "      <th></th>\n",
       "      <th></th>\n",
       "      <th></th>\n",
       "      <th></th>\n",
       "      <th></th>\n",
       "      <th></th>\n",
       "      <th></th>\n",
       "    </tr>\n",
       "  </thead>\n",
       "  <tbody>\n",
       "    <tr>\n",
       "      <th>R2377</th>\n",
       "      <td>60</td>\n",
       "      <td>101.8</td>\n",
       "      <td>8.8</td>\n",
       "      <td>1</td>\n",
       "      <td>0</td>\n",
       "      <td>0</td>\n",
       "      <td>0</td>\n",
       "      <td>1</td>\n",
       "      <td>0</td>\n",
       "      <td>0</td>\n",
       "      <td>0</td>\n",
       "      <td>0</td>\n",
       "      <td>0</td>\n",
       "      <td>0</td>\n",
       "      <td>0</td>\n",
       "      <td>0</td>\n",
       "      <td>0</td>\n",
       "      <td>0</td>\n",
       "      <td>0</td>\n",
       "      <td>0</td>\n",
       "      <td>0</td>\n",
       "      <td>0</td>\n",
       "    </tr>\n",
       "    <tr>\n",
       "      <th>R4453</th>\n",
       "      <td>56</td>\n",
       "      <td>96.6</td>\n",
       "      <td>14.8</td>\n",
       "      <td>1</td>\n",
       "      <td>0</td>\n",
       "      <td>1</td>\n",
       "      <td>0</td>\n",
       "      <td>0</td>\n",
       "      <td>0</td>\n",
       "      <td>0</td>\n",
       "      <td>0</td>\n",
       "      <td>0</td>\n",
       "      <td>0</td>\n",
       "      <td>0</td>\n",
       "      <td>0</td>\n",
       "      <td>0</td>\n",
       "      <td>0</td>\n",
       "      <td>0</td>\n",
       "      <td>0</td>\n",
       "      <td>0</td>\n",
       "      <td>0</td>\n",
       "      <td>1</td>\n",
       "    </tr>\n",
       "    <tr>\n",
       "      <th>R2420</th>\n",
       "      <td>4</td>\n",
       "      <td>90.0</td>\n",
       "      <td>12.5</td>\n",
       "      <td>1</td>\n",
       "      <td>1</td>\n",
       "      <td>0</td>\n",
       "      <td>0</td>\n",
       "      <td>0</td>\n",
       "      <td>0</td>\n",
       "      <td>0</td>\n",
       "      <td>0</td>\n",
       "      <td>0</td>\n",
       "      <td>0</td>\n",
       "      <td>0</td>\n",
       "      <td>0</td>\n",
       "      <td>0</td>\n",
       "      <td>0</td>\n",
       "      <td>0</td>\n",
       "      <td>0</td>\n",
       "      <td>0</td>\n",
       "      <td>0</td>\n",
       "      <td>0</td>\n",
       "    </tr>\n",
       "    <tr>\n",
       "      <th>R5505</th>\n",
       "      <td>35</td>\n",
       "      <td>96.4</td>\n",
       "      <td>14.7</td>\n",
       "      <td>1</td>\n",
       "      <td>1</td>\n",
       "      <td>0</td>\n",
       "      <td>0</td>\n",
       "      <td>0</td>\n",
       "      <td>0</td>\n",
       "      <td>0</td>\n",
       "      <td>0</td>\n",
       "      <td>0</td>\n",
       "      <td>0</td>\n",
       "      <td>0</td>\n",
       "      <td>0</td>\n",
       "      <td>0</td>\n",
       "      <td>0</td>\n",
       "      <td>0</td>\n",
       "      <td>0</td>\n",
       "      <td>0</td>\n",
       "      <td>0</td>\n",
       "      <td>1</td>\n",
       "    </tr>\n",
       "    <tr>\n",
       "      <th>R4285</th>\n",
       "      <td>50</td>\n",
       "      <td>96.4</td>\n",
       "      <td>14.3</td>\n",
       "      <td>1</td>\n",
       "      <td>0</td>\n",
       "      <td>0</td>\n",
       "      <td>0</td>\n",
       "      <td>0</td>\n",
       "      <td>0</td>\n",
       "      <td>0</td>\n",
       "      <td>0</td>\n",
       "      <td>0</td>\n",
       "      <td>0</td>\n",
       "      <td>0</td>\n",
       "      <td>0</td>\n",
       "      <td>1</td>\n",
       "      <td>0</td>\n",
       "      <td>0</td>\n",
       "      <td>0</td>\n",
       "      <td>0</td>\n",
       "      <td>0</td>\n",
       "      <td>1</td>\n",
       "    </tr>\n",
       "    <tr>\n",
       "      <th>...</th>\n",
       "      <td>...</td>\n",
       "      <td>...</td>\n",
       "      <td>...</td>\n",
       "      <td>...</td>\n",
       "      <td>...</td>\n",
       "      <td>...</td>\n",
       "      <td>...</td>\n",
       "      <td>...</td>\n",
       "      <td>...</td>\n",
       "      <td>...</td>\n",
       "      <td>...</td>\n",
       "      <td>...</td>\n",
       "      <td>...</td>\n",
       "      <td>...</td>\n",
       "      <td>...</td>\n",
       "      <td>...</td>\n",
       "      <td>...</td>\n",
       "      <td>...</td>\n",
       "      <td>...</td>\n",
       "      <td>...</td>\n",
       "      <td>...</td>\n",
       "      <td>...</td>\n",
       "    </tr>\n",
       "    <tr>\n",
       "      <th>R5265</th>\n",
       "      <td>40</td>\n",
       "      <td>99.0</td>\n",
       "      <td>12.9</td>\n",
       "      <td>0</td>\n",
       "      <td>1</td>\n",
       "      <td>1</td>\n",
       "      <td>1</td>\n",
       "      <td>0</td>\n",
       "      <td>0</td>\n",
       "      <td>0</td>\n",
       "      <td>1</td>\n",
       "      <td>0</td>\n",
       "      <td>0</td>\n",
       "      <td>0</td>\n",
       "      <td>0</td>\n",
       "      <td>1</td>\n",
       "      <td>1</td>\n",
       "      <td>0</td>\n",
       "      <td>1</td>\n",
       "      <td>0</td>\n",
       "      <td>0</td>\n",
       "      <td>0</td>\n",
       "    </tr>\n",
       "    <tr>\n",
       "      <th>R4769</th>\n",
       "      <td>64</td>\n",
       "      <td>99.3</td>\n",
       "      <td>11.1</td>\n",
       "      <td>0</td>\n",
       "      <td>1</td>\n",
       "      <td>0</td>\n",
       "      <td>1</td>\n",
       "      <td>0</td>\n",
       "      <td>1</td>\n",
       "      <td>0</td>\n",
       "      <td>1</td>\n",
       "      <td>0</td>\n",
       "      <td>0</td>\n",
       "      <td>1</td>\n",
       "      <td>0</td>\n",
       "      <td>1</td>\n",
       "      <td>1</td>\n",
       "      <td>0</td>\n",
       "      <td>0</td>\n",
       "      <td>0</td>\n",
       "      <td>0</td>\n",
       "      <td>0</td>\n",
       "    </tr>\n",
       "    <tr>\n",
       "      <th>R4647</th>\n",
       "      <td>37</td>\n",
       "      <td>99.0</td>\n",
       "      <td>12.4</td>\n",
       "      <td>0</td>\n",
       "      <td>1</td>\n",
       "      <td>1</td>\n",
       "      <td>1</td>\n",
       "      <td>0</td>\n",
       "      <td>0</td>\n",
       "      <td>0</td>\n",
       "      <td>1</td>\n",
       "      <td>0</td>\n",
       "      <td>0</td>\n",
       "      <td>0</td>\n",
       "      <td>0</td>\n",
       "      <td>1</td>\n",
       "      <td>1</td>\n",
       "      <td>0</td>\n",
       "      <td>1</td>\n",
       "      <td>0</td>\n",
       "      <td>1</td>\n",
       "      <td>0</td>\n",
       "    </tr>\n",
       "    <tr>\n",
       "      <th>R5073</th>\n",
       "      <td>32</td>\n",
       "      <td>99.1</td>\n",
       "      <td>16.7</td>\n",
       "      <td>0</td>\n",
       "      <td>1</td>\n",
       "      <td>1</td>\n",
       "      <td>1</td>\n",
       "      <td>1</td>\n",
       "      <td>1</td>\n",
       "      <td>1</td>\n",
       "      <td>1</td>\n",
       "      <td>0</td>\n",
       "      <td>1</td>\n",
       "      <td>0</td>\n",
       "      <td>0</td>\n",
       "      <td>0</td>\n",
       "      <td>0</td>\n",
       "      <td>0</td>\n",
       "      <td>0</td>\n",
       "      <td>0</td>\n",
       "      <td>0</td>\n",
       "      <td>1</td>\n",
       "    </tr>\n",
       "    <tr>\n",
       "      <th>R4593</th>\n",
       "      <td>35</td>\n",
       "      <td>98.8</td>\n",
       "      <td>14.6</td>\n",
       "      <td>0</td>\n",
       "      <td>1</td>\n",
       "      <td>1</td>\n",
       "      <td>1</td>\n",
       "      <td>1</td>\n",
       "      <td>1</td>\n",
       "      <td>1</td>\n",
       "      <td>1</td>\n",
       "      <td>0</td>\n",
       "      <td>1</td>\n",
       "      <td>1</td>\n",
       "      <td>1</td>\n",
       "      <td>1</td>\n",
       "      <td>1</td>\n",
       "      <td>0</td>\n",
       "      <td>1</td>\n",
       "      <td>0</td>\n",
       "      <td>0</td>\n",
       "      <td>0</td>\n",
       "    </tr>\n",
       "  </tbody>\n",
       "</table>\n",
       "<p>1334 rows × 22 columns</p>\n",
       "</div>\n",
       "      <button class=\"colab-df-convert\" onclick=\"convertToInteractive('df-13ff277c-7bab-4342-847f-7173e05a4017')\"\n",
       "              title=\"Convert this dataframe to an interactive table.\"\n",
       "              style=\"display:none;\">\n",
       "        \n",
       "  <svg xmlns=\"http://www.w3.org/2000/svg\" height=\"24px\"viewBox=\"0 0 24 24\"\n",
       "       width=\"24px\">\n",
       "    <path d=\"M0 0h24v24H0V0z\" fill=\"none\"/>\n",
       "    <path d=\"M18.56 5.44l.94 2.06.94-2.06 2.06-.94-2.06-.94-.94-2.06-.94 2.06-2.06.94zm-11 1L8.5 8.5l.94-2.06 2.06-.94-2.06-.94L8.5 2.5l-.94 2.06-2.06.94zm10 10l.94 2.06.94-2.06 2.06-.94-2.06-.94-.94-2.06-.94 2.06-2.06.94z\"/><path d=\"M17.41 7.96l-1.37-1.37c-.4-.4-.92-.59-1.43-.59-.52 0-1.04.2-1.43.59L10.3 9.45l-7.72 7.72c-.78.78-.78 2.05 0 2.83L4 21.41c.39.39.9.59 1.41.59.51 0 1.02-.2 1.41-.59l7.78-7.78 2.81-2.81c.8-.78.8-2.07 0-2.86zM5.41 20L4 18.59l7.72-7.72 1.47 1.35L5.41 20z\"/>\n",
       "  </svg>\n",
       "      </button>\n",
       "      \n",
       "  <style>\n",
       "    .colab-df-container {\n",
       "      display:flex;\n",
       "      flex-wrap:wrap;\n",
       "      gap: 12px;\n",
       "    }\n",
       "\n",
       "    .colab-df-convert {\n",
       "      background-color: #E8F0FE;\n",
       "      border: none;\n",
       "      border-radius: 50%;\n",
       "      cursor: pointer;\n",
       "      display: none;\n",
       "      fill: #1967D2;\n",
       "      height: 32px;\n",
       "      padding: 0 0 0 0;\n",
       "      width: 32px;\n",
       "    }\n",
       "\n",
       "    .colab-df-convert:hover {\n",
       "      background-color: #E2EBFA;\n",
       "      box-shadow: 0px 1px 2px rgba(60, 64, 67, 0.3), 0px 1px 3px 1px rgba(60, 64, 67, 0.15);\n",
       "      fill: #174EA6;\n",
       "    }\n",
       "\n",
       "    [theme=dark] .colab-df-convert {\n",
       "      background-color: #3B4455;\n",
       "      fill: #D2E3FC;\n",
       "    }\n",
       "\n",
       "    [theme=dark] .colab-df-convert:hover {\n",
       "      background-color: #434B5C;\n",
       "      box-shadow: 0px 1px 3px 1px rgba(0, 0, 0, 0.15);\n",
       "      filter: drop-shadow(0px 1px 2px rgba(0, 0, 0, 0.3));\n",
       "      fill: #FFFFFF;\n",
       "    }\n",
       "  </style>\n",
       "\n",
       "      <script>\n",
       "        const buttonEl =\n",
       "          document.querySelector('#df-13ff277c-7bab-4342-847f-7173e05a4017 button.colab-df-convert');\n",
       "        buttonEl.style.display =\n",
       "          google.colab.kernel.accessAllowed ? 'block' : 'none';\n",
       "\n",
       "        async function convertToInteractive(key) {\n",
       "          const element = document.querySelector('#df-13ff277c-7bab-4342-847f-7173e05a4017');\n",
       "          const dataTable =\n",
       "            await google.colab.kernel.invokeFunction('convertToInteractive',\n",
       "                                                     [key], {});\n",
       "          if (!dataTable) return;\n",
       "\n",
       "          const docLinkHtml = 'Like what you see? Visit the ' +\n",
       "            '<a target=\"_blank\" href=https://colab.research.google.com/notebooks/data_table.ipynb>data table notebook</a>'\n",
       "            + ' to learn more about interactive tables.';\n",
       "          element.innerHTML = '';\n",
       "          dataTable['output_type'] = 'display_data';\n",
       "          await google.colab.output.renderOutput(dataTable, element);\n",
       "          const docLink = document.createElement('div');\n",
       "          docLink.innerHTML = docLinkHtml;\n",
       "          element.appendChild(docLink);\n",
       "        }\n",
       "      </script>\n",
       "    </div>\n",
       "  </div>\n",
       "  "
      ],
      "text/plain": [
       "            Age  Temperature  HemoCue  Malaria  Headache  Chills  \\\n",
       "Subject_ID                                                         \n",
       "R2377        60        101.8      8.8        1         0       0   \n",
       "R4453        56         96.6     14.8        1         0       1   \n",
       "R2420         4         90.0     12.5        1         1       0   \n",
       "R5505        35         96.4     14.7        1         1       0   \n",
       "R4285        50         96.4     14.3        1         0       0   \n",
       "...         ...          ...      ...      ...       ...     ...   \n",
       "R5265        40         99.0     12.9        0         1       1   \n",
       "R4769        64         99.3     11.1        0         1       0   \n",
       "R4647        37         99.0     12.4        0         1       1   \n",
       "R5073        32         99.1     16.7        0         1       1   \n",
       "R4593        35         98.8     14.6        0         1       1   \n",
       "\n",
       "            Aches_or_pains  Fatigue  Vomiting  Lack_of_appetite  Cough  \\\n",
       "Subject_ID                                                               \n",
       "R2377                    0        1         0                 0      0   \n",
       "R4453                    0        0         0                 0      0   \n",
       "R2420                    0        0         0                 0      0   \n",
       "R5505                    0        0         0                 0      0   \n",
       "R4285                    0        0         0                 0      0   \n",
       "...                    ...      ...       ...               ...    ...   \n",
       "R5265                    1        0         0                 0      1   \n",
       "R4769                    1        0         1                 0      1   \n",
       "R4647                    1        0         0                 0      1   \n",
       "R5073                    1        1         1                 1      1   \n",
       "R4593                    1        1         1                 1      1   \n",
       "\n",
       "            Dizziness  Sweating  Abdominal_pain  Diarrhea  Lower_back_pain  \\\n",
       "Subject_ID                                                                   \n",
       "R2377               0         0               0         0                0   \n",
       "R4453               0         0               0         0                0   \n",
       "R2420               0         0               0         0                0   \n",
       "R5505               0         0               0         0                0   \n",
       "R4285               0         0               0         0                1   \n",
       "...               ...       ...             ...       ...              ...   \n",
       "R5265               0         0               0         0                1   \n",
       "R4769               0         0               1         0                1   \n",
       "R4647               0         0               0         0                1   \n",
       "R5073               0         1               0         0                0   \n",
       "R4593               0         1               1         1                1   \n",
       "\n",
       "            Eye_pain  Paleness  Chest_pain  Rash  Ear_pain  Gender  \n",
       "Subject_ID                                                          \n",
       "R2377              0         0           0     0         0       0  \n",
       "R4453              0         0           0     0         0       1  \n",
       "R2420              0         0           0     0         0       0  \n",
       "R5505              0         0           0     0         0       1  \n",
       "R4285              0         0           0     0         0       1  \n",
       "...              ...       ...         ...   ...       ...     ...  \n",
       "R5265              1         0           1     0         0       0  \n",
       "R4769              1         0           0     0         0       0  \n",
       "R4647              1         0           1     0         1       0  \n",
       "R5073              0         0           0     0         0       1  \n",
       "R4593              1         0           1     0         0       0  \n",
       "\n",
       "[1334 rows x 22 columns]"
      ]
     },
     "execution_count": 5,
     "metadata": {},
     "output_type": "execute_result"
    }
   ],
   "source": [
    "del df['Sex']\n",
    "df"
   ]
  },
  {
   "cell_type": "markdown",
   "metadata": {
    "id": "DVLh-Mt7wTQZ"
   },
   "source": [
    "## Train Test Split"
   ]
  },
  {
   "cell_type": "code",
   "execution_count": null,
   "metadata": {
    "id": "mXfgeKh2wUbP"
   },
   "outputs": [],
   "source": [
    "y = df[\"Malaria\"]\n",
    "X = df.drop('Malaria', axis=1)"
   ]
  },
  {
   "cell_type": "code",
   "execution_count": null,
   "metadata": {
    "id": "y_b0l9kWwX5o"
   },
   "outputs": [],
   "source": [
    "X_train, X_test, y_train, y_test = train_test_split(X, y, test_size=0.25, random_state=27)"
   ]
  },
  {
   "cell_type": "markdown",
   "metadata": {
    "id": "_EhMWq-jwdB4"
   },
   "source": [
    "## Random Forest"
   ]
  },
  {
   "cell_type": "code",
   "execution_count": null,
   "metadata": {
    "id": "fvZHsG8DwfzI"
   },
   "outputs": [],
   "source": [
    "from sklearn.ensemble import RandomForestClassifier"
   ]
  },
  {
   "cell_type": "code",
   "execution_count": null,
   "metadata": {
    "colab": {
     "base_uri": "https://localhost:8080/"
    },
    "id": "YmnHRzoVwiXk",
    "outputId": "487577f0-f92d-48c2-c7d8-a1e2afcabb4e"
   },
   "outputs": [
    {
     "name": "stdout",
     "output_type": "stream",
     "text": [
      "Fitting 3 folds for each of 16 candidates, totalling 48 fits\n",
      "[CV 1/3] END ......max_depth=4, n_estimators=10;, score=0.895 total time=   0.0s\n",
      "[CV 2/3] END ......max_depth=4, n_estimators=10;, score=0.736 total time=   0.1s\n",
      "[CV 3/3] END ......max_depth=4, n_estimators=10;, score=0.749 total time=   0.0s\n",
      "[CV 1/3] END ......max_depth=4, n_estimators=50;, score=0.878 total time=   0.2s\n",
      "[CV 2/3] END ......max_depth=4, n_estimators=50;, score=0.678 total time=   0.2s\n",
      "[CV 3/3] END ......max_depth=4, n_estimators=50;, score=0.702 total time=   0.2s\n",
      "[CV 1/3] END .....max_depth=4, n_estimators=100;, score=0.920 total time=   0.4s\n",
      "[CV 2/3] END .....max_depth=4, n_estimators=100;, score=0.719 total time=   0.6s\n",
      "[CV 3/3] END .....max_depth=4, n_estimators=100;, score=0.705 total time=   0.5s\n",
      "[CV 1/3] END .....max_depth=4, n_estimators=500;, score=0.902 total time=   2.4s\n",
      "[CV 2/3] END .....max_depth=4, n_estimators=500;, score=0.706 total time=   2.1s\n",
      "[CV 3/3] END .....max_depth=4, n_estimators=500;, score=0.729 total time=   2.1s\n",
      "[CV 1/3] END ......max_depth=8, n_estimators=10;, score=0.778 total time=   0.0s\n",
      "[CV 2/3] END ......max_depth=8, n_estimators=10;, score=0.603 total time=   0.0s\n",
      "[CV 3/3] END ......max_depth=8, n_estimators=10;, score=0.732 total time=   0.0s\n",
      "[CV 1/3] END ......max_depth=8, n_estimators=50;, score=0.806 total time=   0.1s\n",
      "[CV 2/3] END ......max_depth=8, n_estimators=50;, score=0.702 total time=   0.1s\n",
      "[CV 3/3] END ......max_depth=8, n_estimators=50;, score=0.735 total time=   0.1s\n",
      "[CV 1/3] END .....max_depth=8, n_estimators=100;, score=0.847 total time=   0.2s\n",
      "[CV 2/3] END .....max_depth=8, n_estimators=100;, score=0.656 total time=   0.2s\n",
      "[CV 3/3] END .....max_depth=8, n_estimators=100;, score=0.686 total time=   0.2s\n",
      "[CV 1/3] END .....max_depth=8, n_estimators=500;, score=0.869 total time=   0.9s\n",
      "[CV 2/3] END .....max_depth=8, n_estimators=500;, score=0.690 total time=   0.9s\n",
      "[CV 3/3] END .....max_depth=8, n_estimators=500;, score=0.748 total time=   0.9s\n",
      "[CV 1/3] END .....max_depth=10, n_estimators=10;, score=0.807 total time=   0.0s\n",
      "[CV 2/3] END .....max_depth=10, n_estimators=10;, score=0.644 total time=   0.0s\n",
      "[CV 3/3] END .....max_depth=10, n_estimators=10;, score=0.681 total time=   0.0s\n",
      "[CV 1/3] END .....max_depth=10, n_estimators=50;, score=0.842 total time=   0.1s\n",
      "[CV 2/3] END .....max_depth=10, n_estimators=50;, score=0.661 total time=   0.1s\n",
      "[CV 3/3] END .....max_depth=10, n_estimators=50;, score=0.735 total time=   0.1s\n",
      "[CV 1/3] END ....max_depth=10, n_estimators=100;, score=0.889 total time=   0.2s\n",
      "[CV 2/3] END ....max_depth=10, n_estimators=100;, score=0.691 total time=   0.2s\n",
      "[CV 3/3] END ....max_depth=10, n_estimators=100;, score=0.737 total time=   0.2s\n",
      "[CV 1/3] END ....max_depth=10, n_estimators=500;, score=0.848 total time=   0.9s\n",
      "[CV 2/3] END ....max_depth=10, n_estimators=500;, score=0.693 total time=   1.0s\n",
      "[CV 3/3] END ....max_depth=10, n_estimators=500;, score=0.752 total time=   1.0s\n",
      "[CV 1/3] END .....max_depth=20, n_estimators=10;, score=0.781 total time=   0.0s\n",
      "[CV 2/3] END .....max_depth=20, n_estimators=10;, score=0.627 total time=   0.0s\n",
      "[CV 3/3] END .....max_depth=20, n_estimators=10;, score=0.725 total time=   0.0s\n",
      "[CV 1/3] END .....max_depth=20, n_estimators=50;, score=0.817 total time=   0.1s\n",
      "[CV 2/3] END .....max_depth=20, n_estimators=50;, score=0.663 total time=   0.1s\n",
      "[CV 3/3] END .....max_depth=20, n_estimators=50;, score=0.735 total time=   0.1s\n",
      "[CV 1/3] END ....max_depth=20, n_estimators=100;, score=0.854 total time=   0.2s\n",
      "[CV 2/3] END ....max_depth=20, n_estimators=100;, score=0.663 total time=   0.2s\n",
      "[CV 3/3] END ....max_depth=20, n_estimators=100;, score=0.766 total time=   0.2s\n",
      "[CV 1/3] END ....max_depth=20, n_estimators=500;, score=0.844 total time=   1.0s\n",
      "[CV 2/3] END ....max_depth=20, n_estimators=500;, score=0.667 total time=   1.0s\n",
      "[CV 3/3] END ....max_depth=20, n_estimators=500;, score=0.725 total time=   0.9s\n",
      "{'max_depth': 4, 'n_estimators': 10} 0.7930564805564805\n"
     ]
    }
   ],
   "source": [
    "rf = RandomForestClassifier()\n",
    "estimators=[10,50,100,500]\n",
    "depths=[4,8,10,20] \n",
    "hyperparameters = dict(n_estimators=estimators, max_depth=depths)\n",
    "clf = GridSearchCV(rf, hyperparameters, scoring = 'roc_auc', cv=3, verbose=3)\n",
    "\n",
    "clf.fit(X_train, y_train)\n",
    "print(clf.best_params_, clf.best_score_)"
   ]
  },
  {
   "cell_type": "code",
   "execution_count": null,
   "metadata": {
    "colab": {
     "base_uri": "https://localhost:8080/"
    },
    "id": "KMKYX11xwlzW",
    "outputId": "d17a134e-24a3-447e-c068-4e08fb906553"
   },
   "outputs": [
    {
     "data": {
      "text/plain": [
       "0.9700598802395209"
      ]
     },
     "execution_count": 10,
     "metadata": {},
     "output_type": "execute_result"
    }
   ],
   "source": [
    "b_model = RandomForestClassifier(max_depth=4,n_estimators=500)\n",
    "b_model.fit(X_train,y_train)\n",
    "best_tree_predictions = b_model.predict(X_test)\n",
    "b_model.score(X_test, y_test)"
   ]
  },
  {
   "cell_type": "code",
   "execution_count": null,
   "metadata": {
    "colab": {
     "base_uri": "https://localhost:8080/"
    },
    "id": "xN9OoBEPwoAG",
    "outputId": "460607bf-b796-4103-ca81-01ef449cee0d"
   },
   "outputs": [
    {
     "name": "stdout",
     "output_type": "stream",
     "text": [
      "Accuracy:  0.9700598802395209\n",
      "              precision    recall  f1-score   support\n",
      "\n",
      "           0    0.96914   1.00000   0.98433       314\n",
      "           1    1.00000   0.50000   0.66667        20\n",
      "\n",
      "    accuracy                        0.97006       334\n",
      "   macro avg    0.98457   0.75000   0.82550       334\n",
      "weighted avg    0.97098   0.97006   0.96530       334\n",
      "\n",
      "Confusion Matrix: [[314   0]\n",
      " [ 10  10]]\n"
     ]
    }
   ],
   "source": [
    "print('Accuracy: ',accuracy_score(y_test, best_tree_predictions))\n",
    "print(classification_report(y_test, best_tree_predictions, digits=5))\n",
    "print('Confusion Matrix:',confusion_matrix(y_test,best_tree_predictions))"
   ]
  },
  {
   "cell_type": "code",
   "execution_count": null,
   "metadata": {
    "id": "s5yp1IhUYbzQ"
   },
   "outputs": [],
   "source": [
    "from sklearn.metrics import roc_auc_score"
   ]
  },
  {
   "cell_type": "code",
   "execution_count": null,
   "metadata": {
    "colab": {
     "base_uri": "https://localhost:8080/"
    },
    "id": "CgmiIgPNYQkr",
    "outputId": "15151ebf-7ecc-460c-90f5-c4f8124e2079"
   },
   "outputs": [
    {
     "name": "stdout",
     "output_type": "stream",
     "text": [
      "ROC AUC: 0.750000\n"
     ]
    }
   ],
   "source": [
    "auc = roc_auc_score(y_test, best_tree_predictions)\n",
    "print('ROC AUC: %f' % auc)"
   ]
  },
  {
   "cell_type": "code",
   "execution_count": null,
   "metadata": {
    "colab": {
     "base_uri": "https://localhost:8080/",
     "height": 337
    },
    "id": "Kr28xENZTcsy",
    "outputId": "1636a0d9-03f2-474b-fcd6-5c858c056b45"
   },
   "outputs": [
    {
     "data": {
      "image/png": "[encoded data removed]",
      "text/plain": [
       "<Figure size 432x288 with 2 Axes>"
      ]
     },
     "metadata": {
      "needs_background": "light"
     },
     "output_type": "display_data"
    }
   ],
   "source": [
    "import seaborn as sns\n",
    "\n",
    "ax = sns.heatmap(confusion_matrix(y_test,best_tree_predictions), annot=True, cmap='Blues')\n",
    "\n",
    "ax.set_title('Seaborn Confusion Matrix with labels\\n\\n');\n",
    "ax.set_xlabel('\\nPredicted Values')\n",
    "ax.set_ylabel('Actual Values ');\n",
    "\n",
    "ax.xaxis.set_ticklabels(['Neg','Pos'])\n",
    "ax.yaxis.set_ticklabels(['Neg','Pos'])\n",
    "\n",
    "plt.show()\n",
    "##10/20 TPR\n",
    "##10/20 FNR\n",
    "##0/314 FPR\n",
    "##314/314 TNR"
   ]
  },
  {
   "cell_type": "code",
   "execution_count": null,
   "metadata": {
    "id": "8yy_xJ0l4TVL"
   },
   "outputs": [],
   "source": [
    "def plot_roc_curve(fper, tper):\n",
    "    plt.plot(fper, tper, color='red', label='ROC')\n",
    "    plt.plot([0, 1], [0, 1], color='green', linestyle='--')\n",
    "    plt.xlabel('False Positive Rate')\n",
    "    plt.ylabel('True Positive Rate')\n",
    "    plt.legend()\n",
    "    plt.show()"
   ]
  },
  {
   "cell_type": "code",
   "execution_count": null,
   "metadata": {
    "colab": {
     "base_uri": "https://localhost:8080/",
     "height": 279
    },
    "id": "O8udaYua3lxa",
    "outputId": "3fed2482-f14d-4f3b-c231-e585e4ea3363"
   },
   "outputs": [
    {
     "data": {
      "image/png": "[encoded data removed]",
      "text/plain": [
       "<Figure size 432x288 with 1 Axes>"
      ]
     },
     "metadata": {
      "needs_background": "light"
     },
     "output_type": "display_data"
    }
   ],
   "source": [
    "prob = b_model.predict_proba(X_test)\n",
    "prob = prob[:, 1]\n",
    "fper, tper, thresholds = roc_curve(y_test, prob)\n",
    "plot_roc_curve(fper, tper)"
   ]
  },
  {
   "cell_type": "code",
   "execution_count": null,
   "metadata": {
    "id": "ojqDZz_zA3Yz"
   },
   "outputs": [],
   "source": [
    "temp = [fper, tper, thresholds]"
   ]
  },
  {
   "cell_type": "code",
   "execution_count": null,
   "metadata": {
    "colab": {
     "base_uri": "https://localhost:8080/",
     "height": 802
    },
    "id": "lgNL3D738_UA",
    "outputId": "00263d62-0158-4b9f-8bd5-917703e1e23c"
   },
   "outputs": [
    {
     "data": {
      "text/html": [
       "\n",
       "  <div id=\"df-673ab0b8-e8a8-4db3-ba87-15b4e26f0649\">\n",
       "    <div class=\"colab-df-container\">\n",
       "      <div>\n",
       "<style scoped>\n",
       "    .dataframe tbody tr th:only-of-type {\n",
       "        vertical-align: middle;\n",
       "    }\n",
       "\n",
       "    .dataframe tbody tr th {\n",
       "        vertical-align: top;\n",
       "    }\n",
       "\n",
       "    .dataframe thead th {\n",
       "        text-align: right;\n",
       "    }\n",
       "</style>\n",
       "<table border=\"1\" class=\"dataframe\">\n",
       "  <thead>\n",
       "    <tr style=\"text-align: right;\">\n",
       "      <th></th>\n",
       "      <th>0</th>\n",
       "      <th>1</th>\n",
       "      <th>2</th>\n",
       "    </tr>\n",
       "  </thead>\n",
       "  <tbody>\n",
       "    <tr>\n",
       "      <th>0</th>\n",
       "      <td>0.000000</td>\n",
       "      <td>0.00</td>\n",
       "      <td>1.587910</td>\n",
       "    </tr>\n",
       "    <tr>\n",
       "      <th>1</th>\n",
       "      <td>0.000000</td>\n",
       "      <td>0.05</td>\n",
       "      <td>0.587910</td>\n",
       "    </tr>\n",
       "    <tr>\n",
       "      <th>2</th>\n",
       "      <td>0.000000</td>\n",
       "      <td>0.50</td>\n",
       "      <td>0.517928</td>\n",
       "    </tr>\n",
       "    <tr>\n",
       "      <th>3</th>\n",
       "      <td>0.047771</td>\n",
       "      <td>0.50</td>\n",
       "      <td>0.090927</td>\n",
       "    </tr>\n",
       "    <tr>\n",
       "      <th>4</th>\n",
       "      <td>0.047771</td>\n",
       "      <td>0.55</td>\n",
       "      <td>0.089997</td>\n",
       "    </tr>\n",
       "    <tr>\n",
       "      <th>5</th>\n",
       "      <td>0.149682</td>\n",
       "      <td>0.55</td>\n",
       "      <td>0.069591</td>\n",
       "    </tr>\n",
       "    <tr>\n",
       "      <th>6</th>\n",
       "      <td>0.149682</td>\n",
       "      <td>0.60</td>\n",
       "      <td>0.069450</td>\n",
       "    </tr>\n",
       "    <tr>\n",
       "      <th>7</th>\n",
       "      <td>0.245223</td>\n",
       "      <td>0.60</td>\n",
       "      <td>0.056403</td>\n",
       "    </tr>\n",
       "    <tr>\n",
       "      <th>8</th>\n",
       "      <td>0.245223</td>\n",
       "      <td>0.65</td>\n",
       "      <td>0.056120</td>\n",
       "    </tr>\n",
       "    <tr>\n",
       "      <th>9</th>\n",
       "      <td>0.343949</td>\n",
       "      <td>0.65</td>\n",
       "      <td>0.050196</td>\n",
       "    </tr>\n",
       "    <tr>\n",
       "      <th>10</th>\n",
       "      <td>0.343949</td>\n",
       "      <td>0.70</td>\n",
       "      <td>0.050165</td>\n",
       "    </tr>\n",
       "    <tr>\n",
       "      <th>11</th>\n",
       "      <td>0.404459</td>\n",
       "      <td>0.70</td>\n",
       "      <td>0.046703</td>\n",
       "    </tr>\n",
       "    <tr>\n",
       "      <th>12</th>\n",
       "      <td>0.404459</td>\n",
       "      <td>0.75</td>\n",
       "      <td>0.046688</td>\n",
       "    </tr>\n",
       "    <tr>\n",
       "      <th>13</th>\n",
       "      <td>0.493631</td>\n",
       "      <td>0.75</td>\n",
       "      <td>0.044783</td>\n",
       "    </tr>\n",
       "    <tr>\n",
       "      <th>14</th>\n",
       "      <td>0.493631</td>\n",
       "      <td>0.80</td>\n",
       "      <td>0.044717</td>\n",
       "    </tr>\n",
       "    <tr>\n",
       "      <th>15</th>\n",
       "      <td>0.726115</td>\n",
       "      <td>0.80</td>\n",
       "      <td>0.039101</td>\n",
       "    </tr>\n",
       "    <tr>\n",
       "      <th>16</th>\n",
       "      <td>0.726115</td>\n",
       "      <td>0.85</td>\n",
       "      <td>0.038980</td>\n",
       "    </tr>\n",
       "    <tr>\n",
       "      <th>17</th>\n",
       "      <td>0.773885</td>\n",
       "      <td>0.85</td>\n",
       "      <td>0.036919</td>\n",
       "    </tr>\n",
       "    <tr>\n",
       "      <th>18</th>\n",
       "      <td>0.773885</td>\n",
       "      <td>0.90</td>\n",
       "      <td>0.036768</td>\n",
       "    </tr>\n",
       "    <tr>\n",
       "      <th>19</th>\n",
       "      <td>0.802548</td>\n",
       "      <td>0.90</td>\n",
       "      <td>0.035861</td>\n",
       "    </tr>\n",
       "    <tr>\n",
       "      <th>20</th>\n",
       "      <td>0.802548</td>\n",
       "      <td>0.95</td>\n",
       "      <td>0.035850</td>\n",
       "    </tr>\n",
       "    <tr>\n",
       "      <th>21</th>\n",
       "      <td>0.933121</td>\n",
       "      <td>0.95</td>\n",
       "      <td>0.032257</td>\n",
       "    </tr>\n",
       "    <tr>\n",
       "      <th>22</th>\n",
       "      <td>0.933121</td>\n",
       "      <td>1.00</td>\n",
       "      <td>0.031789</td>\n",
       "    </tr>\n",
       "    <tr>\n",
       "      <th>23</th>\n",
       "      <td>1.000000</td>\n",
       "      <td>1.00</td>\n",
       "      <td>0.024220</td>\n",
       "    </tr>\n",
       "  </tbody>\n",
       "</table>\n",
       "</div>\n",
       "      <button class=\"colab-df-convert\" onclick=\"convertToInteractive('df-673ab0b8-e8a8-4db3-ba87-15b4e26f0649')\"\n",
       "              title=\"Convert this dataframe to an interactive table.\"\n",
       "              style=\"display:none;\">\n",
       "        \n",
       "  <svg xmlns=\"http://www.w3.org/2000/svg\" height=\"24px\"viewBox=\"0 0 24 24\"\n",
       "       width=\"24px\">\n",
       "    <path d=\"M0 0h24v24H0V0z\" fill=\"none\"/>\n",
       "    <path d=\"M18.56 5.44l.94 2.06.94-2.06 2.06-.94-2.06-.94-.94-2.06-.94 2.06-2.06.94zm-11 1L8.5 8.5l.94-2.06 2.06-.94-2.06-.94L8.5 2.5l-.94 2.06-2.06.94zm10 10l.94 2.06.94-2.06 2.06-.94-2.06-.94-.94-2.06-.94 2.06-2.06.94z\"/><path d=\"M17.41 7.96l-1.37-1.37c-.4-.4-.92-.59-1.43-.59-.52 0-1.04.2-1.43.59L10.3 9.45l-7.72 7.72c-.78.78-.78 2.05 0 2.83L4 21.41c.39.39.9.59 1.41.59.51 0 1.02-.2 1.41-.59l7.78-7.78 2.81-2.81c.8-.78.8-2.07 0-2.86zM5.41 20L4 18.59l7.72-7.72 1.47 1.35L5.41 20z\"/>\n",
       "  </svg>\n",
       "      </button>\n",
       "      \n",
       "  <style>\n",
       "    .colab-df-container {\n",
       "      display:flex;\n",
       "      flex-wrap:wrap;\n",
       "      gap: 12px;\n",
       "    }\n",
       "\n",
       "    .colab-df-convert {\n",
       "      background-color: #E8F0FE;\n",
       "      border: none;\n",
       "      border-radius: 50%;\n",
       "      cursor: pointer;\n",
       "      display: none;\n",
       "      fill: #1967D2;\n",
       "      height: 32px;\n",
       "      padding: 0 0 0 0;\n",
       "      width: 32px;\n",
       "    }\n",
       "\n",
       "    .colab-df-convert:hover {\n",
       "      background-color: #E2EBFA;\n",
       "      box-shadow: 0px 1px 2px rgba(60, 64, 67, 0.3), 0px 1px 3px 1px rgba(60, 64, 67, 0.15);\n",
       "      fill: #174EA6;\n",
       "    }\n",
       "\n",
       "    [theme=dark] .colab-df-convert {\n",
       "      background-color: #3B4455;\n",
       "      fill: #D2E3FC;\n",
       "    }\n",
       "\n",
       "    [theme=dark] .colab-df-convert:hover {\n",
       "      background-color: #434B5C;\n",
       "      box-shadow: 0px 1px 3px 1px rgba(0, 0, 0, 0.15);\n",
       "      filter: drop-shadow(0px 1px 2px rgba(0, 0, 0, 0.3));\n",
       "      fill: #FFFFFF;\n",
       "    }\n",
       "  </style>\n",
       "\n",
       "      <script>\n",
       "        const buttonEl =\n",
       "          document.querySelector('#df-673ab0b8-e8a8-4db3-ba87-15b4e26f0649 button.colab-df-convert');\n",
       "        buttonEl.style.display =\n",
       "          google.colab.kernel.accessAllowed ? 'block' : 'none';\n",
       "\n",
       "        async function convertToInteractive(key) {\n",
       "          const element = document.querySelector('#df-673ab0b8-e8a8-4db3-ba87-15b4e26f0649');\n",
       "          const dataTable =\n",
       "            await google.colab.kernel.invokeFunction('convertToInteractive',\n",
       "                                                     [key], {});\n",
       "          if (!dataTable) return;\n",
       "\n",
       "          const docLinkHtml = 'Like what you see? Visit the ' +\n",
       "            '<a target=\"_blank\" href=https://colab.research.google.com/notebooks/data_table.ipynb>data table notebook</a>'\n",
       "            + ' to learn more about interactive tables.';\n",
       "          element.innerHTML = '';\n",
       "          dataTable['output_type'] = 'display_data';\n",
       "          await google.colab.output.renderOutput(dataTable, element);\n",
       "          const docLink = document.createElement('div');\n",
       "          docLink.innerHTML = docLinkHtml;\n",
       "          element.appendChild(docLink);\n",
       "        }\n",
       "      </script>\n",
       "    </div>\n",
       "  </div>\n",
       "  "
      ],
      "text/plain": [
       "           0     1         2\n",
       "0   0.000000  0.00  1.587910\n",
       "1   0.000000  0.05  0.587910\n",
       "2   0.000000  0.50  0.517928\n",
       "3   0.047771  0.50  0.090927\n",
       "4   0.047771  0.55  0.089997\n",
       "5   0.149682  0.55  0.069591\n",
       "6   0.149682  0.60  0.069450\n",
       "7   0.245223  0.60  0.056403\n",
       "8   0.245223  0.65  0.056120\n",
       "9   0.343949  0.65  0.050196\n",
       "10  0.343949  0.70  0.050165\n",
       "11  0.404459  0.70  0.046703\n",
       "12  0.404459  0.75  0.046688\n",
       "13  0.493631  0.75  0.044783\n",
       "14  0.493631  0.80  0.044717\n",
       "15  0.726115  0.80  0.039101\n",
       "16  0.726115  0.85  0.038980\n",
       "17  0.773885  0.85  0.036919\n",
       "18  0.773885  0.90  0.036768\n",
       "19  0.802548  0.90  0.035861\n",
       "20  0.802548  0.95  0.035850\n",
       "21  0.933121  0.95  0.032257\n",
       "22  0.933121  1.00  0.031789\n",
       "23  1.000000  1.00  0.024220"
      ]
     },
     "execution_count": 18,
     "metadata": {},
     "output_type": "execute_result"
    }
   ],
   "source": [
    "df_1=pd.DataFrame(temp)\n",
    "df_1.T"
   ]
  },
  {
   "cell_type": "code",
   "execution_count": null,
   "metadata": {
    "colab": {
     "base_uri": "https://localhost:8080/"
    },
    "id": "HpzlCfVQWrFF",
    "outputId": "d89ef21c-e253-43c9-edd3-573333e32db2"
   },
   "outputs": [
    {
     "name": "stdout",
     "output_type": "stream",
     "text": [
      "Best Threshold: 0.0318 with True_Positive: 1.0\n"
     ]
    }
   ],
   "source": [
    "True_Positive = tper\n",
    "# Find the optimal threshold\n",
    "index = np.argmax(True_Positive)\n",
    "thresholdOpt = round(thresholds[index], ndigits = 4)\n",
    "True_Positive_Opt = round(True_Positive[index], ndigits = 4)\n",
    "print('Best Threshold: {} with True_Positive: {}'.format(thresholdOpt, True_Positive_Opt))"
   ]
  },
  {
   "cell_type": "code",
   "execution_count": null,
   "metadata": {
    "colab": {
     "base_uri": "https://localhost:8080/"
    },
    "id": "fuynGW_NOeP5",
    "outputId": "b76523b2-0616-480c-f0f7-0c318c044734"
   },
   "outputs": [
    {
     "name": "stdout",
     "output_type": "stream",
     "text": [
      "Best Threshold: 0.09 with G-Mean: 0.7237\n",
      "FPR: 0.0478, TPR: 0.55\n"
     ]
    }
   ],
   "source": [
    "gmean = np.sqrt(tper * (1 - fper))\n",
    "\n",
    "# Find the optimal threshold\n",
    "index = np.argmax(gmean)\n",
    "thresholdOpt = round(thresholds[index], ndigits = 4)\n",
    "gmeanOpt = round(gmean[index], ndigits = 4)\n",
    "fprOpt = round(fper[index], ndigits = 4)\n",
    "tprOpt = round(tper[index], ndigits = 4)\n",
    "print('Best Threshold: {} with G-Mean: {}'.format(thresholdOpt, gmeanOpt))\n",
    "print('FPR: {}, TPR: {}'.format(fprOpt, tprOpt))"
   ]
  },
  {
   "cell_type": "code",
   "execution_count": null,
   "metadata": {
    "id": "la5cEKThU8eh"
   },
   "outputs": [],
   "source": [
    "from numpy import argmax\n",
    "from matplotlib import pyplot"
   ]
  },
  {
   "cell_type": "code",
   "execution_count": null,
   "metadata": {
    "id": "MoFT7LW6Xv03"
   },
   "outputs": [],
   "source": [
    "# ix = argmax(True_Positive)\n",
    "# print('Best Threshold=%f, True_Positive=%.3f' % (thresholds[ix], True_Positive[ix]))\n",
    "# # plot the roc curve for the model\n",
    "# pyplot.plot([0,1], [0,1], linestyle='--')\n",
    "# pyplot.plot(fper, tper, marker='.', label='Random Forest')\n",
    "# pyplot.scatter(fper[ix], tper[ix], marker='o', color='black', label='Best')\n",
    "# # axis labels\n",
    "# pyplot.xlabel('False Positive Rate')\n",
    "# pyplot.ylabel('True Positive Rate')\n",
    "# pyplot.legend()\n",
    "# # show the plot\n",
    "# pyplot.show()"
   ]
  },
  {
   "cell_type": "code",
   "execution_count": null,
   "metadata": {
    "colab": {
     "base_uri": "https://localhost:8080/",
     "height": 296
    },
    "id": "QMNpvLevUqHD",
    "outputId": "59fff134-f134-4e84-e03a-14a9b3551d93"
   },
   "outputs": [
    {
     "name": "stdout",
     "output_type": "stream",
     "text": [
      "Best Threshold=0.089997, G-Mean=0.724\n"
     ]
    },
    {
     "data": {
      "image/png": "[encoded data removed]",
      "text/plain": [
       "<Figure size 432x288 with 1 Axes>"
      ]
     },
     "metadata": {
      "needs_background": "light"
     },
     "output_type": "display_data"
    }
   ],
   "source": [
    "ix = argmax(gmean)\n",
    "print('Best Threshold=%f, G-Mean=%.3f' % (thresholds[ix], gmean[ix]))\n",
    "# plot the roc curve for the model\n",
    "pyplot.plot([0,1], [0,1], linestyle='--')\n",
    "pyplot.plot(fper, tper, marker='.', label='Random Forest')\n",
    "pyplot.scatter(fper[ix], tper[ix], marker='o', color='black', label='Best')\n",
    "# axis labels\n",
    "pyplot.xlabel('False Positive Rate')\n",
    "pyplot.ylabel('True Positive Rate')\n",
    "pyplot.legend()\n",
    "# show the plot\n",
    "pyplot.show()"
   ]
  },
  {
   "cell_type": "markdown",
   "metadata": {
    "id": "PDQQvDDGwqlR"
   },
   "source": [
    "## Random Forest Feature Importances"
   ]
  },
  {
   "cell_type": "code",
   "execution_count": null,
   "metadata": {
    "colab": {
     "base_uri": "https://localhost:8080/",
     "height": 422
    },
    "id": "Xj_y9L2Sw7hP",
    "outputId": "2bfe79d8-ad8e-4ed8-bd8a-aa9f2e603add"
   },
   "outputs": [
    {
     "data": {
      "text/plain": [
       "Text(0.5, 0, 'Relative Importance')"
      ]
     },
     "execution_count": 23,
     "metadata": {},
     "output_type": "execute_result"
    },
    {
     "data": {
      "image/png": "[encoded data removed]",
      "text/plain": [
       "<Figure size 864x432 with 1 Axes>"
      ]
     },
     "metadata": {
      "needs_background": "light"
     },
     "output_type": "display_data"
    }
   ],
   "source": [
    "feature_names = [key for key in df.drop(columns=[\"Malaria\"])]\n",
    "importances = b_model.feature_importances_\n",
    "indices = np.argsort(importances)\n",
    "indices = indices[-20:]\n",
    "plt.figure(figsize=(12,6))\n",
    "plt.title('Feature Importances')\n",
    "plt.barh(range(len(indices)), importances[indices], color='b', align='center')\n",
    "plt.yticks(range(len(indices)),np.array(feature_names)[indices])\n",
    "plt.xlabel('Relative Importance')"
   ]
  },
  {
   "cell_type": "code",
   "execution_count": null,
   "metadata": {
    "id": "GuM_3i7JRGDx"
   },
   "outputs": [],
   "source": [
    "# b_model.predict_proba(X_test)"
   ]
  },
  {
   "cell_type": "code",
   "execution_count": null,
   "metadata": {
    "id": "2wevjuqiy8se"
   },
   "outputs": [],
   "source": [
    "# tree_explainer = shap.TreeExplainer(b_model, X_train)"
   ]
  },
  {
   "cell_type": "code",
   "execution_count": null,
   "metadata": {
    "id": "RHlGomo7wCLX"
   },
   "outputs": [],
   "source": [
    "tree_explainer = shap.TreeExplainer(b_model, X_train,model_output=\"probability\")"
   ]
  },
  {
   "cell_type": "code",
   "execution_count": null,
   "metadata": {
    "id": "0Vezrsnoy_Qz"
   },
   "outputs": [],
   "source": [
    "shap_values_rf = tree_explainer.shap_values(X_test,check_additivity=False)"
   ]
  },
  {
   "cell_type": "code",
   "execution_count": null,
   "metadata": {
    "colab": {
     "base_uri": "https://localhost:8080/",
     "height": 581
    },
    "id": "aoqzEM7WzBWB",
    "outputId": "f148d81a-0820-4b9c-b430-cc73e59afc2f"
   },
   "outputs": [
    {
     "data": {
      "image/png": "[encoded data removed]",
      "text/plain": [
       "<Figure size 576x684 with 1 Axes>"
      ]
     },
     "metadata": {
      "needs_background": "light"
     },
     "output_type": "display_data"
    }
   ],
   "source": [
    "shap.summary_plot(shap_values_rf[1], X_test, plot_type=\"bar\")"
   ]
  },
  {
   "cell_type": "code",
   "execution_count": null,
   "metadata": {
    "colab": {
     "base_uri": "https://localhost:8080/",
     "height": 585
    },
    "id": "tegqOg2JzERr",
    "outputId": "0b948a3c-29ba-415c-9537-732e83d8afc1"
   },
   "outputs": [
    {
     "data": {
      "image/png": "[encoded data removed]",
      "text/plain": [
       "<Figure size 576x684 with 2 Axes>"
      ]
     },
     "metadata": {
      "needs_background": "light"
     },
     "output_type": "display_data"
    }
   ],
   "source": [
    "shap.summary_plot(shap_values_rf[1], X_test)"
   ]
  },
  {
   "cell_type": "code",
   "execution_count": null,
   "metadata": {
    "colab": {
     "base_uri": "https://localhost:8080/"
    },
    "id": "sp44yyJozJto",
    "outputId": "22da9c92-6a77-4d27-f2e5-3c4ab0fe2a10"
   },
   "outputs": [
    {
     "data": {
      "text/plain": [
       "array([0.0055745 , 0.00659719, 0.00688172, 0.00777948, 0.00783498,\n",
       "       0.00851784, 0.00896408, 0.00999201, 0.01239852, 0.012774  ,\n",
       "       0.01329826, 0.01479762, 0.01615968, 0.01619405, 0.01811664,\n",
       "       0.02147964, 0.04300316, 0.07114813, 0.08920392, 0.60928141])"
      ]
     },
     "execution_count": 29,
     "metadata": {},
     "output_type": "execute_result"
    }
   ],
   "source": [
    "importances[indices]"
   ]
  },
  {
   "cell_type": "code",
   "execution_count": null,
   "metadata": {
    "id": "xd6Rvz69zN5y"
   },
   "outputs": [],
   "source": [
    "gain_importances = pd.Series(importances[indices],index=np.array(feature_names)[indices])\n",
    "# sort by absolute value, highest to lowest\n",
    "sorted_by_abs_val = gain_importances.abs().sort_values(ascending=False).index\n",
    "gain_importances = gain_importances[sorted_by_abs_val]"
   ]
  },
  {
   "cell_type": "code",
   "execution_count": null,
   "metadata": {
    "colab": {
     "base_uri": "https://localhost:8080/"
    },
    "id": "WBwzlZFYzQlN",
    "outputId": "3474198e-025c-4c9c-a9e5-f61a30a3c26e"
   },
   "outputs": [
    {
     "data": {
      "text/plain": [
       "Temperature         0.609281\n",
       "HemoCue             0.089204\n",
       "Age                 0.071148\n",
       "Abdominal_pain      0.043003\n",
       "Gender              0.021480\n",
       "Diarrhea            0.018117\n",
       "Sweating            0.016194\n",
       "Lower_back_pain     0.016160\n",
       "Aches_or_pains      0.014798\n",
       "Headache            0.013298\n",
       "Eye_pain            0.012774\n",
       "Paleness            0.012399\n",
       "Fatigue             0.009992\n",
       "Cough               0.008964\n",
       "Vomiting            0.008518\n",
       "Ear_pain            0.007835\n",
       "Chills              0.007779\n",
       "Chest_pain          0.006882\n",
       "Dizziness           0.006597\n",
       "Lack_of_appetite    0.005574\n",
       "dtype: float64"
      ]
     },
     "execution_count": 31,
     "metadata": {},
     "output_type": "execute_result"
    }
   ],
   "source": [
    "gain_importances"
   ]
  },
  {
   "cell_type": "code",
   "execution_count": null,
   "metadata": {
    "colab": {
     "base_uri": "https://localhost:8080/",
     "height": 1000
    },
    "id": "lI-lX1-ezTst",
    "outputId": "0e8be0d9-28dd-4ade-ec47-2a37ab295909"
   },
   "outputs": [
    {
     "data": {
      "image/png": "[encoded data removed]",
      "text/plain": [
       "<Figure size 432x288 with 1 Axes>"
      ]
     },
     "metadata": {
      "needs_background": "light"
     },
     "output_type": "display_data"
    },
    {
     "data": {
      "image/png": "[encoded data removed]",
      "text/plain": [
       "<Figure size 432x288 with 1 Axes>"
      ]
     },
     "metadata": {
      "needs_background": "light"
     },
     "output_type": "display_data"
    },
    {
     "name": "stdout",
     "output_type": "stream",
     "text": [
      "Total absolute SHAP values: 0.06 | Total absolute Model Information Gain: 1.00\n"
     ]
    },
    {
     "data": {
      "image/png": "[encoded data removed]",
      "text/plain": [
       "<Figure size 864x864 with 1 Axes>"
      ]
     },
     "metadata": {
      "needs_background": "light"
     },
     "output_type": "display_data"
    }
   ],
   "source": [
    "mean_shap_importances_rf = (pd.DataFrame(shap_values_rf[0], columns=X_test.columns)\n",
    "                         .abs()\n",
    "                         .mean()\n",
    "                         .sort_values(ascending=False))\n",
    "top_20_mean_rf = mean_shap_importances_rf.head(20)\n",
    "sns.barplot(top_20_mean_rf, top_20_mean_rf.index, color=sns.color_palette()[1])\n",
    "plt.title('Mean |SHAP Value|')\n",
    "plt.show()\n",
    "\n",
    "top_20_gain = gain_importances\n",
    "sns.barplot(top_20_gain, top_20_gain.index, color=sns.color_palette()[0])\n",
    "plt.title('|Model Feature Importances|')\n",
    "plt.show()\n",
    "\n",
    "# To compare we rescale the average shap values \n",
    "print(f'Total absolute SHAP values: {mean_shap_importances_rf.sum():.2f} | '\n",
    "      f'Total absolute Model Information Gain: {gain_importances.abs().sum():.2f}')\n",
    "adj_ratio = gain_importances.abs().sum() / mean_shap_importances_rf.sum()\n",
    "\n",
    "top_20_gain.name = '|Model Feature Importances|'\n",
    "mean_shap_importances_rf.name = 'Mean |SHAP|'\n",
    "combo_df = (top_20_gain.to_frame()\n",
    "            .join(mean_shap_importances_rf.to_frame() * adj_ratio)\n",
    "            .reset_index()\n",
    "            .rename(columns={'index':'feature'})\n",
    "            .melt(id_vars='feature', \n",
    "                  var_name='type', \n",
    "                  value_name='importance'))\n",
    "\n",
    "plt.figure(figsize=(12,12))\n",
    "sns.barplot(y='feature', x='importance', hue='type', data=combo_df)\n",
    "plt.title('Relationship between SHAP and Model Feature Importances')\n",
    "plt.show()"
   ]
  },
  {
   "cell_type": "markdown",
   "metadata": {
    "id": "QAQlXZdTK8_u"
   },
   "source": [
    "## Using Smote to Oversample minority class"
   ]
  },
  {
   "cell_type": "code",
   "execution_count": null,
   "metadata": {
    "id": "SLNn9E9jK_qq"
   },
   "outputs": [],
   "source": [
    "from imblearn.over_sampling import SMOTE\n",
    "sm = SMOTE(random_state = 2)"
   ]
  },
  {
   "cell_type": "code",
   "execution_count": null,
   "metadata": {
    "id": "ywLdstXbLMSR"
   },
   "outputs": [],
   "source": [
    "X_res, y_res = sm.fit_resample(X_train, y_train)"
   ]
  },
  {
   "cell_type": "code",
   "execution_count": null,
   "metadata": {
    "id": "DNJWWQpGMShk"
   },
   "outputs": [],
   "source": [
    "# Show the unbalanced level of the target data\n",
    "def get_class_dist(data, name):\n",
    "    unique, counts = np.unique(data, return_counts=True)\n",
    "    pct = 100*(counts/len(data))\n",
    "    d = dict(zip(unique, zip(counts, pct)))\n",
    "    print(len(data), 'total examples in %s' % name)\n",
    "    for key, values in d.items():\n",
    "        print('class %d: %d examples,' % (key, values[0]), \"{0:.2f}%\".format(values[1]))\n",
    "    print('')\n",
    "    return"
   ]
  },
  {
   "cell_type": "code",
   "execution_count": null,
   "metadata": {
    "colab": {
     "base_uri": "https://localhost:8080/"
    },
    "id": "K5Kv91lYMfAR",
    "outputId": "32f241f0-5320-4a3f-c5c7-a3d765667a74"
   },
   "outputs": [
    {
     "name": "stdout",
     "output_type": "stream",
     "text": [
      "1000 total examples in y_train\n",
      "class 0: 936 examples, 93.60%\n",
      "class 1: 64 examples, 6.40%\n",
      "\n"
     ]
    }
   ],
   "source": [
    "get_class_dist(data=y_train, name='y_train')"
   ]
  },
  {
   "cell_type": "code",
   "execution_count": null,
   "metadata": {
    "colab": {
     "base_uri": "https://localhost:8080/"
    },
    "id": "OFJAup6OMWRK",
    "outputId": "0e0a74d9-7573-49a3-eaad-fe29b75973c7"
   },
   "outputs": [
    {
     "name": "stdout",
     "output_type": "stream",
     "text": [
      "1872 total examples in y_res\n",
      "class 0: 936 examples, 50.00%\n",
      "class 1: 936 examples, 50.00%\n",
      "\n"
     ]
    }
   ],
   "source": [
    "get_class_dist(data=y_res, name='y_res')"
   ]
  },
  {
   "cell_type": "code",
   "execution_count": null,
   "metadata": {
    "colab": {
     "base_uri": "https://localhost:8080/"
    },
    "id": "41wVXzaAOJ79",
    "outputId": "3bdea554-d765-4303-a4e9-5cc6dc23b8c2"
   },
   "outputs": [
    {
     "name": "stdout",
     "output_type": "stream",
     "text": [
      "Fitting 3 folds for each of 16 candidates, totalling 48 fits\n",
      "[CV 1/3] END ......max_depth=4, n_estimators=10;, score=0.889 total time=   0.0s\n",
      "[CV 2/3] END ......max_depth=4, n_estimators=10;, score=0.939 total time=   0.0s\n",
      "[CV 3/3] END ......max_depth=4, n_estimators=10;, score=0.941 total time=   0.0s\n",
      "[CV 1/3] END ......max_depth=4, n_estimators=50;, score=0.898 total time=   0.1s\n",
      "[CV 2/3] END ......max_depth=4, n_estimators=50;, score=0.943 total time=   0.1s\n",
      "[CV 3/3] END ......max_depth=4, n_estimators=50;, score=0.944 total time=   0.1s\n",
      "[CV 1/3] END .....max_depth=4, n_estimators=100;, score=0.908 total time=   0.2s\n",
      "[CV 2/3] END .....max_depth=4, n_estimators=100;, score=0.948 total time=   0.3s\n",
      "[CV 3/3] END .....max_depth=4, n_estimators=100;, score=0.943 total time=   0.4s\n",
      "[CV 1/3] END .....max_depth=4, n_estimators=500;, score=0.906 total time=   0.9s\n",
      "[CV 2/3] END .....max_depth=4, n_estimators=500;, score=0.946 total time=   0.9s\n",
      "[CV 3/3] END .....max_depth=4, n_estimators=500;, score=0.945 total time=   0.9s\n",
      "[CV 1/3] END ......max_depth=8, n_estimators=10;, score=0.927 total time=   0.0s\n",
      "[CV 2/3] END ......max_depth=8, n_estimators=10;, score=0.967 total time=   0.0s\n",
      "[CV 3/3] END ......max_depth=8, n_estimators=10;, score=0.964 total time=   0.0s\n",
      "[CV 1/3] END ......max_depth=8, n_estimators=50;, score=0.939 total time=   0.1s\n",
      "[CV 2/3] END ......max_depth=8, n_estimators=50;, score=0.970 total time=   0.1s\n",
      "[CV 3/3] END ......max_depth=8, n_estimators=50;, score=0.964 total time=   0.1s\n",
      "[CV 1/3] END .....max_depth=8, n_estimators=100;, score=0.940 total time=   0.2s\n",
      "[CV 2/3] END .....max_depth=8, n_estimators=100;, score=0.972 total time=   0.2s\n",
      "[CV 3/3] END .....max_depth=8, n_estimators=100;, score=0.968 total time=   0.2s\n",
      "[CV 1/3] END .....max_depth=8, n_estimators=500;, score=0.939 total time=   1.0s\n",
      "[CV 2/3] END .....max_depth=8, n_estimators=500;, score=0.975 total time=   1.0s\n",
      "[CV 3/3] END .....max_depth=8, n_estimators=500;, score=0.968 total time=   1.0s\n",
      "[CV 1/3] END .....max_depth=10, n_estimators=10;, score=0.941 total time=   0.0s\n",
      "[CV 2/3] END .....max_depth=10, n_estimators=10;, score=0.977 total time=   0.0s\n",
      "[CV 3/3] END .....max_depth=10, n_estimators=10;, score=0.965 total time=   0.0s\n",
      "[CV 1/3] END .....max_depth=10, n_estimators=50;, score=0.944 total time=   0.1s\n",
      "[CV 2/3] END .....max_depth=10, n_estimators=50;, score=0.981 total time=   0.1s\n",
      "[CV 3/3] END .....max_depth=10, n_estimators=50;, score=0.972 total time=   0.1s\n",
      "[CV 1/3] END ....max_depth=10, n_estimators=100;, score=0.948 total time=   0.2s\n",
      "[CV 2/3] END ....max_depth=10, n_estimators=100;, score=0.981 total time=   0.2s\n",
      "[CV 3/3] END ....max_depth=10, n_estimators=100;, score=0.975 total time=   0.2s\n",
      "[CV 1/3] END ....max_depth=10, n_estimators=500;, score=0.949 total time=   1.0s\n",
      "[CV 2/3] END ....max_depth=10, n_estimators=500;, score=0.981 total time=   1.0s\n",
      "[CV 3/3] END ....max_depth=10, n_estimators=500;, score=0.976 total time=   1.0s\n",
      "[CV 1/3] END .....max_depth=20, n_estimators=10;, score=0.958 total time=   0.0s\n",
      "[CV 2/3] END .....max_depth=20, n_estimators=10;, score=0.982 total time=   0.0s\n",
      "[CV 3/3] END .....max_depth=20, n_estimators=10;, score=0.978 total time=   0.0s\n",
      "[CV 1/3] END .....max_depth=20, n_estimators=50;, score=0.963 total time=   0.1s\n",
      "[CV 2/3] END .....max_depth=20, n_estimators=50;, score=0.991 total time=   0.1s\n",
      "[CV 3/3] END .....max_depth=20, n_estimators=50;, score=0.987 total time=   0.1s\n",
      "[CV 1/3] END ....max_depth=20, n_estimators=100;, score=0.964 total time=   0.2s\n",
      "[CV 2/3] END ....max_depth=20, n_estimators=100;, score=0.991 total time=   0.2s\n",
      "[CV 3/3] END ....max_depth=20, n_estimators=100;, score=0.986 total time=   0.3s\n",
      "[CV 1/3] END ....max_depth=20, n_estimators=500;, score=0.964 total time=   1.1s\n",
      "[CV 2/3] END ....max_depth=20, n_estimators=500;, score=0.991 total time=   1.1s\n",
      "[CV 3/3] END ....max_depth=20, n_estimators=500;, score=0.987 total time=   1.1s\n",
      "{'max_depth': 20, 'n_estimators': 500} 0.9807281393819856\n"
     ]
    }
   ],
   "source": [
    "rf = RandomForestClassifier()\n",
    "estimators=[10,50,100,500]\n",
    "depths=[4,8,10,20] \n",
    "hyperparameters = dict(n_estimators=estimators, max_depth=depths)\n",
    "clf = GridSearchCV(rf, hyperparameters, scoring = 'roc_auc', cv=3, verbose=3)\n",
    "\n",
    "clf.fit(X_res, y_res)\n",
    "print(clf.best_params_, clf.best_score_)"
   ]
  },
  {
   "cell_type": "code",
   "execution_count": null,
   "metadata": {
    "colab": {
     "base_uri": "https://localhost:8080/"
    },
    "id": "vMd8OJYBOjK2",
    "outputId": "8f974380-a693-407a-cefd-d230eed00920"
   },
   "outputs": [
    {
     "data": {
      "text/plain": [
       "0.907185628742515"
      ]
     },
     "execution_count": 39,
     "metadata": {},
     "output_type": "execute_result"
    }
   ],
   "source": [
    "b_model_2 = RandomForestClassifier(max_depth=20,n_estimators=500)\n",
    "b_model_2.fit(X_res,y_res)\n",
    "best_tree_predictions_2 = b_model_2.predict(X_test)\n",
    "b_model_2.score(X_test, y_test)"
   ]
  },
  {
   "cell_type": "code",
   "execution_count": null,
   "metadata": {
    "colab": {
     "base_uri": "https://localhost:8080/"
    },
    "id": "itxcymULPdP1",
    "outputId": "a7a5f382-5881-41d4-f065-d70d3d093c45"
   },
   "outputs": [
    {
     "name": "stdout",
     "output_type": "stream",
     "text": [
      "Accuracy:  0.907185628742515\n",
      "              precision    recall  f1-score   support\n",
      "\n",
      "           0    0.96700   0.93312   0.94976       314\n",
      "           1    0.32258   0.50000   0.39216        20\n",
      "\n",
      "    accuracy                        0.90719       334\n",
      "   macro avg    0.64479   0.71656   0.67096       334\n",
      "weighted avg    0.92841   0.90719   0.91637       334\n",
      "\n",
      "Confusion Matrix: [[293  21]\n",
      " [ 10  10]]\n"
     ]
    }
   ],
   "source": [
    "print('Accuracy: ',accuracy_score(y_test, best_tree_predictions_2))\n",
    "print(classification_report(y_test, best_tree_predictions_2, digits=5))\n",
    "print('Confusion Matrix:',confusion_matrix(y_test,best_tree_predictions_2))"
   ]
  },
  {
   "cell_type": "code",
   "execution_count": null,
   "metadata": {
    "colab": {
     "base_uri": "https://localhost:8080/",
     "height": 337
    },
    "id": "FriZnZgFSUu2",
    "outputId": "e7890293-7174-46fc-c133-efad2eee950d"
   },
   "outputs": [
    {
     "data": {
      "image/png": "[encoded data removed]",
      "text/plain": [
       "<Figure size 432x288 with 2 Axes>"
      ]
     },
     "metadata": {
      "needs_background": "light"
     },
     "output_type": "display_data"
    }
   ],
   "source": [
    "ax = sns.heatmap(confusion_matrix(y_test,best_tree_predictions_2), annot=True, cmap='Blues')\n",
    "\n",
    "ax.set_title('Seaborn Confusion Matrix with labels\\n\\n');\n",
    "ax.set_xlabel('\\nPredicted Values')\n",
    "ax.set_ylabel('Actual Values ');\n",
    "\n",
    "ax.xaxis.set_ticklabels(['Neg','Pos'])\n",
    "ax.yaxis.set_ticklabels(['Neg','Pos'])\n",
    "\n",
    "plt.show()\n",
    "##10/20 TPR\n",
    "##10/20 FNR\n",
    "##21/314 FPR\n",
    "##293/314 TNR"
   ]
  },
  {
   "cell_type": "code",
   "execution_count": null,
   "metadata": {
    "colab": {
     "base_uri": "https://localhost:8080/"
    },
    "id": "9E6LCoIdg_xb",
    "outputId": "44e676d9-3c42-4a34-cea5-571d3c66b817"
   },
   "outputs": [
    {
     "name": "stdout",
     "output_type": "stream",
     "text": [
      "ROC AUC: 0.716561\n"
     ]
    }
   ],
   "source": [
    "auc = roc_auc_score(y_test, best_tree_predictions_2)\n",
    "print('ROC AUC: %f' % auc)"
   ]
  },
  {
   "cell_type": "code",
   "execution_count": null,
   "metadata": {
    "colab": {
     "base_uri": "https://localhost:8080/",
     "height": 279
    },
    "id": "I3ahoRYNhT7e",
    "outputId": "bf8f4adf-4753-4761-dec9-0a799a465d5a"
   },
   "outputs": [
    {
     "data": {
      "image/png": "[encoded data removed]",
      "text/plain": [
       "<Figure size 432x288 with 1 Axes>"
      ]
     },
     "metadata": {
      "needs_background": "light"
     },
     "output_type": "display_data"
    }
   ],
   "source": [
    "prob_2 = b_model_2.predict_proba(X_test)\n",
    "prob_2 = prob_2[:, 1]\n",
    "fper_2, tper_2, thresholds_2 = roc_curve(y_test, prob_2)\n",
    "plot_roc_curve(fper_2, tper_2)"
   ]
  },
  {
   "cell_type": "code",
   "execution_count": null,
   "metadata": {
    "id": "kz_bypB8qhuH"
   },
   "outputs": [],
   "source": [
    "temp_2 = [fper_2, tper_2, thresholds_2]"
   ]
  },
  {
   "cell_type": "code",
   "execution_count": null,
   "metadata": {
    "colab": {
     "base_uri": "https://localhost:8080/",
     "height": 423
    },
    "id": "PgAFBB47quPV",
    "outputId": "7c2fa8dc-b972-4569-8379-fc44d2d64387"
   },
   "outputs": [
    {
     "data": {
      "text/html": [
       "\n",
       "  <div id=\"df-fd8f0c65-10de-4fd4-ace6-98d8f4ff6c1c\">\n",
       "    <div class=\"colab-df-container\">\n",
       "      <div>\n",
       "<style scoped>\n",
       "    .dataframe tbody tr th:only-of-type {\n",
       "        vertical-align: middle;\n",
       "    }\n",
       "\n",
       "    .dataframe tbody tr th {\n",
       "        vertical-align: top;\n",
       "    }\n",
       "\n",
       "    .dataframe thead th {\n",
       "        text-align: right;\n",
       "    }\n",
       "</style>\n",
       "<table border=\"1\" class=\"dataframe\">\n",
       "  <thead>\n",
       "    <tr style=\"text-align: right;\">\n",
       "      <th></th>\n",
       "      <th>0</th>\n",
       "      <th>1</th>\n",
       "      <th>2</th>\n",
       "    </tr>\n",
       "  </thead>\n",
       "  <tbody>\n",
       "    <tr>\n",
       "      <th>0</th>\n",
       "      <td>0.000000</td>\n",
       "      <td>0.00</td>\n",
       "      <td>1.930000</td>\n",
       "    </tr>\n",
       "    <tr>\n",
       "      <th>1</th>\n",
       "      <td>0.000000</td>\n",
       "      <td>0.05</td>\n",
       "      <td>0.930000</td>\n",
       "    </tr>\n",
       "    <tr>\n",
       "      <th>2</th>\n",
       "      <td>0.000000</td>\n",
       "      <td>0.10</td>\n",
       "      <td>0.886000</td>\n",
       "    </tr>\n",
       "    <tr>\n",
       "      <th>3</th>\n",
       "      <td>0.003185</td>\n",
       "      <td>0.10</td>\n",
       "      <td>0.873429</td>\n",
       "    </tr>\n",
       "    <tr>\n",
       "      <th>4</th>\n",
       "      <td>0.003185</td>\n",
       "      <td>0.20</td>\n",
       "      <td>0.850000</td>\n",
       "    </tr>\n",
       "    <tr>\n",
       "      <th>...</th>\n",
       "      <td>...</td>\n",
       "      <td>...</td>\n",
       "      <td>...</td>\n",
       "    </tr>\n",
       "    <tr>\n",
       "      <th>73</th>\n",
       "      <td>0.955414</td>\n",
       "      <td>1.00</td>\n",
       "      <td>0.009133</td>\n",
       "    </tr>\n",
       "    <tr>\n",
       "      <th>74</th>\n",
       "      <td>0.971338</td>\n",
       "      <td>1.00</td>\n",
       "      <td>0.008000</td>\n",
       "    </tr>\n",
       "    <tr>\n",
       "      <th>75</th>\n",
       "      <td>0.974522</td>\n",
       "      <td>1.00</td>\n",
       "      <td>0.007111</td>\n",
       "    </tr>\n",
       "    <tr>\n",
       "      <th>76</th>\n",
       "      <td>0.987261</td>\n",
       "      <td>1.00</td>\n",
       "      <td>0.006000</td>\n",
       "    </tr>\n",
       "    <tr>\n",
       "      <th>77</th>\n",
       "      <td>1.000000</td>\n",
       "      <td>1.00</td>\n",
       "      <td>0.000000</td>\n",
       "    </tr>\n",
       "  </tbody>\n",
       "</table>\n",
       "<p>78 rows × 3 columns</p>\n",
       "</div>\n",
       "      <button class=\"colab-df-convert\" onclick=\"convertToInteractive('df-fd8f0c65-10de-4fd4-ace6-98d8f4ff6c1c')\"\n",
       "              title=\"Convert this dataframe to an interactive table.\"\n",
       "              style=\"display:none;\">\n",
       "        \n",
       "  <svg xmlns=\"http://www.w3.org/2000/svg\" height=\"24px\"viewBox=\"0 0 24 24\"\n",
       "       width=\"24px\">\n",
       "    <path d=\"M0 0h24v24H0V0z\" fill=\"none\"/>\n",
       "    <path d=\"M18.56 5.44l.94 2.06.94-2.06 2.06-.94-2.06-.94-.94-2.06-.94 2.06-2.06.94zm-11 1L8.5 8.5l.94-2.06 2.06-.94-2.06-.94L8.5 2.5l-.94 2.06-2.06.94zm10 10l.94 2.06.94-2.06 2.06-.94-2.06-.94-.94-2.06-.94 2.06-2.06.94z\"/><path d=\"M17.41 7.96l-1.37-1.37c-.4-.4-.92-.59-1.43-.59-.52 0-1.04.2-1.43.59L10.3 9.45l-7.72 7.72c-.78.78-.78 2.05 0 2.83L4 21.41c.39.39.9.59 1.41.59.51 0 1.02-.2 1.41-.59l7.78-7.78 2.81-2.81c.8-.78.8-2.07 0-2.86zM5.41 20L4 18.59l7.72-7.72 1.47 1.35L5.41 20z\"/>\n",
       "  </svg>\n",
       "      </button>\n",
       "      \n",
       "  <style>\n",
       "    .colab-df-container {\n",
       "      display:flex;\n",
       "      flex-wrap:wrap;\n",
       "      gap: 12px;\n",
       "    }\n",
       "\n",
       "    .colab-df-convert {\n",
       "      background-color: #E8F0FE;\n",
       "      border: none;\n",
       "      border-radius: 50%;\n",
       "      cursor: pointer;\n",
       "      display: none;\n",
       "      fill: #1967D2;\n",
       "      height: 32px;\n",
       "      padding: 0 0 0 0;\n",
       "      width: 32px;\n",
       "    }\n",
       "\n",
       "    .colab-df-convert:hover {\n",
       "      background-color: #E2EBFA;\n",
       "      box-shadow: 0px 1px 2px rgba(60, 64, 67, 0.3), 0px 1px 3px 1px rgba(60, 64, 67, 0.15);\n",
       "      fill: #174EA6;\n",
       "    }\n",
       "\n",
       "    [theme=dark] .colab-df-convert {\n",
       "      background-color: #3B4455;\n",
       "      fill: #D2E3FC;\n",
       "    }\n",
       "\n",
       "    [theme=dark] .colab-df-convert:hover {\n",
       "      background-color: #434B5C;\n",
       "      box-shadow: 0px 1px 3px 1px rgba(0, 0, 0, 0.15);\n",
       "      filter: drop-shadow(0px 1px 2px rgba(0, 0, 0, 0.3));\n",
       "      fill: #FFFFFF;\n",
       "    }\n",
       "  </style>\n",
       "\n",
       "      <script>\n",
       "        const buttonEl =\n",
       "          document.querySelector('#df-fd8f0c65-10de-4fd4-ace6-98d8f4ff6c1c button.colab-df-convert');\n",
       "        buttonEl.style.display =\n",
       "          google.colab.kernel.accessAllowed ? 'block' : 'none';\n",
       "\n",
       "        async function convertToInteractive(key) {\n",
       "          const element = document.querySelector('#df-fd8f0c65-10de-4fd4-ace6-98d8f4ff6c1c');\n",
       "          const dataTable =\n",
       "            await google.colab.kernel.invokeFunction('convertToInteractive',\n",
       "                                                     [key], {});\n",
       "          if (!dataTable) return;\n",
       "\n",
       "          const docLinkHtml = 'Like what you see? Visit the ' +\n",
       "            '<a target=\"_blank\" href=https://colab.research.google.com/notebooks/data_table.ipynb>data table notebook</a>'\n",
       "            + ' to learn more about interactive tables.';\n",
       "          element.innerHTML = '';\n",
       "          dataTable['output_type'] = 'display_data';\n",
       "          await google.colab.output.renderOutput(dataTable, element);\n",
       "          const docLink = document.createElement('div');\n",
       "          docLink.innerHTML = docLinkHtml;\n",
       "          element.appendChild(docLink);\n",
       "        }\n",
       "      </script>\n",
       "    </div>\n",
       "  </div>\n",
       "  "
      ],
      "text/plain": [
       "           0     1         2\n",
       "0   0.000000  0.00  1.930000\n",
       "1   0.000000  0.05  0.930000\n",
       "2   0.000000  0.10  0.886000\n",
       "3   0.003185  0.10  0.873429\n",
       "4   0.003185  0.20  0.850000\n",
       "..       ...   ...       ...\n",
       "73  0.955414  1.00  0.009133\n",
       "74  0.971338  1.00  0.008000\n",
       "75  0.974522  1.00  0.007111\n",
       "76  0.987261  1.00  0.006000\n",
       "77  1.000000  1.00  0.000000\n",
       "\n",
       "[78 rows x 3 columns]"
      ]
     },
     "execution_count": 45,
     "metadata": {},
     "output_type": "execute_result"
    }
   ],
   "source": [
    "df_2=pd.DataFrame(temp_2)\n",
    "df_2.T"
   ]
  },
  {
   "cell_type": "code",
   "execution_count": null,
   "metadata": {
    "colab": {
     "base_uri": "https://localhost:8080/"
    },
    "id": "SMiki9gtq_cv",
    "outputId": "9e66e2ba-f066-4d74-bb3c-e51092db2a46"
   },
   "outputs": [
    {
     "name": "stdout",
     "output_type": "stream",
     "text": [
      "Best Threshold: 0.016 with True_Positive: 1.0\n"
     ]
    }
   ],
   "source": [
    "True_Positive_2 = tper_2\n",
    "# Find the optimal threshold\n",
    "index_2 = np.argmax(True_Positive_2)\n",
    "thresholdOpt_2 = round(thresholds_2[index_2], ndigits = 4)\n",
    "True_Positive_Opt_2 = round(True_Positive_2[index_2], ndigits = 4)\n",
    "print('Best Threshold: {} with True_Positive: {}'.format(thresholdOpt_2, True_Positive_Opt_2))"
   ]
  },
  {
   "cell_type": "code",
   "execution_count": null,
   "metadata": {
    "colab": {
     "base_uri": "https://localhost:8080/"
    },
    "id": "i5HZ_3Z6hUEH",
    "outputId": "98d4bf3f-13ed-4e01-b201-a90a8f0459bd"
   },
   "outputs": [
    {
     "name": "stdout",
     "output_type": "stream",
     "text": [
      "Best Threshold: 0.4088 with G-Mean: 0.7028\n",
      "FPR: 0.1019, TPR: 0.55\n"
     ]
    }
   ],
   "source": [
    "gmean_2 = np.sqrt(tper_2 * (1 - fper_2))\n",
    "\n",
    "# Find the optimal threshold\n",
    "index_2 = np.argmax(gmean_2)\n",
    "thresholdOpt_2 = round(thresholds_2[index_2], ndigits = 4)\n",
    "gmeanOpt_2 = round(gmean_2[index_2], ndigits = 4)\n",
    "fprOpt_2 = round(fper_2[index_2], ndigits = 4)\n",
    "tprOpt_2 = round(tper_2[index_2], ndigits = 4)\n",
    "print('Best Threshold: {} with G-Mean: {}'.format(thresholdOpt_2, gmeanOpt_2))\n",
    "print('FPR: {}, TPR: {}'.format(fprOpt_2, tprOpt_2))"
   ]
  },
  {
   "cell_type": "code",
   "execution_count": null,
   "metadata": {
    "colab": {
     "base_uri": "https://localhost:8080/",
     "height": 422
    },
    "id": "NyS8kP_Xv5Dd",
    "outputId": "ba03d2f9-5364-4fed-c2bc-208daed1ae08"
   },
   "outputs": [
    {
     "data": {
      "text/plain": [
       "Text(0.5, 0, 'Relative Importance')"
      ]
     },
     "execution_count": 48,
     "metadata": {},
     "output_type": "execute_result"
    },
    {
     "data": {
      "image/png": "[encoded data removed]",
      "text/plain": [
       "<Figure size 864x432 with 1 Axes>"
      ]
     },
     "metadata": {
      "needs_background": "light"
     },
     "output_type": "display_data"
    }
   ],
   "source": [
    "feature_names = [key for key in df.drop(columns=[\"Malaria\"])]\n",
    "importances = b_model_2.feature_importances_\n",
    "indices = np.argsort(importances)\n",
    "indices = indices[-20:]\n",
    "plt.figure(figsize=(12,6))\n",
    "plt.title('Feature Importances')\n",
    "plt.barh(range(len(indices)), importances[indices], color='b', align='center')\n",
    "plt.yticks(range(len(indices)),np.array(feature_names)[indices])\n",
    "plt.xlabel('Relative Importance')"
   ]
  },
  {
   "cell_type": "code",
   "execution_count": null,
   "metadata": {
    "id": "rk4EoP0Lv5F7"
   },
   "outputs": [],
   "source": [
    "tree_explainer_2 = shap.TreeExplainer(b_model_2, X_train,model_output=\"probability\")"
   ]
  },
  {
   "cell_type": "code",
   "execution_count": null,
   "metadata": {
    "colab": {
     "base_uri": "https://localhost:8080/"
    },
    "id": "r4Yex8x6v5JK",
    "outputId": "9cbfd52f-5486-45e9-a7e7-a7d766c42137"
   },
   "outputs": [
    {
     "name": "stderr",
     "output_type": "stream",
     "text": [
      "100%|===================| 665/668 [01:09<00:00]       "
     ]
    }
   ],
   "source": [
    "shap_values_rf_2 = tree_explainer_2.shap_values(X_test,check_additivity=False)"
   ]
  },
  {
   "cell_type": "code",
   "execution_count": null,
   "metadata": {
    "colab": {
     "base_uri": "https://localhost:8080/",
     "height": 581
    },
    "id": "qkDUCwR7wBwP",
    "outputId": "d2bb0ed7-1122-460d-ecda-f07231bbd581"
   },
   "outputs": [
    {
     "data": {
      "image/png": "[encoded data removed]",
      "text/plain": [
       "<Figure size 576x684 with 1 Axes>"
      ]
     },
     "metadata": {
      "needs_background": "light"
     },
     "output_type": "display_data"
    }
   ],
   "source": [
    "shap.summary_plot(shap_values_rf_2[1], X_test, plot_type=\"bar\")"
   ]
  },
  {
   "cell_type": "code",
   "execution_count": null,
   "metadata": {
    "colab": {
     "base_uri": "https://localhost:8080/",
     "height": 585
    },
    "id": "xvLNmYjnwBzL",
    "outputId": "4b2dc258-d830-455c-b653-fec6e5f11982"
   },
   "outputs": [
    {
     "data": {
      "image/png": "[encoded data removed]",
      "text/plain": [
       "<Figure size 576x684 with 2 Axes>"
      ]
     },
     "metadata": {
      "needs_background": "light"
     },
     "output_type": "display_data"
    }
   ],
   "source": [
    "shap.summary_plot(shap_values_rf_2[1], X_test)"
   ]
  },
  {
   "cell_type": "markdown",
   "metadata": {
    "id": "1u8bqmVMo49u"
   },
   "source": [
    "##Precision recall curve"
   ]
  },
  {
   "cell_type": "code",
   "execution_count": null,
   "metadata": {
    "id": "Go4hsnmbeU61"
   },
   "outputs": [],
   "source": [
    "from sklearn.metrics import f1_score "
   ]
  },
  {
   "cell_type": "code",
   "execution_count": null,
   "metadata": {
    "colab": {
     "base_uri": "https://localhost:8080/",
     "height": 295
    },
    "id": "DE3YgJd4djRw",
    "outputId": "aeea1ed1-9439-480e-fd01-5aa305252acd"
   },
   "outputs": [
    {
     "data": {
      "image/png": "[encoded data removed]",
      "text/plain": [
       "<Figure size 432x288 with 1 Axes>"
      ]
     },
     "metadata": {
      "needs_background": "light"
     },
     "output_type": "display_data"
    }
   ],
   "source": [
    "#calculate precision and recall\n",
    "precision, recall, thresholds = precision_recall_curve(y_test, best_tree_predictions)\n",
    "\n",
    "#create precision recall curve\n",
    "fig, ax = plt.subplots()\n",
    "ax.plot(recall, precision, color='purple')\n",
    "\n",
    "#add axis labels to plot\n",
    "ax.set_title('Precision-Recall Curve')\n",
    "ax.set_ylabel('Precision')\n",
    "ax.set_xlabel('Recall')\n",
    "\n",
    "#display plot\n",
    "plt.show()"
   ]
  },
  {
   "cell_type": "code",
   "execution_count": null,
   "metadata": {
    "colab": {
     "base_uri": "https://localhost:8080/",
     "height": 112
    },
    "id": "9sJOnHWsfEqh",
    "outputId": "1e7a616b-8b8e-4002-abe9-a3b531ea0ae6"
   },
   "outputs": [
    {
     "data": {
      "text/html": [
       "\n",
       "  <div id=\"df-5f666266-6aed-4aec-ba16-d507206876c1\">\n",
       "    <div class=\"colab-df-container\">\n",
       "      <div>\n",
       "<style scoped>\n",
       "    .dataframe tbody tr th:only-of-type {\n",
       "        vertical-align: middle;\n",
       "    }\n",
       "\n",
       "    .dataframe tbody tr th {\n",
       "        vertical-align: top;\n",
       "    }\n",
       "\n",
       "    .dataframe thead th {\n",
       "        text-align: right;\n",
       "    }\n",
       "</style>\n",
       "<table border=\"1\" class=\"dataframe\">\n",
       "  <thead>\n",
       "    <tr style=\"text-align: right;\">\n",
       "      <th></th>\n",
       "      <th>Precision</th>\n",
       "      <th>Recall</th>\n",
       "      <th>Threshold</th>\n",
       "    </tr>\n",
       "  </thead>\n",
       "  <tbody>\n",
       "    <tr>\n",
       "      <th>0</th>\n",
       "      <td>0.05988</td>\n",
       "      <td>1.0</td>\n",
       "      <td>0</td>\n",
       "    </tr>\n",
       "    <tr>\n",
       "      <th>1</th>\n",
       "      <td>1.00000</td>\n",
       "      <td>0.5</td>\n",
       "      <td>1</td>\n",
       "    </tr>\n",
       "  </tbody>\n",
       "</table>\n",
       "</div>\n",
       "      <button class=\"colab-df-convert\" onclick=\"convertToInteractive('df-5f666266-6aed-4aec-ba16-d507206876c1')\"\n",
       "              title=\"Convert this dataframe to an interactive table.\"\n",
       "              style=\"display:none;\">\n",
       "        \n",
       "  <svg xmlns=\"http://www.w3.org/2000/svg\" height=\"24px\"viewBox=\"0 0 24 24\"\n",
       "       width=\"24px\">\n",
       "    <path d=\"M0 0h24v24H0V0z\" fill=\"none\"/>\n",
       "    <path d=\"M18.56 5.44l.94 2.06.94-2.06 2.06-.94-2.06-.94-.94-2.06-.94 2.06-2.06.94zm-11 1L8.5 8.5l.94-2.06 2.06-.94-2.06-.94L8.5 2.5l-.94 2.06-2.06.94zm10 10l.94 2.06.94-2.06 2.06-.94-2.06-.94-.94-2.06-.94 2.06-2.06.94z\"/><path d=\"M17.41 7.96l-1.37-1.37c-.4-.4-.92-.59-1.43-.59-.52 0-1.04.2-1.43.59L10.3 9.45l-7.72 7.72c-.78.78-.78 2.05 0 2.83L4 21.41c.39.39.9.59 1.41.59.51 0 1.02-.2 1.41-.59l7.78-7.78 2.81-2.81c.8-.78.8-2.07 0-2.86zM5.41 20L4 18.59l7.72-7.72 1.47 1.35L5.41 20z\"/>\n",
       "  </svg>\n",
       "      </button>\n",
       "      \n",
       "  <style>\n",
       "    .colab-df-container {\n",
       "      display:flex;\n",
       "      flex-wrap:wrap;\n",
       "      gap: 12px;\n",
       "    }\n",
       "\n",
       "    .colab-df-convert {\n",
       "      background-color: #E8F0FE;\n",
       "      border: none;\n",
       "      border-radius: 50%;\n",
       "      cursor: pointer;\n",
       "      display: none;\n",
       "      fill: #1967D2;\n",
       "      height: 32px;\n",
       "      padding: 0 0 0 0;\n",
       "      width: 32px;\n",
       "    }\n",
       "\n",
       "    .colab-df-convert:hover {\n",
       "      background-color: #E2EBFA;\n",
       "      box-shadow: 0px 1px 2px rgba(60, 64, 67, 0.3), 0px 1px 3px 1px rgba(60, 64, 67, 0.15);\n",
       "      fill: #174EA6;\n",
       "    }\n",
       "\n",
       "    [theme=dark] .colab-df-convert {\n",
       "      background-color: #3B4455;\n",
       "      fill: #D2E3FC;\n",
       "    }\n",
       "\n",
       "    [theme=dark] .colab-df-convert:hover {\n",
       "      background-color: #434B5C;\n",
       "      box-shadow: 0px 1px 3px 1px rgba(0, 0, 0, 0.15);\n",
       "      filter: drop-shadow(0px 1px 2px rgba(0, 0, 0, 0.3));\n",
       "      fill: #FFFFFF;\n",
       "    }\n",
       "  </style>\n",
       "\n",
       "      <script>\n",
       "        const buttonEl =\n",
       "          document.querySelector('#df-5f666266-6aed-4aec-ba16-d507206876c1 button.colab-df-convert');\n",
       "        buttonEl.style.display =\n",
       "          google.colab.kernel.accessAllowed ? 'block' : 'none';\n",
       "\n",
       "        async function convertToInteractive(key) {\n",
       "          const element = document.querySelector('#df-5f666266-6aed-4aec-ba16-d507206876c1');\n",
       "          const dataTable =\n",
       "            await google.colab.kernel.invokeFunction('convertToInteractive',\n",
       "                                                     [key], {});\n",
       "          if (!dataTable) return;\n",
       "\n",
       "          const docLinkHtml = 'Like what you see? Visit the ' +\n",
       "            '<a target=\"_blank\" href=https://colab.research.google.com/notebooks/data_table.ipynb>data table notebook</a>'\n",
       "            + ' to learn more about interactive tables.';\n",
       "          element.innerHTML = '';\n",
       "          dataTable['output_type'] = 'display_data';\n",
       "          await google.colab.output.renderOutput(dataTable, element);\n",
       "          const docLink = document.createElement('div');\n",
       "          docLink.innerHTML = docLinkHtml;\n",
       "          element.appendChild(docLink);\n",
       "        }\n",
       "      </script>\n",
       "    </div>\n",
       "  </div>\n",
       "  "
      ],
      "text/plain": [
       "   Precision  Recall  Threshold\n",
       "0    0.05988     1.0          0\n",
       "1    1.00000     0.5          1"
      ]
     },
     "execution_count": 55,
     "metadata": {},
     "output_type": "execute_result"
    }
   ],
   "source": [
    "df_recall_precision = pd.DataFrame({'Precision':precision[:-1],\n",
    "                                    'Recall':recall[:-1],\n",
    "                                    'Threshold':thresholds})\n",
    "df_recall_precision.head()"
   ]
  },
  {
   "cell_type": "code",
   "execution_count": null,
   "metadata": {
    "colab": {
     "base_uri": "https://localhost:8080/"
    },
    "id": "o6FInQ3ceD5l",
    "outputId": "9738848e-006d-42ed-8cc9-ba8c0b807ce7"
   },
   "outputs": [
    {
     "name": "stdout",
     "output_type": "stream",
     "text": [
      "Best threshold:  1\n",
      "Best F1-Score:  0.6666666666666666\n"
     ]
    }
   ],
   "source": [
    "f1_scores = 2*recall*precision/(recall+precision)\n",
    "print('Best threshold: ', thresholds[np.argmax(f1_scores)])\n",
    "print('Best F1-Score: ', np.max(f1_scores))"
   ]
  },
  {
   "cell_type": "markdown",
   "metadata": {
    "id": "WseuyNq8Tv51"
   },
   "source": [
    "## Feature ablation method (Original dataset)"
   ]
  },
  {
   "cell_type": "code",
   "execution_count": null,
   "metadata": {
    "id": "fJmytpINVpMN"
   },
   "outputs": [],
   "source": [
    "set_threshold=0.0759"
   ]
  },
  {
   "cell_type": "code",
   "execution_count": null,
   "metadata": {
    "id": "ZfLX9K0YT_no"
   },
   "outputs": [],
   "source": [
    "# def score_model(X_train, X_test, y_train, y_test):\n",
    "#   abl_model=RandomForestClassifier(max_depth=4,n_estimators=100)\n",
    "#   abl_model.fit(X_train,y_train)\n",
    "#   predicted_proba = abl_model.predict_proba(X_test)\n",
    "#   predicted = (predicted_proba [:,1] >= set_threshold).astype('int')\n",
    "#   return accuracy_score(y_test, predicted)"
   ]
  },
  {
   "cell_type": "code",
   "execution_count": null,
   "metadata": {
    "id": "gx3Oa5Yx1JgQ"
   },
   "outputs": [],
   "source": [
    "from sklearn.metrics import average_precision_score"
   ]
  },
  {
   "cell_type": "code",
   "execution_count": null,
   "metadata": {
    "id": "7suxJppDi3iL"
   },
   "outputs": [],
   "source": [
    "def score_model(X_train, X_test, y_train, y_test):\n",
    "  abl_model=RandomForestClassifier(max_depth=4,n_estimators=100)\n",
    "  abl_model.fit(X_train,y_train)\n",
    "  predicted_proba = abl_model.predict_proba(X_test)\n",
    "  prob_list=list(predicted_proba)\n",
    "  prob_array=np.array([item[1] for item in prob_list])\n",
    "  predicted = (predicted_proba [:,1] >= set_threshold).astype('int')\n",
    "  CM = confusion_matrix(y_test,predicted)\n",
    "  TN = CM[0][0]\n",
    "  FN = CM[1][0]\n",
    "  TP = CM[1][1]\n",
    "  FP = CM[0][1]\n",
    "  TPR = TP/(TP+FN)\n",
    "  TNR = TN/(TN+FP)\n",
    "  PPV = TP/(TP+FP)\n",
    "  F_one=2/((1/TP)+(1/PPV))\n",
    "  auroc=roc_auc_score(y_test, predicted)\n",
    "  auprc=average_precision_score(y_test, prob_array)\n",
    "  return accuracy_score(y_test, predicted),TPR,TNR,F_one,auroc,auprc\n"
   ]
  },
  {
   "cell_type": "code",
   "execution_count": null,
   "metadata": {
    "colab": {
     "base_uri": "https://localhost:8080/"
    },
    "id": "MrtIiOGuZkYo",
    "outputId": "3304d4c4-7c37-4f12-854a-25e3899d03ad"
   },
   "outputs": [
    {
     "data": {
      "text/plain": [
       "(0.874251497005988,\n",
       " 0.6,\n",
       " 0.89171974522293,\n",
       " 0.5106382978723404,\n",
       " 0.745859872611465,\n",
       " 0.574050713625219)"
      ]
     },
     "execution_count": 106,
     "metadata": {},
     "output_type": "execute_result"
    }
   ],
   "source": [
    "score_model(X_train, X_test, y_train, y_test)"
   ]
  },
  {
   "cell_type": "code",
   "execution_count": null,
   "metadata": {
    "id": "iA_qjZhkZ5VH"
   },
   "outputs": [],
   "source": [
    "base_acc = score_model(X_train, X_test, y_train, y_test)[0]\n",
    "base_tpr = score_model(X_train, X_test, y_train, y_test)[1]\n",
    "base_tnr = score_model(X_train, X_test, y_train, y_test)[2]\n",
    "base_f_one = score_model(X_train, X_test, y_train, y_test)[3]\n",
    "base_roc=score_model(X_train, X_test, y_train, y_test)[4]\n",
    "base_prc=score_model(X_train, X_test, y_train, y_test)[5]"
   ]
  },
  {
   "cell_type": "code",
   "execution_count": null,
   "metadata": {
    "id": "yZvDQT5qdVcD"
   },
   "outputs": [],
   "source": [
    "# list(X_train.columns[use_column])"
   ]
  },
  {
   "cell_type": "code",
   "execution_count": null,
   "metadata": {
    "id": "7TDELiYWdr4t"
   },
   "outputs": [],
   "source": [
    "# X_train[list(X_train.columns[use_column])]"
   ]
  },
  {
   "cell_type": "code",
   "execution_count": null,
   "metadata": {
    "id": "nELtYL54mizz"
   },
   "outputs": [],
   "source": [
    "acc_list = []\n",
    "tpr_list = []\n",
    "tnr_list = []\n",
    "f_one_list = []\n",
    "roc_list=[]\n",
    "prc_list=[]"
   ]
  },
  {
   "cell_type": "code",
   "execution_count": null,
   "metadata": {
    "id": "du_8SXgzZ68o"
   },
   "outputs": [],
   "source": [
    "for i in range(X_train.shape[1]):\n",
    "    use_column = [ndx != i for ndx in range(X_train.shape[1])]\n",
    "    acc_list.append(score_model(X_train[list(X_train.columns[use_column])],X_test[list(X_train.columns[use_column])],y_train,y_test)[0])\n",
    "    tpr_list.append(score_model(X_train[list(X_train.columns[use_column])],X_test[list(X_train.columns[use_column])],y_train,y_test)[1])\n",
    "    tnr_list.append(score_model(X_train[list(X_train.columns[use_column])],X_test[list(X_train.columns[use_column])],y_train,y_test)[2])\n",
    "    f_one_list.append(score_model(X_train[list(X_train.columns[use_column])],X_test[list(X_train.columns[use_column])],y_train,y_test)[3])\n",
    "    roc_list.append(score_model(X_train[list(X_train.columns[use_column])],X_test[list(X_train.columns[use_column])],y_train,y_test)[4])\n",
    "    prc_list.append(score_model(X_train[list(X_train.columns[use_column])],X_test[list(X_train.columns[use_column])],y_train,y_test)[5])"
   ]
  },
  {
   "cell_type": "code",
   "execution_count": null,
   "metadata": {
    "colab": {
     "base_uri": "https://localhost:8080/"
    },
    "id": "MXREKaotfKmL",
    "outputId": "0721d46f-4b8b-44ac-dc0c-5c89edd277c5"
   },
   "outputs": [
    {
     "data": {
      "text/plain": [
       "[(1, 0.1107784431137725),\n",
       " (11, 0.03592814371257491),\n",
       " (5, 0.026946107784431184),\n",
       " (13, 0.017964071856287456),\n",
       " (15, 0.017964071856287456),\n",
       " (6, 0.014970059880239583),\n",
       " (17, 0.014970059880239583),\n",
       " (8, 0.011976047904191711),\n",
       " (0, 0.008982035928143728),\n",
       " (18, 0.008982035928143728),\n",
       " (9, 0.0029940119760479833),\n",
       " (10, 0.0029940119760479833),\n",
       " (16, 0.0029940119760479833),\n",
       " (2, 0.0),\n",
       " (20, 0.0),\n",
       " (4, -0.0059880239520957446),\n",
       " (7, -0.0059880239520957446),\n",
       " (14, -0.0059880239520957446),\n",
       " (3, -0.017964071856287345),\n",
       " (12, -0.03293413173652693),\n",
       " (19, -0.0359281437125748)]"
      ]
     },
     "execution_count": 110,
     "metadata": {},
     "output_type": "execute_result"
    }
   ],
   "source": [
    "sorted(enumerate([base_acc - s for s in acc_list]),key=lambda ndx_score: ndx_score[1],reverse=True)"
   ]
  },
  {
   "cell_type": "code",
   "execution_count": null,
   "metadata": {
    "id": "WB2rnvpDljgJ"
   },
   "outputs": [],
   "source": [
    "lst=sorted(enumerate([base_acc - s for s in acc_list]),key=lambda ndx_score: ndx_score[1],reverse=True)"
   ]
  },
  {
   "cell_type": "code",
   "execution_count": null,
   "metadata": {
    "id": "uM-thwBmlZNH"
   },
   "outputs": [],
   "source": [
    "lst2 = [item[0] for item in lst]"
   ]
  },
  {
   "cell_type": "code",
   "execution_count": null,
   "metadata": {
    "colab": {
     "base_uri": "https://localhost:8080/"
    },
    "id": "m-YULrSkl2hp",
    "outputId": "5c3f8495-a235-4615-f775-a3e4e0cd8ded"
   },
   "outputs": [
    {
     "data": {
      "text/plain": [
       "[1, 11, 5, 13, 15, 6, 17, 8, 0, 18, 9, 10, 16, 2, 20, 4, 7, 14, 3, 12, 19]"
      ]
     },
     "execution_count": 113,
     "metadata": {},
     "output_type": "execute_result"
    }
   ],
   "source": [
    "lst2"
   ]
  },
  {
   "cell_type": "code",
   "execution_count": null,
   "metadata": {
    "colab": {
     "base_uri": "https://localhost:8080/"
    },
    "id": "MHQ_Ohdwlug4",
    "outputId": "94d6348f-e933-4e97-f412-9f5fe85cf96c"
   },
   "outputs": [
    {
     "name": "stdout",
     "output_type": "stream",
     "text": [
      "Temperature\n",
      "Sweating\n",
      "Aches_or_pains\n",
      "Diarrhea\n",
      "Eye_pain\n",
      "Fatigue\n",
      "Chest_pain\n",
      "Lack_of_appetite\n",
      "Age\n",
      "Rash\n",
      "Cough\n",
      "Dizziness\n",
      "Paleness\n",
      "HemoCue\n",
      "Gender\n",
      "Chills\n",
      "Vomiting\n",
      "Lower_back_pain\n",
      "Headache\n",
      "Abdominal_pain\n",
      "Ear_pain\n"
     ]
    }
   ],
   "source": [
    "for x in lst2:\n",
    "  print(X_train.columns[x])"
   ]
  },
  {
   "cell_type": "code",
   "execution_count": null,
   "metadata": {
    "colab": {
     "base_uri": "https://localhost:8080/",
     "height": 422
    },
    "id": "pGjfpybWvDVs",
    "outputId": "be27aa4e-6948-46aa-8fb1-b73f7f83f806"
   },
   "outputs": [
    {
     "data": {
      "text/plain": [
       "Text(0.5, 0, 'Relative Importance')"
      ]
     },
     "execution_count": 119,
     "metadata": {},
     "output_type": "execute_result"
    },
    {
     "data": {
      "image/png": "[encoded data removed]",
      "text/plain": [
       "<Figure size 864x432 with 1 Axes>"
      ]
     },
     "metadata": {
      "needs_background": "light"
     },
     "output_type": "display_data"
    }
   ],
   "source": [
    "feature_names = X_train.columns\n",
    "importances = [item[1] for item in lst]\n",
    "indices = [item[0] for item in lst]\n",
    "plt.figure(figsize=(12,6))\n",
    "plt.title('Ablation Accuracy Importances')\n",
    "plt.barh(range(len(indices)), importances, color='b', align='center')\n",
    "plt.yticks(range(len(indices)),np.array(feature_names)[indices])\n",
    "plt.xlabel('Relative Importance')"
   ]
  },
  {
   "cell_type": "code",
   "execution_count": null,
   "metadata": {
    "colab": {
     "base_uri": "https://localhost:8080/"
    },
    "id": "bpJo7zhYoU6O",
    "outputId": "af568221-d74c-409b-a6a3-e9477ef31871"
   },
   "outputs": [
    {
     "data": {
      "text/plain": [
       "[(1, 0.15000000000000002),\n",
       " (12, 0.050000000000000044),\n",
       " (13, 0.050000000000000044),\n",
       " (17, 0.050000000000000044),\n",
       " (3, 0.0),\n",
       " (4, 0.0),\n",
       " (6, 0.0),\n",
       " (7, 0.0),\n",
       " (9, 0.0),\n",
       " (10, 0.0),\n",
       " (11, 0.0),\n",
       " (14, 0.0),\n",
       " (15, 0.0),\n",
       " (16, 0.0),\n",
       " (19, 0.0),\n",
       " (20, 0.0),\n",
       " (0, -0.04999999999999993),\n",
       " (2, -0.04999999999999993),\n",
       " (5, -0.04999999999999993),\n",
       " (8, -0.04999999999999993),\n",
       " (18, -0.04999999999999993)]"
      ]
     },
     "execution_count": 130,
     "metadata": {},
     "output_type": "execute_result"
    }
   ],
   "source": [
    "sorted(enumerate([base_tpr - s for s in tpr_list]),key=lambda ndx_score: ndx_score[1],reverse=True)"
   ]
  },
  {
   "cell_type": "code",
   "execution_count": null,
   "metadata": {
    "id": "w6q60IfeoqDn"
   },
   "outputs": [],
   "source": [
    "lst=sorted(enumerate([base_tpr - s for s in tpr_list]),key=lambda ndx_score: ndx_score[1],reverse=True)"
   ]
  },
  {
   "cell_type": "code",
   "execution_count": null,
   "metadata": {
    "id": "yy6I8o20oxbv"
   },
   "outputs": [],
   "source": [
    "lst2 = [item[0] for item in lst]"
   ]
  },
  {
   "cell_type": "code",
   "execution_count": null,
   "metadata": {
    "colab": {
     "base_uri": "https://localhost:8080/"
    },
    "id": "S7hO0IyeoycJ",
    "outputId": "70c59744-d009-4a85-e803-375c6b2d32a1"
   },
   "outputs": [
    {
     "name": "stdout",
     "output_type": "stream",
     "text": [
      "Temperature\n",
      "Abdominal_pain\n",
      "Diarrhea\n",
      "Chest_pain\n",
      "Headache\n",
      "Chills\n",
      "Fatigue\n",
      "Vomiting\n",
      "Cough\n",
      "Dizziness\n",
      "Sweating\n",
      "Lower_back_pain\n",
      "Eye_pain\n",
      "Paleness\n",
      "Ear_pain\n",
      "Gender\n",
      "Age\n",
      "HemoCue\n",
      "Aches_or_pains\n",
      "Lack_of_appetite\n",
      "Rash\n"
     ]
    }
   ],
   "source": [
    "for x in lst2:\n",
    "  print(X_train.columns[x])"
   ]
  },
  {
   "cell_type": "code",
   "execution_count": null,
   "metadata": {
    "colab": {
     "base_uri": "https://localhost:8080/",
     "height": 422
    },
    "id": "DvlFq-Rvw61C",
    "outputId": "48a3d902-2183-4e7e-965a-dcbf0c212738"
   },
   "outputs": [
    {
     "data": {
      "text/plain": [
       "Text(0.5, 0, 'Relative Importance')"
      ]
     },
     "execution_count": 134,
     "metadata": {},
     "output_type": "execute_result"
    },
    {
     "data": {
      "image/png": "[encoded data removed]",
      "text/plain": [
       "<Figure size 864x432 with 1 Axes>"
      ]
     },
     "metadata": {
      "needs_background": "light"
     },
     "output_type": "display_data"
    }
   ],
   "source": [
    "feature_names = X_train.columns\n",
    "importances = [item[1] for item in lst]\n",
    "indices = [item[0] for item in lst]\n",
    "plt.figure(figsize=(12,6))\n",
    "plt.title('Ablation TPR Importances')\n",
    "plt.barh(range(len(indices)), importances, color='b', align='center')\n",
    "plt.yticks(range(len(indices)),np.array(feature_names)[indices])\n",
    "plt.xlabel('Relative Importance')"
   ]
  },
  {
   "cell_type": "code",
   "execution_count": null,
   "metadata": {
    "colab": {
     "base_uri": "https://localhost:8080/"
    },
    "id": "bGs0Auy0pGLp",
    "outputId": "b792d4d2-e68b-45b2-b6ce-fd9065533904"
   },
   "outputs": [
    {
     "data": {
      "text/plain": [
       "[(1, 0.07006369426751591),\n",
       " (8, 0.006369426751592355),\n",
       " (11, 0.006369426751592355),\n",
       " (0, -0.0031847133757961776),\n",
       " (7, -0.0031847133757961776),\n",
       " (9, -0.0031847133757961776),\n",
       " (2, -0.006369426751592355),\n",
       " (10, -0.006369426751592355),\n",
       " (4, -0.009554140127388533),\n",
       " (6, -0.009554140127388533),\n",
       " (15, -0.009554140127388533),\n",
       " (16, -0.009554140127388533),\n",
       " (17, -0.01273885350318471),\n",
       " (18, -0.01273885350318471),\n",
       " (19, -0.01273885350318471),\n",
       " (20, -0.01273885350318471),\n",
       " (5, -0.022292993630573243),\n",
       " (13, -0.022292993630573243),\n",
       " (14, -0.02547770700636942),\n",
       " (3, -0.0286624203821656),\n",
       " (12, -0.05414012738853502)]"
      ]
     },
     "execution_count": 135,
     "metadata": {},
     "output_type": "execute_result"
    }
   ],
   "source": [
    "sorted(enumerate([base_tnr - s for s in tnr_list]),key=lambda ndx_score: ndx_score[1],reverse=True)"
   ]
  },
  {
   "cell_type": "code",
   "execution_count": null,
   "metadata": {
    "id": "puF910X9pRCv"
   },
   "outputs": [],
   "source": [
    "lst=sorted(enumerate([base_tnr - s for s in tnr_list]),key=lambda ndx_score: ndx_score[1],reverse=True)"
   ]
  },
  {
   "cell_type": "code",
   "execution_count": null,
   "metadata": {
    "id": "OHFl3dOnpV7F"
   },
   "outputs": [],
   "source": [
    "lst2 = [item[0] for item in lst]"
   ]
  },
  {
   "cell_type": "code",
   "execution_count": null,
   "metadata": {
    "colab": {
     "base_uri": "https://localhost:8080/"
    },
    "id": "EV-vTWzcpXCM",
    "outputId": "655df00a-cfdc-47a3-8990-0a0866907e19"
   },
   "outputs": [
    {
     "name": "stdout",
     "output_type": "stream",
     "text": [
      "Temperature\n",
      "Lack_of_appetite\n",
      "Sweating\n",
      "Age\n",
      "Vomiting\n",
      "Cough\n",
      "HemoCue\n",
      "Dizziness\n",
      "Chills\n",
      "Fatigue\n",
      "Eye_pain\n",
      "Paleness\n",
      "Chest_pain\n",
      "Rash\n",
      "Ear_pain\n",
      "Gender\n",
      "Aches_or_pains\n",
      "Diarrhea\n",
      "Lower_back_pain\n",
      "Headache\n",
      "Abdominal_pain\n"
     ]
    }
   ],
   "source": [
    "for x in lst2:\n",
    "  print(X_train.columns[x])"
   ]
  },
  {
   "cell_type": "code",
   "execution_count": null,
   "metadata": {
    "colab": {
     "base_uri": "https://localhost:8080/",
     "height": 422
    },
    "id": "sucpZ8HIwvtn",
    "outputId": "49952884-6398-4cb7-e2f4-090027de6184"
   },
   "outputs": [
    {
     "data": {
      "text/plain": [
       "Text(0.5, 0, 'Relative Importance')"
      ]
     },
     "execution_count": 139,
     "metadata": {},
     "output_type": "execute_result"
    },
    {
     "data": {
      "image/png": "[encoded data removed]",
      "text/plain": [
       "<Figure size 864x432 with 1 Axes>"
      ]
     },
     "metadata": {
      "needs_background": "light"
     },
     "output_type": "display_data"
    }
   ],
   "source": [
    "feature_names = X_train.columns\n",
    "importances = [item[1] for item in lst]\n",
    "indices = [item[0] for item in lst]\n",
    "plt.figure(figsize=(12,6))\n",
    "plt.title('Ablation TNR Importances')\n",
    "plt.barh(range(len(indices)), importances, color='b', align='center')\n",
    "plt.yticks(range(len(indices)),np.array(feature_names)[indices])\n",
    "plt.xlabel('Relative Importance')"
   ]
  },
  {
   "cell_type": "code",
   "execution_count": null,
   "metadata": {
    "colab": {
     "base_uri": "https://localhost:8080/"
    },
    "id": "QEKnHInopd9I",
    "outputId": "bc6e75dd-a518-4659-cd39-7de218172fc7"
   },
   "outputs": [
    {
     "data": {
      "text/plain": [
       "[(1, 0.3112332531776022),\n",
       " (7, 0.11350844277673544),\n",
       " (11, 0.11350844277673544),\n",
       " (17, 0.09658536585365851),\n",
       " (19, 0.09658536585365851),\n",
       " (16, 0.09214092140921415),\n",
       " (10, 0.0782520325203252),\n",
       " (2, 0.06599713055954093),\n",
       " (18, 0.06599713055954093),\n",
       " (5, 0.05832449628844116),\n",
       " (3, 0.056585365853658476),\n",
       " (4, 0.056585365853658476),\n",
       " (20, 0.047696476964769696),\n",
       " (8, 0.03658536585365846),\n",
       " (14, 0.0),\n",
       " (15, -0.0039551746868820015),\n",
       " (6, -0.027517198248905528),\n",
       " (0, -0.03484320557491283),\n",
       " (9, -0.03484320557491283),\n",
       " (13, -0.042362002567394086),\n",
       " (12, -0.17309205350118007)]"
      ]
     },
     "execution_count": 140,
     "metadata": {},
     "output_type": "execute_result"
    }
   ],
   "source": [
    "sorted(enumerate([base_f_one - s for s in f_one_list]),key=lambda ndx_score: ndx_score[1],reverse=True)"
   ]
  },
  {
   "cell_type": "code",
   "execution_count": null,
   "metadata": {
    "id": "A0EJwdy3pxxn"
   },
   "outputs": [],
   "source": [
    "lst=sorted(enumerate([base_f_one - s for s in f_one_list]),key=lambda ndx_score: ndx_score[1],reverse=True)"
   ]
  },
  {
   "cell_type": "code",
   "execution_count": null,
   "metadata": {
    "id": "DW_JAMNxp5TW"
   },
   "outputs": [],
   "source": [
    "lst2 = [item[0] for item in lst]"
   ]
  },
  {
   "cell_type": "code",
   "execution_count": null,
   "metadata": {
    "colab": {
     "base_uri": "https://localhost:8080/"
    },
    "id": "7scsjlpEp7UD",
    "outputId": "d7d6a0a4-bf47-4b14-d327-7dc78090e33e"
   },
   "outputs": [
    {
     "name": "stdout",
     "output_type": "stream",
     "text": [
      "Temperature\n",
      "Vomiting\n",
      "Sweating\n",
      "Chest_pain\n",
      "Ear_pain\n",
      "Paleness\n",
      "Dizziness\n",
      "HemoCue\n",
      "Rash\n",
      "Aches_or_pains\n",
      "Headache\n",
      "Chills\n",
      "Gender\n",
      "Lack_of_appetite\n",
      "Lower_back_pain\n",
      "Eye_pain\n",
      "Fatigue\n",
      "Age\n",
      "Cough\n",
      "Diarrhea\n",
      "Abdominal_pain\n"
     ]
    }
   ],
   "source": [
    "for x in lst2:\n",
    "  print(X_train.columns[x])"
   ]
  },
  {
   "cell_type": "code",
   "execution_count": null,
   "metadata": {
    "colab": {
     "base_uri": "https://localhost:8080/",
     "height": 422
    },
    "id": "0JlwtaPPxIY4",
    "outputId": "b9406cd4-633e-4cfd-e28d-03bc3225b15f"
   },
   "outputs": [
    {
     "data": {
      "text/plain": [
       "Text(0.5, 0, 'Relative Importance')"
      ]
     },
     "execution_count": 144,
     "metadata": {},
     "output_type": "execute_result"
    },
    {
     "data": {
      "image/png": "[encoded data removed]",
      "text/plain": [
       "<Figure size 864x432 with 1 Axes>"
      ]
     },
     "metadata": {
      "needs_background": "light"
     },
     "output_type": "display_data"
    }
   ],
   "source": [
    "feature_names = X_train.columns\n",
    "importances = [item[1] for item in lst]\n",
    "indices = [item[0] for item in lst]\n",
    "plt.figure(figsize=(12,6))\n",
    "plt.title('Ablation f1 score Importances')\n",
    "plt.barh(range(len(indices)), importances, color='b', align='center')\n",
    "plt.yticks(range(len(indices)),np.array(feature_names)[indices])\n",
    "plt.xlabel('Relative Importance')"
   ]
  },
  {
   "cell_type": "code",
   "execution_count": null,
   "metadata": {
    "colab": {
     "base_uri": "https://localhost:8080/"
    },
    "id": "FTiqN5ei4KOm",
    "outputId": "27e61c76-a774-413f-cffd-e6cfea84e36f"
   },
   "outputs": [
    {
     "data": {
      "text/plain": [
       "[(1, 0.16050955414012757),\n",
       " (11, 0.04570063694267523),\n",
       " (15, 0.0441082802547772),\n",
       " (5, 0.042515923566879055),\n",
       " (9, 0.04092356687898091),\n",
       " (16, 0.03933121019108288),\n",
       " (4, 0.0361464968152867),\n",
       " (13, 0.0361464968152867),\n",
       " (17, 0.034554140127388666),\n",
       " (20, 0.034554140127388666),\n",
       " (3, 0.03296178343949052),\n",
       " (14, 0.03296178343949052),\n",
       " (18, 0.03296178343949052),\n",
       " (7, 0.03136942675159249),\n",
       " (6, 0.027070063694267565),\n",
       " (2, 0.017515923566879033),\n",
       " (19, 0.017515923566879033),\n",
       " (12, 0.017038216560509634),\n",
       " (10, 0.015923566878980888),\n",
       " (8, 0.01273885350318471),\n",
       " (0, -0.0011146496815285234)]"
      ]
     },
     "execution_count": 145,
     "metadata": {},
     "output_type": "execute_result"
    }
   ],
   "source": [
    "sorted(enumerate([base_roc - s for s in roc_list]),key=lambda ndx_score: ndx_score[1],reverse=True)"
   ]
  },
  {
   "cell_type": "code",
   "execution_count": null,
   "metadata": {
    "id": "Y6xZPpEA4KST"
   },
   "outputs": [],
   "source": [
    "lst=sorted(enumerate([base_roc - s for s in roc_list]),key=lambda ndx_score: ndx_score[1],reverse=True)"
   ]
  },
  {
   "cell_type": "code",
   "execution_count": null,
   "metadata": {
    "id": "PAIsFveb4KUL"
   },
   "outputs": [],
   "source": [
    "lst2 = [item[0] for item in lst]"
   ]
  },
  {
   "cell_type": "code",
   "execution_count": null,
   "metadata": {
    "colab": {
     "base_uri": "https://localhost:8080/"
    },
    "id": "kzQRmkQx4qyd",
    "outputId": "9804f339-ccc2-40c3-e8cc-b1cc8468731d"
   },
   "outputs": [
    {
     "name": "stdout",
     "output_type": "stream",
     "text": [
      "Temperature\n",
      "Sweating\n",
      "Eye_pain\n",
      "Aches_or_pains\n",
      "Cough\n",
      "Paleness\n",
      "Chills\n",
      "Diarrhea\n",
      "Chest_pain\n",
      "Gender\n",
      "Headache\n",
      "Lower_back_pain\n",
      "Rash\n",
      "Vomiting\n",
      "Fatigue\n",
      "HemoCue\n",
      "Ear_pain\n",
      "Abdominal_pain\n",
      "Dizziness\n",
      "Lack_of_appetite\n",
      "Age\n"
     ]
    }
   ],
   "source": [
    "for x in lst2:\n",
    "  print(X_train.columns[x])"
   ]
  },
  {
   "cell_type": "code",
   "execution_count": null,
   "metadata": {
    "colab": {
     "base_uri": "https://localhost:8080/",
     "height": 422
    },
    "id": "DodJHcNoxWkr",
    "outputId": "51d90bd6-aa75-4ecb-a7f8-f764ef1ab357"
   },
   "outputs": [
    {
     "data": {
      "text/plain": [
       "Text(0.5, 0, 'Relative Importance')"
      ]
     },
     "execution_count": 149,
     "metadata": {},
     "output_type": "execute_result"
    },
    {
     "data": {
      "image/png": "[encoded data removed]",
      "text/plain": [
       "<Figure size 864x432 with 1 Axes>"
      ]
     },
     "metadata": {
      "needs_background": "light"
     },
     "output_type": "display_data"
    }
   ],
   "source": [
    "feature_names = X_train.columns\n",
    "importances = [item[1] for item in lst]\n",
    "indices = [item[0] for item in lst]\n",
    "plt.figure(figsize=(12,6))\n",
    "plt.title('Ablation AUROC Importances')\n",
    "plt.barh(range(len(indices)), importances, color='b', align='center')\n",
    "plt.yticks(range(len(indices)),np.array(feature_names)[indices])\n",
    "plt.xlabel('Relative Importance')"
   ]
  },
  {
   "cell_type": "code",
   "execution_count": null,
   "metadata": {
    "colab": {
     "base_uri": "https://localhost:8080/"
    },
    "id": "jLeQY4UD40FV",
    "outputId": "9beaaafa-e9fe-4fd6-b7c5-a08b6193b072"
   },
   "outputs": [
    {
     "data": {
      "text/plain": [
       "[(1, 0.35961129975113626),\n",
       " (8, 0.004236452604794216),\n",
       " (14, 0.004231810517000056),\n",
       " (6, 0.0032935003164992205),\n",
       " (3, 0.0012682186914555471),\n",
       " (0, 0.0003866902073426104),\n",
       " (18, -0.00016472025358560405),\n",
       " (11, -0.0009442547749188845),\n",
       " (2, -0.0013618754521387277),\n",
       " (20, -0.001364096628484357),\n",
       " (4, -0.0020582540811148187),\n",
       " (12, -0.0037501848086077816),\n",
       " (10, -0.005006864994255289),\n",
       " (16, -0.006836207009652706),\n",
       " (5, -0.00840505130294944),\n",
       " (15, -0.009233301496267443),\n",
       " (7, -0.010743395618156626),\n",
       " (17, -0.012346394659200954),\n",
       " (19, -0.012782775981304062),\n",
       " (9, -0.012807237107526626),\n",
       " (13, -0.028415055708141068)]"
      ]
     },
     "execution_count": 150,
     "metadata": {},
     "output_type": "execute_result"
    }
   ],
   "source": [
    "sorted(enumerate([base_prc - s for s in prc_list]),key=lambda ndx_score: ndx_score[1],reverse=True)"
   ]
  },
  {
   "cell_type": "code",
   "execution_count": null,
   "metadata": {
    "id": "iyf0O3Xk5Aes"
   },
   "outputs": [],
   "source": [
    "lst=sorted(enumerate([base_prc - s for s in prc_list]),key=lambda ndx_score: ndx_score[1],reverse=True)"
   ]
  },
  {
   "cell_type": "code",
   "execution_count": null,
   "metadata": {
    "id": "CmMPvaLN5GxR"
   },
   "outputs": [],
   "source": [
    "lst2 = [item[0] for item in lst]"
   ]
  },
  {
   "cell_type": "code",
   "execution_count": null,
   "metadata": {
    "colab": {
     "base_uri": "https://localhost:8080/"
    },
    "id": "aemJIZNY5L-k",
    "outputId": "21de6bff-811f-4df3-d939-eb19c32171a0"
   },
   "outputs": [
    {
     "name": "stdout",
     "output_type": "stream",
     "text": [
      "Temperature\n",
      "Lack_of_appetite\n",
      "Lower_back_pain\n",
      "Fatigue\n",
      "Headache\n",
      "Age\n",
      "Rash\n",
      "Sweating\n",
      "HemoCue\n",
      "Gender\n",
      "Chills\n",
      "Abdominal_pain\n",
      "Dizziness\n",
      "Paleness\n",
      "Aches_or_pains\n",
      "Eye_pain\n",
      "Vomiting\n",
      "Chest_pain\n",
      "Ear_pain\n",
      "Cough\n",
      "Diarrhea\n"
     ]
    }
   ],
   "source": [
    "for x in lst2:\n",
    "  print(X_train.columns[x])"
   ]
  },
  {
   "cell_type": "code",
   "execution_count": null,
   "metadata": {
    "colab": {
     "base_uri": "https://localhost:8080/",
     "height": 422
    },
    "id": "O9H94I9dxjXK",
    "outputId": "2e8afc13-7f53-400f-91ff-c60085158a20"
   },
   "outputs": [
    {
     "data": {
      "text/plain": [
       "Text(0.5, 0, 'Relative Importance')"
      ]
     },
     "execution_count": 154,
     "metadata": {},
     "output_type": "execute_result"
    },
    {
     "data": {
      "image/png": "[encoded data removed]",
      "text/plain": [
       "<Figure size 864x432 with 1 Axes>"
      ]
     },
     "metadata": {
      "needs_background": "light"
     },
     "output_type": "display_data"
    }
   ],
   "source": [
    "feature_names = X_train.columns\n",
    "importances = [item[1] for item in lst]\n",
    "indices = [item[0] for item in lst]\n",
    "plt.figure(figsize=(12,6))\n",
    "plt.title('Ablation AUPRC Importances')\n",
    "plt.barh(range(len(indices)), importances, color='b', align='center')\n",
    "plt.yticks(range(len(indices)),np.array(feature_names)[indices])\n",
    "plt.xlabel('Relative Importance')"
   ]
  },
  {
   "cell_type": "markdown",
   "metadata": {
    "id": "vNwG-iA1w69R"
   },
   "source": [
    "## Feature ablation wih non-informative value (Original dataset)\n"
   ]
  },
  {
   "cell_type": "code",
   "execution_count": null,
   "metadata": {
    "id": "juVK-9JLezH2"
   },
   "outputs": [],
   "source": [
    "median = X_train.median()\n",
    "mode = X_train.mode().iloc[0]\n",
    "t = np.append(np.array(median[:3]),np.array(mode[3:]))"
   ]
  },
  {
   "cell_type": "code",
   "execution_count": null,
   "metadata": {
    "colab": {
     "base_uri": "https://localhost:8080/"
    },
    "id": "W59MhQ7te4vc",
    "outputId": "7d6d8ca1-a7e0-4ba5-e3c9-437a99c3c1b0"
   },
   "outputs": [
    {
     "data": {
      "text/plain": [
       "array([30.  , 98.45, 12.6 ,  1.  ,  0.  ,  0.  ,  0.  ,  0.  ,  0.  ,\n",
       "        0.  ,  0.  ,  0.  ,  0.  ,  0.  ,  0.  ,  0.  ,  0.  ,  0.  ,\n",
       "        0.  ,  0.  ,  1.  ])"
      ]
     },
     "execution_count": 156,
     "metadata": {},
     "output_type": "execute_result"
    }
   ],
   "source": [
    "t"
   ]
  },
  {
   "cell_type": "code",
   "execution_count": null,
   "metadata": {
    "id": "cDNWd9mXqLh3"
   },
   "outputs": [],
   "source": [
    "acc_list_2 = []\n",
    "tpr_list_2 = []\n",
    "tnr_list_2 = []\n",
    "f_one_list_2 = []\n",
    "roc_list_2=[]\n",
    "prc_list_2=[]"
   ]
  },
  {
   "cell_type": "code",
   "execution_count": null,
   "metadata": {
    "id": "ZiXQ8EtKe7jy"
   },
   "outputs": [],
   "source": [
    "for i in range(X_train.shape[1]):\n",
    "  X_temp=X_train.copy()\n",
    "  X_temp_2=X_test.copy()\n",
    "  X_temp[X_temp.columns[i]]=t[i]\n",
    "  # print(X_temp.head(5))\n",
    "  X_temp_2[X_temp_2.columns[i]]=t[i]\n",
    "  # dict[X_train.columns[i]]\n",
    "  # X_train[X_train.columns[i]]=t[i]\n",
    "  # X_test[X_test.columns[i]]=t[i]\n",
    "  acc_list_2.append(score_model(X_temp,X_temp_2,y_train,y_test)[0])\n",
    "  tpr_list_2.append(score_model(X_temp,X_temp_2,y_train,y_test)[1])\n",
    "  tnr_list_2.append(score_model(X_temp,X_temp_2,y_train,y_test)[2])\n",
    "  f_one_list_2.append(score_model(X_temp,X_temp_2,y_train,y_test)[3])\n",
    "  roc_list_2.append(score_model(X_temp,X_temp_2,y_train,y_test)[4])\n",
    "  prc_list_2.append(score_model(X_temp,X_temp_2,y_train,y_test)[5])\n",
    "\n"
   ]
  },
  {
   "cell_type": "code",
   "execution_count": null,
   "metadata": {
    "colab": {
     "base_uri": "https://localhost:8080/"
    },
    "id": "PNhmUb1Ke_lr",
    "outputId": "17b4cb0f-2064-4686-ae82-d1c5531a87b2"
   },
   "outputs": [
    {
     "data": {
      "text/plain": [
       "[(1, 0.0988023952095809),\n",
       " (8, 0.03293413173652704),\n",
       " (19, 0.03293413173652704),\n",
       " (13, 0.029940119760479056),\n",
       " (14, 0.029940119760479056),\n",
       " (16, 0.02095808383233544),\n",
       " (20, 0.02095808383233544),\n",
       " (6, 0.017964071856287456),\n",
       " (2, 0.014970059880239583),\n",
       " (10, 0.011976047904191711),\n",
       " (0, 0.008982035928143728),\n",
       " (15, 0.008982035928143728),\n",
       " (18, 0.008982035928143728),\n",
       " (17, 0.005988023952095856),\n",
       " (4, 0.0029940119760479833),\n",
       " (7, 0.0029940119760479833),\n",
       " (9, 0.0029940119760479833),\n",
       " (11, 0.0),\n",
       " (5, -0.0029940119760478723),\n",
       " (3, -0.0059880239520957446),\n",
       " (12, -0.017964071856287345)]"
      ]
     },
     "execution_count": 159,
     "metadata": {},
     "output_type": "execute_result"
    }
   ],
   "source": [
    "sorted(enumerate([base_acc - s for s in acc_list_2]),\n",
    "       key=lambda ndx_score: ndx_score[1],\n",
    "       reverse=True)"
   ]
  },
  {
   "cell_type": "code",
   "execution_count": null,
   "metadata": {
    "id": "kXKgmCCdfDC-"
   },
   "outputs": [],
   "source": [
    "lst_3=sorted(enumerate([base_acc - s for s in acc_list_2]),key=lambda ndx_score: ndx_score[1],reverse=True)"
   ]
  },
  {
   "cell_type": "code",
   "execution_count": null,
   "metadata": {
    "id": "dWN7uScofGme"
   },
   "outputs": [],
   "source": [
    "lst_4 = [item[0] for item in lst_3]"
   ]
  },
  {
   "cell_type": "code",
   "execution_count": null,
   "metadata": {
    "colab": {
     "base_uri": "https://localhost:8080/"
    },
    "id": "PN_BNObRfJWX",
    "outputId": "130f55e1-dfe1-4544-c4f9-08d46142fd3a"
   },
   "outputs": [
    {
     "name": "stdout",
     "output_type": "stream",
     "text": [
      "Temperature\n",
      "Lack_of_appetite\n",
      "Ear_pain\n",
      "Diarrhea\n",
      "Lower_back_pain\n",
      "Paleness\n",
      "Gender\n",
      "Fatigue\n",
      "HemoCue\n",
      "Dizziness\n",
      "Age\n",
      "Eye_pain\n",
      "Rash\n",
      "Chest_pain\n",
      "Chills\n",
      "Vomiting\n",
      "Cough\n",
      "Sweating\n",
      "Aches_or_pains\n",
      "Headache\n",
      "Abdominal_pain\n"
     ]
    }
   ],
   "source": [
    "for x in lst_4:\n",
    "  print(X_train.columns[x])"
   ]
  },
  {
   "cell_type": "code",
   "execution_count": null,
   "metadata": {
    "colab": {
     "base_uri": "https://localhost:8080/",
     "height": 422
    },
    "id": "8qwUMwijxzyY",
    "outputId": "86db0866-2734-4a24-f11c-fe4e69dcc4ca"
   },
   "outputs": [
    {
     "data": {
      "text/plain": [
       "Text(0.5, 0, 'Relative Importance')"
      ]
     },
     "execution_count": 163,
     "metadata": {},
     "output_type": "execute_result"
    },
    {
     "data": {
      "image/png": "[encoded data removed]",
      "text/plain": [
       "<Figure size 864x432 with 1 Axes>"
      ]
     },
     "metadata": {
      "needs_background": "light"
     },
     "output_type": "display_data"
    }
   ],
   "source": [
    "feature_names = X_train.columns\n",
    "importances = [item[1] for item in lst_3]\n",
    "indices = [item[0] for item in lst_3]\n",
    "plt.figure(figsize=(12,6))\n",
    "plt.title('Ablation Accuracy Importances')\n",
    "plt.barh(range(len(indices)), importances, color='b', align='center')\n",
    "plt.yticks(range(len(indices)),np.array(feature_names)[indices])\n",
    "plt.xlabel('Relative Importance')"
   ]
  },
  {
   "cell_type": "code",
   "execution_count": null,
   "metadata": {
    "colab": {
     "base_uri": "https://localhost:8080/"
    },
    "id": "b0rLQG0LrUsz",
    "outputId": "a8c2213c-e5b4-4290-eed4-1d3b8c8adb95"
   },
   "outputs": [
    {
     "data": {
      "text/plain": [
       "[(1, 0.20000000000000007),\n",
       " (13, 0.050000000000000044),\n",
       " (0, 0.0),\n",
       " (2, 0.0),\n",
       " (3, 0.0),\n",
       " (4, 0.0),\n",
       " (7, 0.0),\n",
       " (8, 0.0),\n",
       " (9, 0.0),\n",
       " (10, 0.0),\n",
       " (11, 0.0),\n",
       " (12, 0.0),\n",
       " (14, 0.0),\n",
       " (17, 0.0),\n",
       " (18, 0.0),\n",
       " (19, 0.0),\n",
       " (5, -0.04999999999999993),\n",
       " (6, -0.04999999999999993),\n",
       " (15, -0.04999999999999993),\n",
       " (16, -0.04999999999999993),\n",
       " (20, -0.04999999999999993)]"
      ]
     },
     "execution_count": 164,
     "metadata": {},
     "output_type": "execute_result"
    }
   ],
   "source": [
    "sorted(enumerate([base_tpr - s for s in tpr_list_2]),\n",
    "       key=lambda ndx_score: ndx_score[1],\n",
    "       reverse=True)"
   ]
  },
  {
   "cell_type": "code",
   "execution_count": null,
   "metadata": {
    "id": "s5zpla4yrUwP"
   },
   "outputs": [],
   "source": [
    "lst_3=sorted(enumerate([base_tpr - s for s in tpr_list_2]),\n",
    "       key=lambda ndx_score: ndx_score[1],\n",
    "       reverse=True)"
   ]
  },
  {
   "cell_type": "code",
   "execution_count": null,
   "metadata": {
    "id": "hzlxA6AqrUyT"
   },
   "outputs": [],
   "source": [
    "lst_4 = [item[0] for item in lst_3]"
   ]
  },
  {
   "cell_type": "code",
   "execution_count": null,
   "metadata": {
    "colab": {
     "base_uri": "https://localhost:8080/"
    },
    "id": "xa0se_4krU1g",
    "outputId": "0541a2b2-7602-4f0d-9b88-485cf3d4c8ef"
   },
   "outputs": [
    {
     "name": "stdout",
     "output_type": "stream",
     "text": [
      "Temperature\n",
      "Diarrhea\n",
      "Age\n",
      "HemoCue\n",
      "Headache\n",
      "Chills\n",
      "Vomiting\n",
      "Lack_of_appetite\n",
      "Cough\n",
      "Dizziness\n",
      "Sweating\n",
      "Abdominal_pain\n",
      "Lower_back_pain\n",
      "Chest_pain\n",
      "Rash\n",
      "Ear_pain\n",
      "Aches_or_pains\n",
      "Fatigue\n",
      "Eye_pain\n",
      "Paleness\n",
      "Gender\n"
     ]
    }
   ],
   "source": [
    "for x in lst_4:\n",
    "  print(X_train.columns[x])"
   ]
  },
  {
   "cell_type": "code",
   "execution_count": null,
   "metadata": {
    "colab": {
     "base_uri": "https://localhost:8080/",
     "height": 422
    },
    "id": "_wi-QAfIyJp6",
    "outputId": "6a90e129-545a-4776-e1fc-661632b19420"
   },
   "outputs": [
    {
     "data": {
      "text/plain": [
       "Text(0.5, 0, 'Relative Importance')"
      ]
     },
     "execution_count": 168,
     "metadata": {},
     "output_type": "execute_result"
    },
    {
     "data": {
      "image/png": "[encoded data removed]",
      "text/plain": [
       "<Figure size 864x432 with 1 Axes>"
      ]
     },
     "metadata": {
      "needs_background": "light"
     },
     "output_type": "display_data"
    }
   ],
   "source": [
    "feature_names = X_train.columns\n",
    "importances = [item[1] for item in lst_3]\n",
    "indices = [item[0] for item in lst_3]\n",
    "plt.figure(figsize=(12,6))\n",
    "plt.title('Ablation TPR Importances')\n",
    "plt.barh(range(len(indices)), importances, color='b', align='center')\n",
    "plt.yticks(range(len(indices)),np.array(feature_names)[indices])\n",
    "plt.xlabel('Relative Importance')"
   ]
  },
  {
   "cell_type": "code",
   "execution_count": null,
   "metadata": {
    "colab": {
     "base_uri": "https://localhost:8080/"
    },
    "id": "GQ-1nXEurU3f",
    "outputId": "14a66771-91cc-4f2c-c2d3-065da9722e72"
   },
   "outputs": [
    {
     "data": {
      "text/plain": [
       "[(1, 0.060509554140127375),\n",
       " (0, 0.015923566878980888),\n",
       " (11, 0.006369426751592355),\n",
       " (8, 0.0031847133757961776),\n",
       " (9, -0.0031847133757961776),\n",
       " (2, -0.006369426751592355),\n",
       " (15, -0.006369426751592355),\n",
       " (14, -0.01273885350318471),\n",
       " (19, -0.01273885350318471),\n",
       " (4, -0.015923566878980888),\n",
       " (17, -0.015923566878980888),\n",
       " (18, -0.019108280254777066),\n",
       " (20, -0.019108280254777066),\n",
       " (13, -0.022292993630573243),\n",
       " (3, -0.02547770700636942),\n",
       " (16, -0.02547770700636942),\n",
       " (5, -0.0286624203821656),\n",
       " (7, -0.0286624203821656),\n",
       " (10, -0.035031847133757954),\n",
       " (12, -0.047770700636942665),\n",
       " (6, -0.05414012738853502)]"
      ]
     },
     "execution_count": 169,
     "metadata": {},
     "output_type": "execute_result"
    }
   ],
   "source": [
    "sorted(enumerate([base_tnr - s for s in tnr_list_2]),\n",
    "       key=lambda ndx_score: ndx_score[1],\n",
    "       reverse=True)"
   ]
  },
  {
   "cell_type": "code",
   "execution_count": null,
   "metadata": {
    "id": "KJCiCmO8rU6l"
   },
   "outputs": [],
   "source": [
    "lst_3=sorted(enumerate([base_tnr - s for s in tnr_list_2]),\n",
    "       key=lambda ndx_score: ndx_score[1],\n",
    "       reverse=True)"
   ]
  },
  {
   "cell_type": "code",
   "execution_count": null,
   "metadata": {
    "id": "9yuoD_s9rU84"
   },
   "outputs": [],
   "source": [
    "lst_4 = [item[0] for item in lst_3]"
   ]
  },
  {
   "cell_type": "code",
   "execution_count": null,
   "metadata": {
    "colab": {
     "base_uri": "https://localhost:8080/"
    },
    "id": "jiqkn4tfrVAE",
    "outputId": "60384802-960e-47d4-eba8-2ded9a1a170e"
   },
   "outputs": [
    {
     "name": "stdout",
     "output_type": "stream",
     "text": [
      "Temperature\n",
      "Age\n",
      "Sweating\n",
      "Lack_of_appetite\n",
      "Cough\n",
      "HemoCue\n",
      "Eye_pain\n",
      "Lower_back_pain\n",
      "Ear_pain\n",
      "Chills\n",
      "Chest_pain\n",
      "Rash\n",
      "Gender\n",
      "Diarrhea\n",
      "Headache\n",
      "Paleness\n",
      "Aches_or_pains\n",
      "Vomiting\n",
      "Dizziness\n",
      "Abdominal_pain\n",
      "Fatigue\n"
     ]
    }
   ],
   "source": [
    "for x in lst_4:\n",
    "  print(X_train.columns[x])"
   ]
  },
  {
   "cell_type": "code",
   "execution_count": null,
   "metadata": {
    "colab": {
     "base_uri": "https://localhost:8080/",
     "height": 422
    },
    "id": "QVLkuDpIyObF",
    "outputId": "7434fa80-d2e6-4ec4-fbc9-c3859cc2c870"
   },
   "outputs": [
    {
     "data": {
      "text/plain": [
       "Text(0.5, 0, 'Relative Importance')"
      ]
     },
     "execution_count": 173,
     "metadata": {},
     "output_type": "execute_result"
    },
    {
     "data": {
      "image/png": "[encoded data removed]",
      "text/plain": [
       "<Figure size 864x432 with 1 Axes>"
      ]
     },
     "metadata": {
      "needs_background": "light"
     },
     "output_type": "display_data"
    }
   ],
   "source": [
    "feature_names = X_train.columns\n",
    "importances = [item[1] for item in lst_3]\n",
    "indices = [item[0] for item in lst_3]\n",
    "plt.figure(figsize=(12,6))\n",
    "plt.title('Ablation TNR Importances')\n",
    "plt.barh(range(len(indices)), importances, color='b', align='center')\n",
    "plt.yticks(range(len(indices)),np.array(feature_names)[indices])\n",
    "plt.xlabel('Relative Importance')"
   ]
  },
  {
   "cell_type": "code",
   "execution_count": null,
   "metadata": {
    "colab": {
     "base_uri": "https://localhost:8080/"
    },
    "id": "D77gOTqOxcu-",
    "outputId": "0f256433-1fe5-4d05-8004-a265cdc58bd1"
   },
   "outputs": [
    {
     "data": {
      "text/plain": [
       "[(1, 0.3232520325203252),\n",
       " (7, 0.10521281683405076),\n",
       " (6, 0.09658536585365851),\n",
       " (8, 0.08760577401692393),\n",
       " (3, 0.0782520325203252),\n",
       " (20, 0.0782520325203252),\n",
       " (15, 0.075046904315197),\n",
       " (5, 0.06850025947067984),\n",
       " (10, 0.056585365853658476),\n",
       " (0, 0.047696476964769696),\n",
       " (2, 0.047696476964769696),\n",
       " (9, 0.047696476964769696),\n",
       " (17, 0.03658536585365857),\n",
       " (18, 0.03658536585365846),\n",
       " (19, 0.03658536585365846),\n",
       " (14, 0.024957458876914362),\n",
       " (13, 0.012775842044134733),\n",
       " (16, 0.012775842044134733),\n",
       " (11, -0.008869179600886845),\n",
       " (4, -0.021554169030062353),\n",
       " (12, -0.15091463414634154)]"
      ]
     },
     "execution_count": 174,
     "metadata": {},
     "output_type": "execute_result"
    }
   ],
   "source": [
    "sorted(enumerate([base_f_one - s for s in f_one_list_2]),\n",
    "       key=lambda ndx_score: ndx_score[1],\n",
    "       reverse=True)"
   ]
  },
  {
   "cell_type": "code",
   "execution_count": null,
   "metadata": {
    "id": "qlaWOSz2xrPw"
   },
   "outputs": [],
   "source": [
    "lst_3=sorted(enumerate([base_f_one - s for s in f_one_list_2]),\n",
    "       key=lambda ndx_score: ndx_score[1],\n",
    "       reverse=True)"
   ]
  },
  {
   "cell_type": "code",
   "execution_count": null,
   "metadata": {
    "id": "tf5_fKQbxvdL"
   },
   "outputs": [],
   "source": [
    "lst_4 = [item[0] for item in lst_3]"
   ]
  },
  {
   "cell_type": "code",
   "execution_count": null,
   "metadata": {
    "colab": {
     "base_uri": "https://localhost:8080/"
    },
    "id": "Y59U5uC0xxUf",
    "outputId": "62566dcb-5dcd-4645-d199-af1750086e88"
   },
   "outputs": [
    {
     "name": "stdout",
     "output_type": "stream",
     "text": [
      "Temperature\n",
      "Vomiting\n",
      "Fatigue\n",
      "Lack_of_appetite\n",
      "Headache\n",
      "Gender\n",
      "Eye_pain\n",
      "Aches_or_pains\n",
      "Dizziness\n",
      "Age\n",
      "HemoCue\n",
      "Cough\n",
      "Chest_pain\n",
      "Rash\n",
      "Ear_pain\n",
      "Lower_back_pain\n",
      "Diarrhea\n",
      "Paleness\n",
      "Sweating\n",
      "Chills\n",
      "Abdominal_pain\n"
     ]
    }
   ],
   "source": [
    "for x in lst_4:\n",
    "  print(X_train.columns[x])"
   ]
  },
  {
   "cell_type": "code",
   "execution_count": null,
   "metadata": {
    "colab": {
     "base_uri": "https://localhost:8080/",
     "height": 422
    },
    "id": "oZ6INC-JyT6U",
    "outputId": "65a870fb-bd19-4c73-f242-20147b90c9a5"
   },
   "outputs": [
    {
     "data": {
      "text/plain": [
       "Text(0.5, 0, 'Relative Importance')"
      ]
     },
     "execution_count": 178,
     "metadata": {},
     "output_type": "execute_result"
    },
    {
     "data": {
      "image/png": "[encoded data removed]",
      "text/plain": [
       "<Figure size 864x432 with 1 Axes>"
      ]
     },
     "metadata": {
      "needs_background": "light"
     },
     "output_type": "display_data"
    }
   ],
   "source": [
    "feature_names = X_train.columns\n",
    "importances = [item[1] for item in lst_3]\n",
    "indices = [item[0] for item in lst_3]\n",
    "plt.figure(figsize=(12,6))\n",
    "plt.title('Ablation f1 score Importances')\n",
    "plt.barh(range(len(indices)), importances, color='b', align='center')\n",
    "plt.yticks(range(len(indices)),np.array(feature_names)[indices])\n",
    "plt.xlabel('Relative Importance')"
   ]
  },
  {
   "cell_type": "code",
   "execution_count": null,
   "metadata": {
    "colab": {
     "base_uri": "https://localhost:8080/"
    },
    "id": "ku_JXx6e6CiY",
    "outputId": "06c566c8-2f65-48b6-83c3-a8cf8dcd7afa"
   },
   "outputs": [
    {
     "data": {
      "text/plain": [
       "[(1, 0.17117834394904463),\n",
       " (20, 0.04888535031847141),\n",
       " (16, 0.04570063694267523),\n",
       " (3, 0.0441082802547772),\n",
       " (10, 0.0441082802547772),\n",
       " (6, 0.042515923566879055),\n",
       " (8, 0.04092356687898091),\n",
       " (9, 0.03933121019108288),\n",
       " (17, 0.03933121019108288),\n",
       " (19, 0.03933121019108288),\n",
       " (13, 0.03773885350318473),\n",
       " (5, 0.0361464968152867),\n",
       " (0, 0.034554140127388666),\n",
       " (7, 0.034554140127388666),\n",
       " (18, 0.029777070063694344),\n",
       " (14, 0.0281847133757962),\n",
       " (11, 0.027070063694267565),\n",
       " (2, 0.02070063694267521),\n",
       " (15, 0.02070063694267521),\n",
       " (4, 0.0079617834394905),\n",
       " (12, -0.009554140127388533)]"
      ]
     },
     "execution_count": 179,
     "metadata": {},
     "output_type": "execute_result"
    }
   ],
   "source": [
    "sorted(enumerate([base_roc - s for s in roc_list_2]),\n",
    "       key=lambda ndx_score: ndx_score[1],\n",
    "       reverse=True)"
   ]
  },
  {
   "cell_type": "code",
   "execution_count": null,
   "metadata": {
    "id": "M07xH77l6ClC"
   },
   "outputs": [],
   "source": [
    "lst_3=sorted(enumerate([base_roc - s for s in roc_list_2]),\n",
    "       key=lambda ndx_score: ndx_score[1],\n",
    "       reverse=True)"
   ]
  },
  {
   "cell_type": "code",
   "execution_count": null,
   "metadata": {
    "id": "aoTDV5586CoY"
   },
   "outputs": [],
   "source": [
    "lst_4 = [item[0] for item in lst_3]"
   ]
  },
  {
   "cell_type": "code",
   "execution_count": null,
   "metadata": {
    "colab": {
     "base_uri": "https://localhost:8080/"
    },
    "id": "n8VdZijZ6Cqo",
    "outputId": "3ff9cfd2-89c3-4ff0-ec84-ca8f6530bbb5"
   },
   "outputs": [
    {
     "name": "stdout",
     "output_type": "stream",
     "text": [
      "Temperature\n",
      "Gender\n",
      "Paleness\n",
      "Headache\n",
      "Dizziness\n",
      "Fatigue\n",
      "Lack_of_appetite\n",
      "Cough\n",
      "Chest_pain\n",
      "Ear_pain\n",
      "Diarrhea\n",
      "Aches_or_pains\n",
      "Age\n",
      "Vomiting\n",
      "Rash\n",
      "Lower_back_pain\n",
      "Sweating\n",
      "HemoCue\n",
      "Eye_pain\n",
      "Chills\n",
      "Abdominal_pain\n"
     ]
    }
   ],
   "source": [
    "for x in lst_4:\n",
    "  print(X_train.columns[x])"
   ]
  },
  {
   "cell_type": "code",
   "execution_count": null,
   "metadata": {
    "colab": {
     "base_uri": "https://localhost:8080/",
     "height": 422
    },
    "id": "sModbcfvyhVC",
    "outputId": "49c481ac-f3dd-4afb-9d92-487bf67e0665"
   },
   "outputs": [
    {
     "data": {
      "text/plain": [
       "Text(0.5, 0, 'Relative Importance')"
      ]
     },
     "execution_count": 184,
     "metadata": {},
     "output_type": "execute_result"
    },
    {
     "data": {
      "image/png": "[encoded data removed]",
      "text/plain": [
       "<Figure size 864x432 with 1 Axes>"
      ]
     },
     "metadata": {
      "needs_background": "light"
     },
     "output_type": "display_data"
    }
   ],
   "source": [
    "feature_names = X_train.columns\n",
    "importances = [item[1] for item in lst_3]\n",
    "indices = [item[0] for item in lst_3]\n",
    "plt.figure(figsize=(12,6))\n",
    "plt.title('Ablation AUROC Importances')\n",
    "plt.barh(range(len(indices)), importances, color='b', align='center')\n",
    "plt.yticks(range(len(indices)),np.array(feature_names)[indices])\n",
    "plt.xlabel('Relative Importance')"
   ]
  },
  {
   "cell_type": "code",
   "execution_count": null,
   "metadata": {
    "colab": {
     "base_uri": "https://localhost:8080/"
    },
    "id": "l4gKO-MQ6Ct8",
    "outputId": "634be795-38ed-415f-b51b-9fda36e19e12"
   },
   "outputs": [
    {
     "data": {
      "text/plain": [
       "[(1, 0.4334536146512625),\n",
       " (13, 0.012293780796667875),\n",
       " (18, 0.005170540426565617),\n",
       " (12, 0.005107303235796223),\n",
       " (16, 0.004103086420522373),\n",
       " (15, 0.00011352041746892638),\n",
       " (4, -0.0004076786422642087),\n",
       " (11, -0.0010625413753118096),\n",
       " (9, -0.001325729225807759),\n",
       " (17, -0.0016949060572798436),\n",
       " (2, -0.0020635432970220746),\n",
       " (20, -0.002959278478303129),\n",
       " (10, -0.0037199495202983046),\n",
       " (8, -0.004152330800980764),\n",
       " (19, -0.005748718982562684),\n",
       " (14, -0.008304684131575146),\n",
       " (6, -0.0092697775859224),\n",
       " (7, -0.010016101944248179),\n",
       " (3, -0.011208171813365086),\n",
       " (0, -0.014761303397621939),\n",
       " (5, -0.02524749358804179)]"
      ]
     },
     "execution_count": 185,
     "metadata": {},
     "output_type": "execute_result"
    }
   ],
   "source": [
    "sorted(enumerate([base_prc - s for s in prc_list_2]),\n",
    "       key=lambda ndx_score: ndx_score[1],\n",
    "       reverse=True)"
   ]
  },
  {
   "cell_type": "code",
   "execution_count": null,
   "metadata": {
    "id": "nxiPFiVf6Cv2"
   },
   "outputs": [],
   "source": [
    "lst_3=sorted(enumerate([base_prc - s for s in prc_list_2]),\n",
    "       key=lambda ndx_score: ndx_score[1],\n",
    "       reverse=True)"
   ]
  },
  {
   "cell_type": "code",
   "execution_count": null,
   "metadata": {
    "id": "c2XVFDpz6nqT"
   },
   "outputs": [],
   "source": [
    "lst_4 = [item[0] for item in lst_3]"
   ]
  },
  {
   "cell_type": "code",
   "execution_count": null,
   "metadata": {
    "colab": {
     "base_uri": "https://localhost:8080/"
    },
    "id": "8YWXjZXt6qjK",
    "outputId": "622e6abe-9b91-41f7-d9e4-b82d0437520c"
   },
   "outputs": [
    {
     "name": "stdout",
     "output_type": "stream",
     "text": [
      "Temperature\n",
      "Diarrhea\n",
      "Rash\n",
      "Abdominal_pain\n",
      "Paleness\n",
      "Eye_pain\n",
      "Chills\n",
      "Sweating\n",
      "Cough\n",
      "Chest_pain\n",
      "HemoCue\n",
      "Gender\n",
      "Dizziness\n",
      "Lack_of_appetite\n",
      "Ear_pain\n",
      "Lower_back_pain\n",
      "Fatigue\n",
      "Vomiting\n",
      "Headache\n",
      "Age\n",
      "Aches_or_pains\n"
     ]
    }
   ],
   "source": [
    "for x in lst_4:\n",
    "  print(X_train.columns[x])"
   ]
  },
  {
   "cell_type": "code",
   "execution_count": null,
   "metadata": {
    "colab": {
     "base_uri": "https://localhost:8080/",
     "height": 422
    },
    "id": "cVv7FuMDynb4",
    "outputId": "134a4e00-9d09-4089-ff88-75bdaf22a805"
   },
   "outputs": [
    {
     "data": {
      "text/plain": [
       "Text(0.5, 0, 'Relative Importance')"
      ]
     },
     "execution_count": 189,
     "metadata": {},
     "output_type": "execute_result"
    },
    {
     "data": {
      "image/png": "[encoded data removed]",
      "text/plain": [
       "<Figure size 864x432 with 1 Axes>"
      ]
     },
     "metadata": {
      "needs_background": "light"
     },
     "output_type": "display_data"
    }
   ],
   "source": [
    "feature_names = X_train.columns\n",
    "importances = [item[1] for item in lst_3]\n",
    "indices = [item[0] for item in lst_3]\n",
    "plt.figure(figsize=(12,6))\n",
    "plt.title('Ablation AUPRC Importances')\n",
    "plt.barh(range(len(indices)), importances, color='b', align='center')\n",
    "plt.yticks(range(len(indices)),np.array(feature_names)[indices])\n",
    "plt.xlabel('Relative Importance')"
   ]
  },
  {
   "cell_type": "markdown",
   "metadata": {
    "id": "E9zTnyzTa1t7"
   },
   "source": [
    "## Faith (Original dataset)"
   ]
  },
  {
   "cell_type": "code",
   "execution_count": null,
   "metadata": {
    "id": "jSxOEBiaCyws"
   },
   "outputs": [],
   "source": [
    "#  X_train.iloc[:,[3, 6, 7]]"
   ]
  },
  {
   "cell_type": "code",
   "execution_count": null,
   "metadata": {
    "colab": {
     "base_uri": "https://localhost:8080/"
    },
    "id": "QQYArhHROcdi",
    "outputId": "7f897bfc-af0e-4261-8af2-59dcb7bb873b"
   },
   "outputs": [
    {
     "name": "stderr",
     "output_type": "stream",
     "text": [
      " 99%|===================| 1983/2000 [00:31<00:00]       "
     ]
    }
   ],
   "source": [
    "shap_values_rf_3 = tree_explainer.shap_values(X_train,check_additivity=False)"
   ]
  },
  {
   "cell_type": "code",
   "execution_count": null,
   "metadata": {
    "id": "Fn1Gaycoa3el"
   },
   "outputs": [],
   "source": [
    "def generate(mask, x, n_sample):\n",
    "    fixed_indices = np.where(mask) ##True\n",
    "    variable_indices = np.where(mask == 0) ## False\n",
    "    # mode, ,median\n",
    "    i = list(variable_indices[0])\n",
    "    X_cond = t[i]\n",
    "    X = np.zeros((n_sample, len(mask)))\n",
    "    # print(list(variable_indices[0]))\n",
    "    # print(X[:,variable_indices].shape)\n",
    "    X[:, list(variable_indices[0])] = X_cond\n",
    "    X[:, list(fixed_indices[0])] = x[fixed_indices]\n",
    "    # X[:, list(fixed_indices[0])] = x[fixed_indices]\n",
    "    return X"
   ]
  },
  {
   "cell_type": "code",
   "execution_count": null,
   "metadata": {
    "id": "vJJoPpeBbpft"
   },
   "outputs": [],
   "source": [
    "def faith(X, y, trained_model, feature_weights,X_train=None, y_train=None, n_sample=100, X_train_feature_weights=None):\n",
    "\n",
    "    X = X.values\n",
    "    num_datapoints, num_features = X.shape\n",
    "    absolute_weights = np.abs(feature_weights)\n",
    "\n",
    "    \n",
    "    model_predict = trained_model.predict_proba(X)    \n",
    "\n",
    "    faithfulnesses = []\n",
    "    for i in range(num_datapoints):\n",
    "        \"\"\"\n",
    "        for each datapoint i, compute the correlation between feature weights\n",
    "        and the delta in prediction when ablating each feature with replacement\n",
    "        \"\"\"\n",
    "\n",
    "        # original prediction      \n",
    "        # y_pred = np.squeeze(model_predict[i][1])\n",
    "        # y_pred = model_predict[i][1]\n",
    "        y_pred = model_predict[i][1]\n",
    "        # y_pred = np.mean(np.squeeze(model_predict))\n",
    "        y_preds_new = np.zeros_like(np.array(X)[i]) # 21 0's\n",
    "\n",
    "        for j in range(num_features):\n",
    "            # generate a mask [1,1, ... 1]\n",
    "            mask = np.ones_like(np.array(X)[i]) # 21 1's\n",
    "            mask[j] = 0\n",
    "            # mask = 1 - mask\n",
    "            # sample n_sample datapoints with feature j ablated\n",
    "            x_sampled = generate(mask=mask, x=np.array(X)[i], n_sample=n_sample)\n",
    "            # sampled=pd.concat([x_sampled, np.zeros_like(y)], axis=1)\n",
    "            # print(i, x_sampled)\n",
    "            y_pred_new=np.array([item[1] for item in list(trained_model.predict_proba(x_sampled))])\n",
    "            # y_pred_new = trained_model.predict_proba(x_sampled)\n",
    "            # compute mean over n\n",
    "            y_preds_new[j] = np.mean(y_pred_new) ## Plug in new pred prob in place of  0's\n",
    "            # y_preds_new[j] = np.mean(np.squeeze(y_pred_new))\n",
    "\n",
    "        # print('y_pred', y_pred, 'y_pred_new', y_preds_new[j], 'result', y_pred - y_preds_new[j])\n",
    "        deltas = [abs(y_pred - y_preds_new[j]) for j in range(num_features)]\n",
    "        \n",
    "        faithfulness = np.corrcoef(absolute_weights[i], deltas)[0, 1]\n",
    "        # if np.isnan(faithfulness) or not np.isfinite(faithfulness):\n",
    "        #     faithfulness = 0\n",
    "        faithfulnesses.append(faithfulness)\n",
    "\n",
    "    return np.mean(faithfulnesses)"
   ]
  },
  {
   "cell_type": "code",
   "execution_count": null,
   "metadata": {
    "colab": {
     "base_uri": "https://localhost:8080/"
    },
    "id": "Bcpvjf_hdJkf",
    "outputId": "1b1e36f7-a1e3-4cd7-e50f-8dd2b8ebe9fc"
   },
   "outputs": [
    {
     "data": {
      "text/plain": [
       "0.41854003188559974"
      ]
     },
     "execution_count": 84,
     "metadata": {},
     "output_type": "execute_result"
    }
   ],
   "source": [
    "faith(X_train, y_train, b_model, shap_values_rf_3[1])"
   ]
  },
  {
   "cell_type": "markdown",
   "metadata": {
    "id": "at9pXN9nb37I"
   },
   "source": [
    "##Monotocity (Original dataset)"
   ]
  },
  {
   "cell_type": "code",
   "execution_count": null,
   "metadata": {
    "id": "PO_6r5RWScVT"
   },
   "outputs": [],
   "source": [
    "def mono(X, y, trained_model, feature_weights,  avg=True, X_train=None, y_train=None, n_sample=100, X_train_feature_weights=None):\n",
    "      X = X.values\n",
    "      num_datapoints, num_features = X.shape\n",
    "      absolute_weights = abs(feature_weights)\n",
    "\n",
    "  \n",
    "      model_predict = trained_model.predict_proba(X) \n",
    "\n",
    "      \n",
    "      monotonicities = []\n",
    "\n",
    "      y_preds_mean = np.mean(model_predict)\n",
    "\n",
    "      for i in range(num_datapoints):\n",
    "          mask = np.zeros_like(np.array(X)[i]) # 21 0's\n",
    "          sorted_weight_indices = np.argsort(absolute_weights[i])\n",
    "          sorted_weight_indices = sorted_weight_indices[::-1]\n",
    "          y_preds_new = np.zeros(len(np.array(X)[i])+1) #22 0's\n",
    "          y_preds_new[0] = y_preds_mean\n",
    "\n",
    "          for j in sorted_weight_indices:\n",
    "              mask[j] = 1\n",
    "              x_sampled= generate(mask=mask, x=np.array(X)[i], n_sample=n_sample)\n",
    "              y_pred_new=np.array([item[1] for item in list(trained_model.predict_proba(x_sampled))])\n",
    "              y_preds_new[j+1] = np.mean(y_pred_new)\n",
    "\n",
    "          # deltas = np.abs(np.diff(y_preds_new))\n",
    "          order_list=list(sorted_weight_indices)#large to small\n",
    "          new_order_preds=y_preds_new[order_list]\n",
    "          new_order_preds=new_order_preds[::-1] #small to large\n",
    "          deltas = np.abs(np.diff(new_order_preds))\n",
    "          # deltas = deltas[::-1]\n",
    "          monotonicity = sum(np.diff(deltas) >= 0) / (num_features-1)\n",
    "          monotonicities.append(monotonicity)\n",
    "      return np.mean(monotonicities)"
   ]
  },
  {
   "cell_type": "code",
   "execution_count": null,
   "metadata": {
    "colab": {
     "base_uri": "https://localhost:8080/"
    },
    "id": "0YwXdmp0Z4kM",
    "outputId": "0ed4a8f6-a12b-4c55-c5e5-a6cf3e8517dc"
   },
   "outputs": [
    {
     "data": {
      "text/plain": [
       "0.64695"
      ]
     },
     "execution_count": 102,
     "metadata": {},
     "output_type": "execute_result"
    }
   ],
   "source": [
    "mono(X_train, y_train, b_model, shap_values_rf_3[1])"
   ]
  }
 ],
 "metadata": {
  "colab": {
   "collapsed_sections": [
    "PDQQvDDGwqlR",
    "QAQlXZdTK8_u",
    "1u8bqmVMo49u"
   ],
   "name": "Vip_Random Forest.ipynb",
   "provenance": [],
   "toc_visible": true
  },
  "kernelspec": {
   "display_name": "Python 3",
   "language": "python",
   "name": "python3"
  },
  "language_info": {
   "codemirror_mode": {
    "name": "ipython",
    "version": 3
   },
   "file_extension": ".py",
   "mimetype": "text/x-python",
   "name": "python",
   "nbconvert_exporter": "python",
   "pygments_lexer": "ipython3",
   "version": "3.8.5"
  }
 },
 "nbformat": 4,
 "nbformat_minor": 1
}
